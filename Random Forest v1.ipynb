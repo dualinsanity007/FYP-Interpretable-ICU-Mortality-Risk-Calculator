{
 "cells": [
  {
   "cell_type": "code",
   "execution_count": 1,
   "metadata": {
    "scrolled": true
   },
   "outputs": [
    {
     "name": "stdout",
     "output_type": "stream",
     "text": [
      "<class 'pandas.core.frame.DataFrame'>\n",
      "RangeIndex: 36330 entries, 0 to 36329\n",
      "Data columns (total 29 columns):\n",
      " #   Column                       Non-Null Count  Dtype  \n",
      "---  ------                       --------------  -----  \n",
      " 0   icustay_id                   36330 non-null  int64  \n",
      " 1   day_28_flag                  36330 non-null  int64  \n",
      " 2   icu_exp_flag                 36330 non-null  int64  \n",
      " 3   day_28_after_discharge_flag  36330 non-null  int64  \n",
      " 4   ethnicity                    36330 non-null  object \n",
      " 5   gender                       36330 non-null  object \n",
      " 6   age                          36330 non-null  float64\n",
      " 7   length_of_stay               36330 non-null  float64\n",
      " 8   service_type                 36330 non-null  object \n",
      " 9   weight                       36330 non-null  float64\n",
      " 10  height                       36330 non-null  float64\n",
      " 11  sofa                         36330 non-null  int64  \n",
      " 12  DiasBP                       36330 non-null  float64\n",
      " 13  HeartRate                    36330 non-null  float64\n",
      " 14  MAP                          36330 non-null  float64\n",
      " 15  SpO2                         36330 non-null  float64\n",
      " 16  SysBP                        36330 non-null  float64\n",
      " 17  Temperature                  36330 non-null  float64\n",
      " 18  BUN                          36330 non-null  float64\n",
      " 19  CHLORIDE                     36330 non-null  float64\n",
      " 20  CREATININE                   36330 non-null  float64\n",
      " 21  HEMOGLOBIN                   36330 non-null  float64\n",
      " 22  PLATELET                     36330 non-null  float64\n",
      " 23  POTASSIUM                    36330 non-null  float64\n",
      " 24  SODIUM                       36330 non-null  float64\n",
      " 25  TOTALCO2                     36330 non-null  float64\n",
      " 26  WBC                          36330 non-null  float64\n",
      " 27  bmi                          36330 non-null  float64\n",
      " 28  eGFR                         36330 non-null  float64\n",
      "dtypes: float64(21), int64(5), object(3)\n",
      "memory usage: 8.0+ MB\n"
     ]
    }
   ],
   "source": [
    "import pandas as pd\n",
    "import numpy as np\n",
    "import matplotlib.pyplot as plt\n",
    "import seaborn as sns\n",
    "import scipy.stats as stats\n",
    "import math\n",
    "from imblearn.over_sampling import SMOTE, SMOTENC\n",
    "from collections import Counter\n",
    "\n",
    "df = pd.read_csv('final.csv')\n",
    "\n",
    "df.info()"
   ]
  },
  {
   "cell_type": "code",
   "execution_count": 2,
   "metadata": {},
   "outputs": [],
   "source": [
    "id_col = 'icustay_id'\n",
    "\n",
    "target_col = 'day_28_after_discharge_flag'\n",
    "\n",
    "#20 numerical columns\n",
    "numerical_cols = ['age', 'length_of_stay', 'sofa', 'DiasBP', 'HeartRate', 'MAP', 'SpO2',\n",
    "                 'SysBP', 'Temperature', 'BUN', 'CHLORIDE', 'CREATININE', 'HEMOGLOBIN', 'PLATELET', 'POTASSIUM',\n",
    "                 'SODIUM', 'TOTALCO2', 'WBC', 'bmi', 'eGFR']\n",
    "\n",
    "#2 categorical columns\n",
    "categorical_cols = ['gender', 'service_type']"
   ]
  },
  {
   "cell_type": "code",
   "execution_count": 3,
   "metadata": {},
   "outputs": [
    {
     "name": "stdout",
     "output_type": "stream",
     "text": [
      "***************Categorical_Columns****************\n",
      "There is no Null values in the categorical columns\n",
      "All categorical columns have more than 1 value.\n",
      "****************Numerical_Columns*****************\n",
      "There is no Null values in the numerical columns\n",
      "All numerical columns have more than 1 value. \n",
      "\n"
     ]
    }
   ],
   "source": [
    "# combine the functions above\n",
    "# check categorical columns\n",
    "def explore_categorical_columns(df,categorical_cols):\n",
    "    nunique_values = []\n",
    "    na_values = []\n",
    "    for col in categorical_cols:\n",
    "        nunique_values.append(df[col].nunique())\n",
    "        na_values.append(len(df.loc[df[col].isna()]))\n",
    "    df_stats_categorical = pd.DataFrame(list(zip(categorical_cols,nunique_values,na_values)),columns=['Column_Name','#Unique_Values','#Null_Value'])\n",
    "    df_null = df_stats_categorical[df_stats_categorical['#Null_Value']>0]\n",
    "    df_unique_value = df_stats_categorical[df_stats_categorical['#Unique_Values'] == 1]\n",
    "    if len(df_null) > 0:\n",
    "        print('Columns with Null value: %s'%(str(df_null['Column_Name'])))\n",
    "    else:\n",
    "        print('There is no Null values in the categorical columns')\n",
    "    if len(df_unique_value) > 0:\n",
    "        print('Columns with only 1 unique value: %s'%(str(list(df_unique_value['Column_Name']))))\n",
    "    else:\n",
    "        print('All categorical columns have more than 1 value.')\n",
    "        \n",
    "#check numerical columns\n",
    "def explore_numerical_columns(df,numerical_cols):\n",
    "    na_values = []\n",
    "    for col in numerical_cols:\n",
    "        na_values.append(len(df.loc[df[col].isna()]))\n",
    "    df_stats_numerical = pd.DataFrame(list(zip(numerical_cols,na_values)),columns=['Column_Name','#Null_Value'])\n",
    "    df_null = df_stats_numerical[df_stats_numerical['#Null_Value']>0]\n",
    "    df_stats = df[numerical_cols].describe().T\n",
    "    df_unique_value = df_stats[df_stats['std']==0]\n",
    "    \n",
    "    if len(df_null) > 0:\n",
    "        print('Columns with Null value: %s'%(str(df_null['Column_Name'])))\n",
    "    else:\n",
    "        print('There is no Null values in the numerical columns')\n",
    "    \n",
    "    if len(df_unique_value) > 0:\n",
    "        print('Columns with only 1 unique value: %s'%(str(list(df_unique_value.index))))\n",
    "    else:\n",
    "        print('All numerical columns have more than 1 value. \\n')\n",
    "\n",
    "#check categorical columns\n",
    "print('Categorical_Columns'.center(50,\"*\"))\n",
    "explore_categorical_columns(df,categorical_cols)\n",
    "print('Numerical_Columns'.center(50,\"*\"))\n",
    "#check numerical columns\n",
    "explore_numerical_columns(df,numerical_cols)"
   ]
  },
  {
   "cell_type": "code",
   "execution_count": 4,
   "metadata": {},
   "outputs": [
    {
     "data": {
      "text/plain": [
       "array([0, 1])"
      ]
     },
     "execution_count": 4,
     "metadata": {},
     "output_type": "execute_result"
    }
   ],
   "source": [
    "# Check target variable\n",
    "df[target_col].unique()"
   ]
  },
  {
   "cell_type": "code",
   "execution_count": 5,
   "metadata": {},
   "outputs": [
    {
     "data": {
      "text/plain": [
       "0    33746\n",
       "1     2584\n",
       "Name: day_28_after_discharge_flag, dtype: int64"
      ]
     },
     "execution_count": 5,
     "metadata": {},
     "output_type": "execute_result"
    }
   ],
   "source": [
    "# Check class imbalance\n",
    "df[target_col].value_counts()"
   ]
  },
  {
   "cell_type": "code",
   "execution_count": 6,
   "metadata": {},
   "outputs": [],
   "source": [
    "df_features = pd.concat([df[numerical_cols], df[categorical_cols]],axis=1)\n",
    "df_labels = df[target_col]"
   ]
  },
  {
   "cell_type": "markdown",
   "metadata": {},
   "source": [
    "# Random Forest with SMOTE-NC"
   ]
  },
  {
   "cell_type": "code",
   "execution_count": 7,
   "metadata": {},
   "outputs": [
    {
     "name": "stdout",
     "output_type": "stream",
     "text": [
      "Test set score: 0.909 +/- 0.002\n",
      "Recall: 0.199 +/- 0.013\n",
      "AUC: 0.809 +/- 0.007\n"
     ]
    }
   ],
   "source": [
    "# Baseline Random Forest Classifier\n",
    "\n",
    "from sklearn.ensemble import RandomForestClassifier\n",
    "from sklearn.model_selection import cross_val_score, train_test_split\n",
    "import sklearn.metrics as metrics\n",
    "from sklearn.metrics import classification_report, recall_score, confusion_matrix, roc_curve, auc\n",
    "from statistics import mean, stdev\n",
    "\n",
    "oversample = SMOTENC(categorical_features=[20, 21, 22, 23, 24, 25, 26])\n",
    "testscore = []\n",
    "recall = []\n",
    "auc = []\n",
    "\n",
    "for i in range(30):\n",
    "    # Split the data into train and test (75% - 25%)\n",
    "    train_x, test_x, y_train, y_test = train_test_split(df_features,df_labels,test_size=0.25,random_state=i)\n",
    "\n",
    "    # Preprocessing\n",
    "    numerical_train_x = train_x[numerical_cols].reset_index(drop=True)\n",
    "    categorical_train_x = pd.get_dummies(train_x[[var for var in categorical_cols]]).reset_index(drop=True)\n",
    "    X_train = pd.concat([numerical_train_x, categorical_train_x],axis=1)\n",
    "    numerical_test_x = test_x[numerical_cols].reset_index(drop=True)\n",
    "    categorical_test_x = pd.get_dummies(test_x[[var for var in categorical_cols]]).reset_index(drop=True)\n",
    "    X_test = pd.concat([numerical_test_x, categorical_test_x],axis=1)\n",
    "\n",
    "    # Modelling\n",
    "    X, y = oversample.fit_resample(X_train, y_train)\n",
    "\n",
    "    rfc = RandomForestClassifier()\n",
    "    rfc.fit(X, y)\n",
    "    \n",
    "    # test_accuracy_base\n",
    "    testscore.append(rfc.score(X_test,y_test))\n",
    "    y_true_base, y_pred_base = y_test , rfc.predict(X_test)\n",
    "    \n",
    "    # recall_base \n",
    "    recall.append(recall_score(y_true_base, y_pred_base))\n",
    "    \n",
    "    probs_base = rfc.predict_proba(X_test)\n",
    "    preds_base = probs_base[:,1]\n",
    "    fpr_base, tpr_base, threshold = metrics.roc_curve(y_true_base, preds_base)\n",
    "    \n",
    "    # roc_auc_base \n",
    "    auc.append(metrics.auc(fpr_base, tpr_base))\n",
    "\n",
    "print(\"Test set score: {0:.3f} +/- {1:.3f}\".format(mean(testscore), stdev(testscore)))\n",
    "print(\"Recall: {0:.3f} +/- {1:.3f}\".format(mean(recall), stdev(recall)))\n",
    "print(\"AUC: {0:.3f} +/- {1:.3f}\".format(mean(auc), stdev(auc)))"
   ]
  },
  {
   "cell_type": "markdown",
   "metadata": {},
   "source": [
    "# Hyperparameter Tuning - SMOTE-NC"
   ]
  },
  {
   "cell_type": "code",
   "execution_count": 7,
   "metadata": {},
   "outputs": [
    {
     "name": "stdout",
     "output_type": "stream",
     "text": [
      "Time taken for training the model: 3544.813205242157\n"
     ]
    }
   ],
   "source": [
    "from sklearn.ensemble import RandomForestClassifier\n",
    "from sklearn.model_selection import cross_val_score, train_test_split\n",
    "import sklearn.metrics as metrics\n",
    "from sklearn.metrics import classification_report, recall_score, confusion_matrix, roc_curve, auc\n",
    "from statistics import mean, stdev\n",
    "import sklearn.metrics as metrics\n",
    "from sklearn.model_selection import GridSearchCV\n",
    "import time\n",
    "\n",
    "start_time = time.time()\n",
    "\n",
    "max_depth = [int(x) for x in np.linspace(start = 2, stop = 50, num = 10)]\n",
    "oversample = SMOTENC(categorical_features=[20, 21, 22, 23, 24])\n",
    "\n",
    "test_total = []\n",
    "recall_total = []\n",
    "auc_total = []\n",
    "\n",
    "for i in range(30):\n",
    "    test = []\n",
    "    recall = []\n",
    "    auc = []\n",
    "    \n",
    "    # Split the data into train and test (75% - 25%)\n",
    "    train_x, test_x, y_train, y_test = train_test_split(df_features,df_labels,test_size=0.25,random_state=i)\n",
    "\n",
    "    # Preprocessing\n",
    "    numerical_train_x = train_x[numerical_cols].reset_index(drop=True)\n",
    "    categorical_train_x = pd.get_dummies(train_x[[var for var in categorical_cols]], drop_first = True).reset_index(drop=True)\n",
    "    X_train = pd.concat([numerical_train_x, categorical_train_x],axis=1)\n",
    "    numerical_test_x = test_x[numerical_cols].reset_index(drop=True)\n",
    "    categorical_test_x = pd.get_dummies(test_x[[var for var in categorical_cols]], drop_first = True).reset_index(drop=True)\n",
    "    X_test = pd.concat([numerical_test_x, categorical_test_x],axis=1)\n",
    "\n",
    "    # Modelling\n",
    "    X, y = oversample.fit_resample(X_train, y_train)\n",
    "\n",
    "    for d in max_depth:\n",
    "        rfc = RandomForestClassifier(max_depth = d)\n",
    "        rfc.fit(X, y)\n",
    "    \n",
    "        # test_accuracy\n",
    "        test.append(rfc.score(X_test,y_test))\n",
    "        y_true_base, y_pred_base = y_test , rfc.predict(X_test)\n",
    "    \n",
    "        # recall\n",
    "        recall.append(recall_score(y_true_base, y_pred_base))\n",
    "    \n",
    "        probs_base = rfc.predict_proba(X_test)\n",
    "        preds_base = probs_base[:,1]\n",
    "        fpr_base, tpr_base, threshold = metrics.roc_curve(y_true_base, preds_base)\n",
    "    \n",
    "        # roc_auc\n",
    "        auc.append(metrics.auc(fpr_base, tpr_base))\n",
    "    \n",
    "    test_total.append(test)\n",
    "    recall_total.append(recall)\n",
    "    auc_total.append(auc)\n",
    "\n",
    "test_total = list(zip(*test_total))\n",
    "recall_total = list(zip(*recall_total))\n",
    "auc_total = list(zip(*auc_total))\n",
    "\n",
    "test_mean = [mean(x) for x in test_total]\n",
    "recall_mean = [mean(x) for x in recall_total]\n",
    "auc_mean = [mean(x) for x in auc_total]\n",
    "\n",
    "print('Time taken for training the model: '+ str(time.time() - start_time))"
   ]
  },
  {
   "cell_type": "code",
   "execution_count": 9,
   "metadata": {},
   "outputs": [
    {
     "data": {
      "image/png": "[encoded data removed]",
      "text/plain": [
       "<Figure size 432x288 with 1 Axes>"
      ]
     },
     "metadata": {
      "needs_background": "light"
     },
     "output_type": "display_data"
    }
   ],
   "source": [
    "from matplotlib.legend_handler import HandlerLine2D\n",
    "import matplotlib.pyplot as plt\n",
    "\n",
    "plt.plot(max_depth, test_mean, color='b', label='Test Accuracy')\n",
    "plt.plot(max_depth, recall_mean, color='r', label='Recall')\n",
    "plt.plot(max_depth, auc_mean, color='g', label='AUC')\n",
    "plt.legend(loc = 'center right')\n",
    "plt.ylabel('Metrics')\n",
    "plt.xlabel('max_depth')\n",
    "plt.show()"
   ]
  },
  {
   "cell_type": "code",
   "execution_count": 13,
   "metadata": {},
   "outputs": [
    {
     "name": "stdout",
     "output_type": "stream",
     "text": [
      "Fitting 5 folds for each of 100 candidates, totalling 500 fits\n"
     ]
    },
    {
     "name": "stderr",
     "output_type": "stream",
     "text": [
      "[Parallel(n_jobs=-1)]: Using backend LokyBackend with 16 concurrent workers.\n",
      "[Parallel(n_jobs=-1)]: Done  18 tasks      | elapsed:  1.6min\n",
      "[Parallel(n_jobs=-1)]: Done 168 tasks      | elapsed: 10.7min\n",
      "[Parallel(n_jobs=-1)]: Done 418 tasks      | elapsed: 27.0min\n",
      "[Parallel(n_jobs=-1)]: Done 500 out of 500 | elapsed: 31.2min finished\n"
     ]
    }
   ],
   "source": [
    "# RFC - Randomised Tuning\n",
    "\n",
    "from sklearn.ensemble import RandomForestClassifier\n",
    "from sklearn.model_selection import cross_val_score, train_test_split, RandomizedSearchCV\n",
    "from sklearn.metrics import classification_report, recall_score, confusion_matrix, roc_curve, auc, make_scorer, accuracy_score\n",
    "from statistics import mean, stdev\n",
    "import seaborn as sns\n",
    "\n",
    "oversample = SMOTENC(categorical_features=[20, 21, 22, 23, 24])\n",
    "\n",
    "n_estimators = [int(x) for x in np.linspace(start = 100, stop = 500, num = 5)]\n",
    "max_features = ['log2', 'sqrt']\n",
    "min_samples_split = [int(x) for x in np.linspace(start = 2, stop = 50, num = 10)]\n",
    "min_samples_leaf = [int(x) for x in np.linspace(start = 2, stop = 30, num = 10)]\n",
    "bootstrap = [True, False]\n",
    "\n",
    "# Split the data into train and test (75% - 25%)\n",
    "train_x, test_x, y_train, y_test = train_test_split(df_features,df_labels,test_size=0.25)\n",
    "\n",
    "# Preprocessing\n",
    "numerical_train_x = train_x[numerical_cols].reset_index(drop=True)\n",
    "categorical_train_x = pd.get_dummies(train_x[[var for var in categorical_cols]], drop_first = True).reset_index(drop=True)\n",
    "X_train = pd.concat([numerical_train_x, categorical_train_x],axis=1)\n",
    "numerical_test_x = test_x[numerical_cols].reset_index(drop=True)\n",
    "categorical_test_x = pd.get_dummies(test_x[[var for var in categorical_cols]], drop_first = True).reset_index(drop=True)\n",
    "X_test = pd.concat([numerical_test_x, categorical_test_x],axis=1)\n",
    "\n",
    "# Modelling\n",
    "X, y = oversample.fit_resample(X_train, y_train)\n",
    "\n",
    "rfc = RandomForestClassifier()\n",
    "param_dist = {'n_estimators': n_estimators,\n",
    "               'max_features': max_features,\n",
    "               'min_samples_split': min_samples_split,\n",
    "               'min_samples_leaf': min_samples_leaf,\n",
    "               'bootstrap': bootstrap}\n",
    "\n",
    "scorers = {\n",
    "    'recall_score': make_scorer(recall_score),\n",
    "    'accuracy_score': make_scorer(accuracy_score)\n",
    "}\n",
    "\n",
    "rfc_rdm = RandomizedSearchCV(rfc, param_dist, scoring = scorers, refit = 'recall_score', n_iter = 100, cv = 5, verbose = 1, n_jobs=-1)\n",
    "\n",
    "rfc_rdm.fit(X, y)\n",
    "\n",
    "rfc_df = pd.DataFrame(rfc_rdm.cv_results_).sort_values(by=['rank_test_recall_score', 'rank_test_accuracy_score']).reset_index(drop=True)\n",
    "rfc_df = rfc_df[['param_min_samples_split', 'param_min_samples_leaf', 'param_max_features', 'param_n_estimators', 'param_bootstrap',\n",
    "                 'mean_test_recall_score', 'std_test_recall_score', 'mean_test_accuracy_score', 'std_test_accuracy_score']]"
   ]
  },
  {
   "cell_type": "code",
   "execution_count": 16,
   "metadata": {},
   "outputs": [
    {
     "data": {
      "image/png": "[encoded data removed]",
      "text/plain": [
       "<Figure size 1440x864 with 6 Axes>"
      ]
     },
     "metadata": {},
     "output_type": "display_data"
    }
   ],
   "source": [
    "import seaborn as sns\n",
    "import matplotlib.pyplot as plt\n",
    "\n",
    "fig, axs = plt.subplots(ncols=3, nrows=2)\n",
    "sns.set(style=\"whitegrid\", color_codes=True, font_scale = 1)\n",
    "fig.set_size_inches(20,12)\n",
    "sns.barplot(x='param_n_estimators', y='mean_test_accuracy_score', data=rfc_df, ax=axs[0,0], color='lightgrey')\n",
    "axs[0,0].set_ylim([.9,.94]),axs[0,0].set_title(label = 'n_estimators', size=17, weight='bold')\n",
    "sns.barplot(x='param_min_samples_split', y='mean_test_accuracy_score', data=rfc_df, ax=axs[0,1], color='coral')\n",
    "axs[0,1].set_ylim([.9,.94]),axs[0,1].set_title(label = 'min_samples_split', size=17, weight='bold')\n",
    "sns.barplot(x='param_min_samples_leaf', y='mean_test_accuracy_score', data=rfc_df, ax=axs[0,2], color='lightgreen')\n",
    "axs[0,2].set_ylim([.89,.95]),axs[0,2].set_title(label = 'min_samples_leaf', size=17, weight='bold')\n",
    "sns.barplot(x='param_max_features', y='mean_test_accuracy_score', data=rfc_df, ax=axs[1,0], color='wheat')\n",
    "axs[1,0].set_ylim([.9,.93]),axs[1,0].set_title(label = 'max_features', size=17, weight='bold')\n",
    "sns.barplot(x='param_bootstrap',y='mean_test_accuracy_score', data=rfc_df, ax=axs[1,1], color='skyblue')\n",
    "axs[1,1].set_ylim([.9,.94]),axs[1,1].set_title(label = 'bootstrap', size=17, weight='bold')\n",
    "plt.show()"
   ]
  },
  {
   "cell_type": "code",
   "execution_count": 17,
   "metadata": {},
   "outputs": [
    {
     "data": {
      "image/png": "[encoded data removed]",
      "text/plain": [
       "<Figure size 1440x864 with 6 Axes>"
      ]
     },
     "metadata": {},
     "output_type": "display_data"
    }
   ],
   "source": [
    "import seaborn as sns\n",
    "import matplotlib.pyplot as plt\n",
    "\n",
    "fig, axs = plt.subplots(ncols=3, nrows=2)\n",
    "sns.set(style=\"whitegrid\", color_codes=True, font_scale = 1)\n",
    "fig.set_size_inches(20,12)\n",
    "sns.barplot(x='param_n_estimators', y='mean_test_recall_score', data=rfc_df, ax=axs[0,0], color='lightgrey')\n",
    "axs[0,0].set_ylim([.91,.94]),axs[0,0].set_title(label = 'n_estimators', size=17, weight='bold')\n",
    "sns.barplot(x='param_min_samples_split', y='mean_test_recall_score', data=rfc_df, ax=axs[0,1], color='coral')\n",
    "axs[0,1].set_ylim([.91,.95]),axs[0,1].set_title(label = 'min_samples_split', size=17, weight='bold')\n",
    "sns.barplot(x='param_min_samples_leaf', y='mean_test_recall_score', data=rfc_df, ax=axs[0,2], color='lightgreen')\n",
    "axs[0,2].set_ylim([.9,.94]),axs[0,2].set_title(label = 'min_samples_leaf', size=17, weight='bold')\n",
    "sns.barplot(x='param_max_features', y='mean_test_recall_score', data=rfc_df, ax=axs[1,0], color='wheat')\n",
    "axs[1,0].set_ylim([.92,.93]),axs[1,0].set_title(label = 'max_features', size=17, weight='bold')\n",
    "sns.barplot(x='param_bootstrap',y='mean_test_recall_score', data=rfc_df, ax=axs[1,1], color='skyblue')\n",
    "axs[1,1].set_ylim([.91,.94]),axs[1,1].set_title(label = 'bootstrap', size=17, weight='bold')\n",
    "plt.show()"
   ]
  },
  {
   "cell_type": "code",
   "execution_count": 9,
   "metadata": {
    "scrolled": true
   },
   "outputs": [
    {
     "name": "stdout",
     "output_type": "stream",
     "text": [
      "Fitting 5 folds for each of 36 candidates, totalling 180 fits\n"
     ]
    },
    {
     "name": "stderr",
     "output_type": "stream",
     "text": [
      "[Parallel(n_jobs=-1)]: Using backend LokyBackend with 16 concurrent workers.\n",
      "[Parallel(n_jobs=-1)]: Done  18 tasks      | elapsed:   15.9s\n",
      "[Parallel(n_jobs=-1)]: Done 180 out of 180 | elapsed:  2.5min finished\n"
     ]
    },
    {
     "name": "stdout",
     "output_type": "stream",
     "text": [
      "Fitting 5 folds for each of 36 candidates, totalling 180 fits\n"
     ]
    },
    {
     "name": "stderr",
     "output_type": "stream",
     "text": [
      "[Parallel(n_jobs=-1)]: Using backend LokyBackend with 16 concurrent workers.\n",
      "[Parallel(n_jobs=-1)]: Done  18 tasks      | elapsed:   15.9s\n",
      "[Parallel(n_jobs=-1)]: Done 180 out of 180 | elapsed:  2.5min finished\n"
     ]
    },
    {
     "name": "stdout",
     "output_type": "stream",
     "text": [
      "Fitting 5 folds for each of 36 candidates, totalling 180 fits\n"
     ]
    },
    {
     "name": "stderr",
     "output_type": "stream",
     "text": [
      "[Parallel(n_jobs=-1)]: Using backend LokyBackend with 16 concurrent workers.\n",
      "[Parallel(n_jobs=-1)]: Done  18 tasks      | elapsed:   15.9s\n",
      "[Parallel(n_jobs=-1)]: Done 180 out of 180 | elapsed:  2.5min finished\n"
     ]
    },
    {
     "name": "stdout",
     "output_type": "stream",
     "text": [
      "Fitting 5 folds for each of 36 candidates, totalling 180 fits\n"
     ]
    },
    {
     "name": "stderr",
     "output_type": "stream",
     "text": [
      "[Parallel(n_jobs=-1)]: Using backend LokyBackend with 16 concurrent workers.\n",
      "[Parallel(n_jobs=-1)]: Done  18 tasks      | elapsed:   15.8s\n",
      "[Parallel(n_jobs=-1)]: Done 180 out of 180 | elapsed:  2.5min finished\n"
     ]
    },
    {
     "name": "stdout",
     "output_type": "stream",
     "text": [
      "Fitting 5 folds for each of 36 candidates, totalling 180 fits\n"
     ]
    },
    {
     "name": "stderr",
     "output_type": "stream",
     "text": [
      "[Parallel(n_jobs=-1)]: Using backend LokyBackend with 16 concurrent workers.\n",
      "[Parallel(n_jobs=-1)]: Done  18 tasks      | elapsed:   15.8s\n",
      "[Parallel(n_jobs=-1)]: Done 180 out of 180 | elapsed:  2.5min finished\n"
     ]
    },
    {
     "name": "stdout",
     "output_type": "stream",
     "text": [
      "Fitting 5 folds for each of 36 candidates, totalling 180 fits\n"
     ]
    },
    {
     "name": "stderr",
     "output_type": "stream",
     "text": [
      "[Parallel(n_jobs=-1)]: Using backend LokyBackend with 16 concurrent workers.\n",
      "[Parallel(n_jobs=-1)]: Done  18 tasks      | elapsed:   15.9s\n",
      "[Parallel(n_jobs=-1)]: Done 180 out of 180 | elapsed:  2.5min finished\n"
     ]
    },
    {
     "name": "stdout",
     "output_type": "stream",
     "text": [
      "Fitting 5 folds for each of 36 candidates, totalling 180 fits\n"
     ]
    },
    {
     "name": "stderr",
     "output_type": "stream",
     "text": [
      "[Parallel(n_jobs=-1)]: Using backend LokyBackend with 16 concurrent workers.\n",
      "[Parallel(n_jobs=-1)]: Done  18 tasks      | elapsed:   15.9s\n",
      "[Parallel(n_jobs=-1)]: Done 180 out of 180 | elapsed:  2.5min finished\n"
     ]
    },
    {
     "name": "stdout",
     "output_type": "stream",
     "text": [
      "Fitting 5 folds for each of 36 candidates, totalling 180 fits\n"
     ]
    },
    {
     "name": "stderr",
     "output_type": "stream",
     "text": [
      "[Parallel(n_jobs=-1)]: Using backend LokyBackend with 16 concurrent workers.\n",
      "[Parallel(n_jobs=-1)]: Done  18 tasks      | elapsed:   15.7s\n",
      "[Parallel(n_jobs=-1)]: Done 180 out of 180 | elapsed:  2.5min finished\n"
     ]
    },
    {
     "name": "stdout",
     "output_type": "stream",
     "text": [
      "Fitting 5 folds for each of 36 candidates, totalling 180 fits\n"
     ]
    },
    {
     "name": "stderr",
     "output_type": "stream",
     "text": [
      "[Parallel(n_jobs=-1)]: Using backend LokyBackend with 16 concurrent workers.\n",
      "[Parallel(n_jobs=-1)]: Done  18 tasks      | elapsed:   15.8s\n",
      "[Parallel(n_jobs=-1)]: Done 180 out of 180 | elapsed:  2.5min finished\n"
     ]
    },
    {
     "name": "stdout",
     "output_type": "stream",
     "text": [
      "Fitting 5 folds for each of 36 candidates, totalling 180 fits\n"
     ]
    },
    {
     "name": "stderr",
     "output_type": "stream",
     "text": [
      "[Parallel(n_jobs=-1)]: Using backend LokyBackend with 16 concurrent workers.\n",
      "[Parallel(n_jobs=-1)]: Done  18 tasks      | elapsed:   15.8s\n",
      "[Parallel(n_jobs=-1)]: Done 180 out of 180 | elapsed:  2.5min finished\n"
     ]
    },
    {
     "name": "stdout",
     "output_type": "stream",
     "text": [
      "Fitting 5 folds for each of 36 candidates, totalling 180 fits\n"
     ]
    },
    {
     "name": "stderr",
     "output_type": "stream",
     "text": [
      "[Parallel(n_jobs=-1)]: Using backend LokyBackend with 16 concurrent workers.\n",
      "[Parallel(n_jobs=-1)]: Done  18 tasks      | elapsed:   15.7s\n",
      "[Parallel(n_jobs=-1)]: Done 180 out of 180 | elapsed:  2.5min finished\n"
     ]
    },
    {
     "name": "stdout",
     "output_type": "stream",
     "text": [
      "Fitting 5 folds for each of 36 candidates, totalling 180 fits\n"
     ]
    },
    {
     "name": "stderr",
     "output_type": "stream",
     "text": [
      "[Parallel(n_jobs=-1)]: Using backend LokyBackend with 16 concurrent workers.\n",
      "[Parallel(n_jobs=-1)]: Done  18 tasks      | elapsed:   15.8s\n",
      "[Parallel(n_jobs=-1)]: Done 180 out of 180 | elapsed:  2.5min finished\n"
     ]
    },
    {
     "name": "stdout",
     "output_type": "stream",
     "text": [
      "Fitting 5 folds for each of 36 candidates, totalling 180 fits\n"
     ]
    },
    {
     "name": "stderr",
     "output_type": "stream",
     "text": [
      "[Parallel(n_jobs=-1)]: Using backend LokyBackend with 16 concurrent workers.\n",
      "[Parallel(n_jobs=-1)]: Done  18 tasks      | elapsed:   15.9s\n",
      "[Parallel(n_jobs=-1)]: Done 180 out of 180 | elapsed:  2.5min finished\n"
     ]
    },
    {
     "name": "stdout",
     "output_type": "stream",
     "text": [
      "Fitting 5 folds for each of 36 candidates, totalling 180 fits\n"
     ]
    },
    {
     "name": "stderr",
     "output_type": "stream",
     "text": [
      "[Parallel(n_jobs=-1)]: Using backend LokyBackend with 16 concurrent workers.\n",
      "[Parallel(n_jobs=-1)]: Done  18 tasks      | elapsed:   15.9s\n",
      "[Parallel(n_jobs=-1)]: Done 180 out of 180 | elapsed:  2.5min finished\n"
     ]
    },
    {
     "name": "stdout",
     "output_type": "stream",
     "text": [
      "Fitting 5 folds for each of 36 candidates, totalling 180 fits\n"
     ]
    },
    {
     "name": "stderr",
     "output_type": "stream",
     "text": [
      "[Parallel(n_jobs=-1)]: Using backend LokyBackend with 16 concurrent workers.\n",
      "[Parallel(n_jobs=-1)]: Done  18 tasks      | elapsed:   15.9s\n",
      "[Parallel(n_jobs=-1)]: Done 180 out of 180 | elapsed:  2.5min finished\n"
     ]
    },
    {
     "name": "stdout",
     "output_type": "stream",
     "text": [
      "Fitting 5 folds for each of 36 candidates, totalling 180 fits\n"
     ]
    },
    {
     "name": "stderr",
     "output_type": "stream",
     "text": [
      "[Parallel(n_jobs=-1)]: Using backend LokyBackend with 16 concurrent workers.\n",
      "[Parallel(n_jobs=-1)]: Done  18 tasks      | elapsed:   15.9s\n",
      "[Parallel(n_jobs=-1)]: Done 180 out of 180 | elapsed:  2.5min finished\n"
     ]
    },
    {
     "name": "stdout",
     "output_type": "stream",
     "text": [
      "Fitting 5 folds for each of 36 candidates, totalling 180 fits\n"
     ]
    },
    {
     "name": "stderr",
     "output_type": "stream",
     "text": [
      "[Parallel(n_jobs=-1)]: Using backend LokyBackend with 16 concurrent workers.\n",
      "[Parallel(n_jobs=-1)]: Done  18 tasks      | elapsed:   15.7s\n",
      "[Parallel(n_jobs=-1)]: Done 180 out of 180 | elapsed:  2.5min finished\n"
     ]
    },
    {
     "name": "stdout",
     "output_type": "stream",
     "text": [
      "Fitting 5 folds for each of 36 candidates, totalling 180 fits\n"
     ]
    },
    {
     "name": "stderr",
     "output_type": "stream",
     "text": [
      "[Parallel(n_jobs=-1)]: Using backend LokyBackend with 16 concurrent workers.\n",
      "[Parallel(n_jobs=-1)]: Done  18 tasks      | elapsed:   15.8s\n",
      "[Parallel(n_jobs=-1)]: Done 180 out of 180 | elapsed:  2.5min finished\n"
     ]
    },
    {
     "name": "stdout",
     "output_type": "stream",
     "text": [
      "Fitting 5 folds for each of 36 candidates, totalling 180 fits\n"
     ]
    },
    {
     "name": "stderr",
     "output_type": "stream",
     "text": [
      "[Parallel(n_jobs=-1)]: Using backend LokyBackend with 16 concurrent workers.\n",
      "[Parallel(n_jobs=-1)]: Done  18 tasks      | elapsed:   15.8s\n",
      "[Parallel(n_jobs=-1)]: Done 180 out of 180 | elapsed:  2.5min finished\n"
     ]
    },
    {
     "name": "stdout",
     "output_type": "stream",
     "text": [
      "Fitting 5 folds for each of 36 candidates, totalling 180 fits\n"
     ]
    },
    {
     "name": "stderr",
     "output_type": "stream",
     "text": [
      "[Parallel(n_jobs=-1)]: Using backend LokyBackend with 16 concurrent workers.\n",
      "[Parallel(n_jobs=-1)]: Done  18 tasks      | elapsed:   15.9s\n",
      "[Parallel(n_jobs=-1)]: Done 180 out of 180 | elapsed:  2.5min finished\n"
     ]
    },
    {
     "name": "stdout",
     "output_type": "stream",
     "text": [
      "Fitting 5 folds for each of 36 candidates, totalling 180 fits\n"
     ]
    },
    {
     "name": "stderr",
     "output_type": "stream",
     "text": [
      "[Parallel(n_jobs=-1)]: Using backend LokyBackend with 16 concurrent workers.\n",
      "[Parallel(n_jobs=-1)]: Done  18 tasks      | elapsed:   15.9s\n",
      "[Parallel(n_jobs=-1)]: Done 180 out of 180 | elapsed:  2.5min finished\n"
     ]
    },
    {
     "name": "stdout",
     "output_type": "stream",
     "text": [
      "Fitting 5 folds for each of 36 candidates, totalling 180 fits\n"
     ]
    },
    {
     "name": "stderr",
     "output_type": "stream",
     "text": [
      "[Parallel(n_jobs=-1)]: Using backend LokyBackend with 16 concurrent workers.\n",
      "[Parallel(n_jobs=-1)]: Done  18 tasks      | elapsed:   15.8s\n",
      "[Parallel(n_jobs=-1)]: Done 180 out of 180 | elapsed:  2.5min finished\n"
     ]
    },
    {
     "name": "stdout",
     "output_type": "stream",
     "text": [
      "Fitting 5 folds for each of 36 candidates, totalling 180 fits\n"
     ]
    },
    {
     "name": "stderr",
     "output_type": "stream",
     "text": [
      "[Parallel(n_jobs=-1)]: Using backend LokyBackend with 16 concurrent workers.\n",
      "[Parallel(n_jobs=-1)]: Done  18 tasks      | elapsed:   15.9s\n",
      "[Parallel(n_jobs=-1)]: Done 180 out of 180 | elapsed:  2.5min finished\n"
     ]
    },
    {
     "name": "stdout",
     "output_type": "stream",
     "text": [
      "Fitting 5 folds for each of 36 candidates, totalling 180 fits\n"
     ]
    },
    {
     "name": "stderr",
     "output_type": "stream",
     "text": [
      "[Parallel(n_jobs=-1)]: Using backend LokyBackend with 16 concurrent workers.\n",
      "[Parallel(n_jobs=-1)]: Done  18 tasks      | elapsed:   15.7s\n",
      "[Parallel(n_jobs=-1)]: Done 180 out of 180 | elapsed:  2.5min finished\n"
     ]
    },
    {
     "name": "stdout",
     "output_type": "stream",
     "text": [
      "Fitting 5 folds for each of 36 candidates, totalling 180 fits\n"
     ]
    },
    {
     "name": "stderr",
     "output_type": "stream",
     "text": [
      "[Parallel(n_jobs=-1)]: Using backend LokyBackend with 16 concurrent workers.\n",
      "[Parallel(n_jobs=-1)]: Done  18 tasks      | elapsed:   15.9s\n",
      "[Parallel(n_jobs=-1)]: Done 180 out of 180 | elapsed:  2.5min finished\n"
     ]
    },
    {
     "name": "stdout",
     "output_type": "stream",
     "text": [
      "Fitting 5 folds for each of 36 candidates, totalling 180 fits\n"
     ]
    },
    {
     "name": "stderr",
     "output_type": "stream",
     "text": [
      "[Parallel(n_jobs=-1)]: Using backend LokyBackend with 16 concurrent workers.\n",
      "[Parallel(n_jobs=-1)]: Done  18 tasks      | elapsed:   15.8s\n",
      "[Parallel(n_jobs=-1)]: Done 180 out of 180 | elapsed:  2.5min finished\n"
     ]
    },
    {
     "name": "stdout",
     "output_type": "stream",
     "text": [
      "Fitting 5 folds for each of 36 candidates, totalling 180 fits\n"
     ]
    },
    {
     "name": "stderr",
     "output_type": "stream",
     "text": [
      "[Parallel(n_jobs=-1)]: Using backend LokyBackend with 16 concurrent workers.\n",
      "[Parallel(n_jobs=-1)]: Done  18 tasks      | elapsed:   15.8s\n",
      "[Parallel(n_jobs=-1)]: Done 180 out of 180 | elapsed:  2.5min finished\n"
     ]
    },
    {
     "name": "stdout",
     "output_type": "stream",
     "text": [
      "Fitting 5 folds for each of 36 candidates, totalling 180 fits\n"
     ]
    },
    {
     "name": "stderr",
     "output_type": "stream",
     "text": [
      "[Parallel(n_jobs=-1)]: Using backend LokyBackend with 16 concurrent workers.\n",
      "[Parallel(n_jobs=-1)]: Done  18 tasks      | elapsed:   15.8s\n",
      "[Parallel(n_jobs=-1)]: Done 180 out of 180 | elapsed:  2.5min finished\n"
     ]
    },
    {
     "name": "stdout",
     "output_type": "stream",
     "text": [
      "Fitting 5 folds for each of 36 candidates, totalling 180 fits\n"
     ]
    },
    {
     "name": "stderr",
     "output_type": "stream",
     "text": [
      "[Parallel(n_jobs=-1)]: Using backend LokyBackend with 16 concurrent workers.\n",
      "[Parallel(n_jobs=-1)]: Done  18 tasks      | elapsed:   15.7s\n",
      "[Parallel(n_jobs=-1)]: Done 180 out of 180 | elapsed:  2.5min finished\n"
     ]
    },
    {
     "name": "stdout",
     "output_type": "stream",
     "text": [
      "Fitting 5 folds for each of 36 candidates, totalling 180 fits\n"
     ]
    },
    {
     "name": "stderr",
     "output_type": "stream",
     "text": [
      "[Parallel(n_jobs=-1)]: Using backend LokyBackend with 16 concurrent workers.\n",
      "[Parallel(n_jobs=-1)]: Done  18 tasks      | elapsed:   15.8s\n",
      "[Parallel(n_jobs=-1)]: Done 180 out of 180 | elapsed:  2.5min finished\n"
     ]
    },
    {
     "name": "stdout",
     "output_type": "stream",
     "text": [
      "Test set score: 0.742 +/- 0.009\n",
      "Recall: 0.615 +/- 0.026\n",
      "AUC: 0.763 +/- 0.008\n"
     ]
    }
   ],
   "source": [
    "from sklearn.ensemble import RandomForestClassifier\n",
    "from sklearn.model_selection import cross_val_score, train_test_split\n",
    "import sklearn.metrics as metrics\n",
    "from sklearn.metrics import classification_report, recall_score, confusion_matrix, roc_curve, auc\n",
    "from statistics import mean, stdev\n",
    "import sklearn.metrics as metrics\n",
    "from sklearn.model_selection import GridSearchCV\n",
    "\n",
    "feats = {}\n",
    "ds = []\n",
    "d = {}\n",
    "testscore = []\n",
    "recall = []\n",
    "auc = []\n",
    "\n",
    "oversample = SMOTENC(categorical_features=[20, 21, 22, 23, 24])\n",
    "n_estimators = [200]\n",
    "max_features = ['sqrt']\n",
    "max_depth = [int(x) for x in np.linspace(start = 2, stop = 5, num = 4)]\n",
    "min_samples_split = [27,28,29]\n",
    "min_samples_leaf = [2,3,4]\n",
    "bootstrap = [False]\n",
    "\n",
    "param_dist = {'n_estimators': n_estimators,\n",
    "               'max_features': max_features,\n",
    "               'max_depth': max_depth,\n",
    "               'min_samples_split': min_samples_split,\n",
    "               'min_samples_leaf': min_samples_leaf,\n",
    "               'bootstrap': bootstrap}\n",
    "\n",
    "for i in range(30):\n",
    "    # Split the data into train and test (75% - 25%)\n",
    "    train_x, test_x, y_train, y_test = train_test_split(df_features,df_labels,test_size=0.25,random_state=i)\n",
    "\n",
    "    # Preprocessing\n",
    "    numerical_train_x = train_x[numerical_cols].reset_index(drop=True)\n",
    "    categorical_train_x = pd.get_dummies(train_x[[var for var in categorical_cols]], drop_first = True).reset_index(drop=True)\n",
    "    X_train = pd.concat([numerical_train_x, categorical_train_x],axis=1)\n",
    "    numerical_test_x = test_x[numerical_cols].reset_index(drop=True)\n",
    "    categorical_test_x = pd.get_dummies(test_x[[var for var in categorical_cols]], drop_first = True).reset_index(drop=True)\n",
    "    X_test = pd.concat([numerical_test_x, categorical_test_x],axis=1)\n",
    "\n",
    "    # Modelling\n",
    "    X, y = oversample.fit_resample(X_train, y_train)\n",
    "    rfc = RandomForestClassifier()\n",
    "\n",
    "    gs_rfc = GridSearchCV(rfc, param_dist, cv = 5, verbose = 1, n_jobs=-1)\n",
    "    gs_rfc.fit(X, y)\n",
    "    rfc_gs = gs_rfc.best_estimator_.fit(X, y)\n",
    "    \n",
    "    # coefficients\n",
    "    ds.append(dict(zip(X_train.columns.tolist(), gs_rfc.best_estimator_.feature_importances_)))\n",
    "    \n",
    "    # test_accuracy_base\n",
    "    testscore.append(rfc_gs.score(X_test,y_test))\n",
    "    y_true_base, y_pred_base = y_test , rfc_gs.predict(X_test)\n",
    "    \n",
    "    # recall_base \n",
    "    recall.append(recall_score(y_true_base, y_pred_base))\n",
    "    \n",
    "    probs_base = rfc_gs.predict_proba(X_test)\n",
    "    preds_base = probs_base[:,1]\n",
    "    fpr_base, tpr_base, threshold = metrics.roc_curve(y_true_base, preds_base)\n",
    "    \n",
    "    # roc_auc_base \n",
    "    auc.append(metrics.auc(fpr_base, tpr_base))\n",
    "\n",
    "d1 = ds[0]\n",
    "for k in d1.keys():\n",
    "    d[k] = tuple(d[k] for d in ds)\n",
    "\n",
    "for feature, importance in d.items():\n",
    "    feats[feature] = mean(importance)  \n",
    "    \n",
    "print(\"Test set score: {0:.3f} +/- {1:.3f}\".format(mean(testscore), stdev(testscore)))\n",
    "print(\"Recall: {0:.3f} +/- {1:.3f}\".format(mean(recall), stdev(recall)))\n",
    "print(\"AUC: {0:.3f} +/- {1:.3f}\".format(mean(auc), stdev(auc)))"
   ]
  },
  {
   "cell_type": "code",
   "execution_count": 10,
   "metadata": {},
   "outputs": [
    {
     "data": {
      "image/png": "[encoded data removed]",
      "text/plain": [
       "<Figure size 2160x1080 with 1 Axes>"
      ]
     },
     "metadata": {},
     "output_type": "display_data"
    },
    {
     "data": {
      "text/plain": [
       "None"
      ]
     },
     "metadata": {},
     "output_type": "display_data"
    },
    {
     "data": {
      "text/html": [
       "<div>\n",
       "<style scoped>\n",
       "    .dataframe tbody tr th:only-of-type {\n",
       "        vertical-align: middle;\n",
       "    }\n",
       "\n",
       "    .dataframe tbody tr th {\n",
       "        vertical-align: top;\n",
       "    }\n",
       "\n",
       "    .dataframe thead th {\n",
       "        text-align: right;\n",
       "    }\n",
       "</style>\n",
       "<table border=\"1\" class=\"dataframe\">\n",
       "  <thead>\n",
       "    <tr style=\"text-align: right;\">\n",
       "      <th></th>\n",
       "      <th>Features</th>\n",
       "      <th>Gini-Importance</th>\n",
       "    </tr>\n",
       "  </thead>\n",
       "  <tbody>\n",
       "    <tr>\n",
       "      <th>0</th>\n",
       "      <td>length_of_stay</td>\n",
       "      <td>0.249786</td>\n",
       "    </tr>\n",
       "    <tr>\n",
       "      <th>1</th>\n",
       "      <td>service_type_CSRU</td>\n",
       "      <td>0.219957</td>\n",
       "    </tr>\n",
       "    <tr>\n",
       "      <th>2</th>\n",
       "      <td>BUN</td>\n",
       "      <td>0.146235</td>\n",
       "    </tr>\n",
       "    <tr>\n",
       "      <th>3</th>\n",
       "      <td>age</td>\n",
       "      <td>0.061416</td>\n",
       "    </tr>\n",
       "    <tr>\n",
       "      <th>4</th>\n",
       "      <td>CREATININE</td>\n",
       "      <td>0.047030</td>\n",
       "    </tr>\n",
       "    <tr>\n",
       "      <th>5</th>\n",
       "      <td>service_type_MICU</td>\n",
       "      <td>0.039618</td>\n",
       "    </tr>\n",
       "    <tr>\n",
       "      <th>6</th>\n",
       "      <td>service_type_TSICU</td>\n",
       "      <td>0.037436</td>\n",
       "    </tr>\n",
       "    <tr>\n",
       "      <th>7</th>\n",
       "      <td>eGFR</td>\n",
       "      <td>0.032942</td>\n",
       "    </tr>\n",
       "    <tr>\n",
       "      <th>8</th>\n",
       "      <td>service_type_SICU</td>\n",
       "      <td>0.028953</td>\n",
       "    </tr>\n",
       "    <tr>\n",
       "      <th>9</th>\n",
       "      <td>SpO2</td>\n",
       "      <td>0.023242</td>\n",
       "    </tr>\n",
       "    <tr>\n",
       "      <th>10</th>\n",
       "      <td>HEMOGLOBIN</td>\n",
       "      <td>0.015762</td>\n",
       "    </tr>\n",
       "    <tr>\n",
       "      <th>11</th>\n",
       "      <td>sofa</td>\n",
       "      <td>0.014892</td>\n",
       "    </tr>\n",
       "    <tr>\n",
       "      <th>12</th>\n",
       "      <td>bmi</td>\n",
       "      <td>0.013088</td>\n",
       "    </tr>\n",
       "    <tr>\n",
       "      <th>13</th>\n",
       "      <td>PLATELET</td>\n",
       "      <td>0.012301</td>\n",
       "    </tr>\n",
       "    <tr>\n",
       "      <th>14</th>\n",
       "      <td>MAP</td>\n",
       "      <td>0.009340</td>\n",
       "    </tr>\n",
       "    <tr>\n",
       "      <th>15</th>\n",
       "      <td>SysBP</td>\n",
       "      <td>0.008644</td>\n",
       "    </tr>\n",
       "    <tr>\n",
       "      <th>16</th>\n",
       "      <td>Temperature</td>\n",
       "      <td>0.007465</td>\n",
       "    </tr>\n",
       "    <tr>\n",
       "      <th>17</th>\n",
       "      <td>HeartRate</td>\n",
       "      <td>0.007267</td>\n",
       "    </tr>\n",
       "    <tr>\n",
       "      <th>18</th>\n",
       "      <td>DiasBP</td>\n",
       "      <td>0.006473</td>\n",
       "    </tr>\n",
       "    <tr>\n",
       "      <th>19</th>\n",
       "      <td>TOTALCO2</td>\n",
       "      <td>0.004988</td>\n",
       "    </tr>\n",
       "    <tr>\n",
       "      <th>20</th>\n",
       "      <td>WBC</td>\n",
       "      <td>0.004056</td>\n",
       "    </tr>\n",
       "    <tr>\n",
       "      <th>21</th>\n",
       "      <td>SODIUM</td>\n",
       "      <td>0.003894</td>\n",
       "    </tr>\n",
       "    <tr>\n",
       "      <th>22</th>\n",
       "      <td>CHLORIDE</td>\n",
       "      <td>0.002547</td>\n",
       "    </tr>\n",
       "    <tr>\n",
       "      <th>23</th>\n",
       "      <td>POTASSIUM</td>\n",
       "      <td>0.001391</td>\n",
       "    </tr>\n",
       "    <tr>\n",
       "      <th>24</th>\n",
       "      <td>gender_M</td>\n",
       "      <td>0.001279</td>\n",
       "    </tr>\n",
       "  </tbody>\n",
       "</table>\n",
       "</div>"
      ],
      "text/plain": [
       "              Features  Gini-Importance\n",
       "0       length_of_stay         0.249786\n",
       "1    service_type_CSRU         0.219957\n",
       "2                  BUN         0.146235\n",
       "3                  age         0.061416\n",
       "4           CREATININE         0.047030\n",
       "5    service_type_MICU         0.039618\n",
       "6   service_type_TSICU         0.037436\n",
       "7                 eGFR         0.032942\n",
       "8    service_type_SICU         0.028953\n",
       "9                 SpO2         0.023242\n",
       "10          HEMOGLOBIN         0.015762\n",
       "11                sofa         0.014892\n",
       "12                 bmi         0.013088\n",
       "13            PLATELET         0.012301\n",
       "14                 MAP         0.009340\n",
       "15               SysBP         0.008644\n",
       "16         Temperature         0.007465\n",
       "17           HeartRate         0.007267\n",
       "18              DiasBP         0.006473\n",
       "19            TOTALCO2         0.004988\n",
       "20                 WBC         0.004056\n",
       "21              SODIUM         0.003894\n",
       "22            CHLORIDE         0.002547\n",
       "23           POTASSIUM         0.001391\n",
       "24            gender_M         0.001279"
      ]
     },
     "metadata": {},
     "output_type": "display_data"
    }
   ],
   "source": [
    "importances = pd.DataFrame.from_dict(feats, orient='index').rename(columns={0: 'Gini-Importance'})\n",
    "importances = importances.sort_values(by='Gini-Importance', ascending=False)\n",
    "importances = importances.reset_index()\n",
    "importances = importances.rename(columns={'index': 'Features'})\n",
    "sns.set(font_scale = 5)\n",
    "sns.set(style=\"whitegrid\", color_codes=True, font_scale = 1.7)\n",
    "fig, ax = plt.subplots()\n",
    "fig.set_size_inches(30,15)\n",
    "sns.barplot(x=importances['Gini-Importance'], y=importances['Features'], data=importances, color='skyblue')\n",
    "plt.xlabel('Importance', fontsize=25, weight = 'bold')\n",
    "plt.ylabel('Features', fontsize=25, weight = 'bold')\n",
    "plt.title('Feature Importance', fontsize=25, weight = 'bold')\n",
    "display(plt.show())\n",
    "display(importances)"
   ]
  },
  {
   "cell_type": "code",
   "execution_count": 18,
   "metadata": {},
   "outputs": [
    {
     "name": "stdout",
     "output_type": "stream",
     "text": [
      "Fitting 5 folds for each of 36 candidates, totalling 180 fits\n"
     ]
    },
    {
     "name": "stderr",
     "output_type": "stream",
     "text": [
      "[Parallel(n_jobs=-1)]: Using backend LokyBackend with 16 concurrent workers.\n",
      "[Parallel(n_jobs=-1)]: Done  18 tasks      | elapsed:   15.9s\n",
      "[Parallel(n_jobs=-1)]: Done 180 out of 180 | elapsed:  2.5min finished\n"
     ]
    },
    {
     "name": "stdout",
     "output_type": "stream",
     "text": [
      "Fitting 5 folds for each of 36 candidates, totalling 180 fits\n"
     ]
    },
    {
     "name": "stderr",
     "output_type": "stream",
     "text": [
      "[Parallel(n_jobs=-1)]: Using backend LokyBackend with 16 concurrent workers.\n",
      "[Parallel(n_jobs=-1)]: Done  18 tasks      | elapsed:   15.9s\n",
      "[Parallel(n_jobs=-1)]: Done 180 out of 180 | elapsed:  2.5min finished\n"
     ]
    },
    {
     "name": "stdout",
     "output_type": "stream",
     "text": [
      "Fitting 5 folds for each of 36 candidates, totalling 180 fits\n"
     ]
    },
    {
     "name": "stderr",
     "output_type": "stream",
     "text": [
      "[Parallel(n_jobs=-1)]: Using backend LokyBackend with 16 concurrent workers.\n",
      "[Parallel(n_jobs=-1)]: Done  18 tasks      | elapsed:   15.8s\n",
      "[Parallel(n_jobs=-1)]: Done 180 out of 180 | elapsed:  2.5min finished\n"
     ]
    },
    {
     "name": "stdout",
     "output_type": "stream",
     "text": [
      "Fitting 5 folds for each of 36 candidates, totalling 180 fits\n"
     ]
    },
    {
     "name": "stderr",
     "output_type": "stream",
     "text": [
      "[Parallel(n_jobs=-1)]: Using backend LokyBackend with 16 concurrent workers.\n",
      "[Parallel(n_jobs=-1)]: Done  18 tasks      | elapsed:   15.7s\n",
      "[Parallel(n_jobs=-1)]: Done 180 out of 180 | elapsed:  2.5min finished\n"
     ]
    },
    {
     "name": "stdout",
     "output_type": "stream",
     "text": [
      "Fitting 5 folds for each of 36 candidates, totalling 180 fits\n"
     ]
    },
    {
     "name": "stderr",
     "output_type": "stream",
     "text": [
      "[Parallel(n_jobs=-1)]: Using backend LokyBackend with 16 concurrent workers.\n",
      "[Parallel(n_jobs=-1)]: Done  18 tasks      | elapsed:   15.8s\n",
      "[Parallel(n_jobs=-1)]: Done 180 out of 180 | elapsed:  2.5min finished\n"
     ]
    },
    {
     "name": "stdout",
     "output_type": "stream",
     "text": [
      "Fitting 5 folds for each of 36 candidates, totalling 180 fits\n"
     ]
    },
    {
     "name": "stderr",
     "output_type": "stream",
     "text": [
      "[Parallel(n_jobs=-1)]: Using backend LokyBackend with 16 concurrent workers.\n",
      "[Parallel(n_jobs=-1)]: Done  18 tasks      | elapsed:   15.9s\n",
      "[Parallel(n_jobs=-1)]: Done 180 out of 180 | elapsed:  2.5min finished\n"
     ]
    },
    {
     "name": "stdout",
     "output_type": "stream",
     "text": [
      "Fitting 5 folds for each of 36 candidates, totalling 180 fits\n"
     ]
    },
    {
     "name": "stderr",
     "output_type": "stream",
     "text": [
      "[Parallel(n_jobs=-1)]: Using backend LokyBackend with 16 concurrent workers.\n",
      "[Parallel(n_jobs=-1)]: Done  18 tasks      | elapsed:   15.9s\n",
      "[Parallel(n_jobs=-1)]: Done 180 out of 180 | elapsed:  2.5min finished\n"
     ]
    },
    {
     "name": "stdout",
     "output_type": "stream",
     "text": [
      "Fitting 5 folds for each of 36 candidates, totalling 180 fits\n"
     ]
    },
    {
     "name": "stderr",
     "output_type": "stream",
     "text": [
      "[Parallel(n_jobs=-1)]: Using backend LokyBackend with 16 concurrent workers.\n",
      "[Parallel(n_jobs=-1)]: Done  18 tasks      | elapsed:   15.7s\n",
      "[Parallel(n_jobs=-1)]: Done 180 out of 180 | elapsed:  2.5min finished\n"
     ]
    },
    {
     "name": "stdout",
     "output_type": "stream",
     "text": [
      "Fitting 5 folds for each of 36 candidates, totalling 180 fits\n"
     ]
    },
    {
     "name": "stderr",
     "output_type": "stream",
     "text": [
      "[Parallel(n_jobs=-1)]: Using backend LokyBackend with 16 concurrent workers.\n",
      "[Parallel(n_jobs=-1)]: Done  18 tasks      | elapsed:   15.8s\n",
      "[Parallel(n_jobs=-1)]: Done 180 out of 180 | elapsed:  2.5min finished\n"
     ]
    },
    {
     "name": "stdout",
     "output_type": "stream",
     "text": [
      "Fitting 5 folds for each of 36 candidates, totalling 180 fits\n"
     ]
    },
    {
     "name": "stderr",
     "output_type": "stream",
     "text": [
      "[Parallel(n_jobs=-1)]: Using backend LokyBackend with 16 concurrent workers.\n",
      "[Parallel(n_jobs=-1)]: Done  18 tasks      | elapsed:   15.9s\n",
      "[Parallel(n_jobs=-1)]: Done 180 out of 180 | elapsed:  2.5min finished\n"
     ]
    },
    {
     "name": "stdout",
     "output_type": "stream",
     "text": [
      "Fitting 5 folds for each of 36 candidates, totalling 180 fits\n"
     ]
    },
    {
     "name": "stderr",
     "output_type": "stream",
     "text": [
      "[Parallel(n_jobs=-1)]: Using backend LokyBackend with 16 concurrent workers.\n",
      "[Parallel(n_jobs=-1)]: Done  18 tasks      | elapsed:   15.8s\n",
      "[Parallel(n_jobs=-1)]: Done 180 out of 180 | elapsed:  2.5min finished\n"
     ]
    },
    {
     "name": "stdout",
     "output_type": "stream",
     "text": [
      "Fitting 5 folds for each of 36 candidates, totalling 180 fits\n"
     ]
    },
    {
     "name": "stderr",
     "output_type": "stream",
     "text": [
      "[Parallel(n_jobs=-1)]: Using backend LokyBackend with 16 concurrent workers.\n",
      "[Parallel(n_jobs=-1)]: Done  18 tasks      | elapsed:   15.8s\n",
      "[Parallel(n_jobs=-1)]: Done 180 out of 180 | elapsed:  2.5min finished\n"
     ]
    },
    {
     "name": "stdout",
     "output_type": "stream",
     "text": [
      "Fitting 5 folds for each of 36 candidates, totalling 180 fits\n"
     ]
    },
    {
     "name": "stderr",
     "output_type": "stream",
     "text": [
      "[Parallel(n_jobs=-1)]: Using backend LokyBackend with 16 concurrent workers.\n",
      "[Parallel(n_jobs=-1)]: Done  18 tasks      | elapsed:   15.8s\n",
      "[Parallel(n_jobs=-1)]: Done 180 out of 180 | elapsed:  2.5min finished\n"
     ]
    },
    {
     "name": "stdout",
     "output_type": "stream",
     "text": [
      "Fitting 5 folds for each of 36 candidates, totalling 180 fits\n"
     ]
    },
    {
     "name": "stderr",
     "output_type": "stream",
     "text": [
      "[Parallel(n_jobs=-1)]: Using backend LokyBackend with 16 concurrent workers.\n",
      "[Parallel(n_jobs=-1)]: Done  18 tasks      | elapsed:   15.9s\n",
      "[Parallel(n_jobs=-1)]: Done 180 out of 180 | elapsed:  2.5min finished\n"
     ]
    },
    {
     "name": "stdout",
     "output_type": "stream",
     "text": [
      "Fitting 5 folds for each of 36 candidates, totalling 180 fits\n"
     ]
    },
    {
     "name": "stderr",
     "output_type": "stream",
     "text": [
      "[Parallel(n_jobs=-1)]: Using backend LokyBackend with 16 concurrent workers.\n",
      "[Parallel(n_jobs=-1)]: Done  18 tasks      | elapsed:   15.9s\n",
      "[Parallel(n_jobs=-1)]: Done 180 out of 180 | elapsed:  2.5min finished\n"
     ]
    },
    {
     "name": "stdout",
     "output_type": "stream",
     "text": [
      "Fitting 5 folds for each of 36 candidates, totalling 180 fits\n"
     ]
    },
    {
     "name": "stderr",
     "output_type": "stream",
     "text": [
      "[Parallel(n_jobs=-1)]: Using backend LokyBackend with 16 concurrent workers.\n",
      "[Parallel(n_jobs=-1)]: Done  18 tasks      | elapsed:   15.9s\n",
      "[Parallel(n_jobs=-1)]: Done 180 out of 180 | elapsed:  2.5min finished\n"
     ]
    },
    {
     "name": "stdout",
     "output_type": "stream",
     "text": [
      "Fitting 5 folds for each of 36 candidates, totalling 180 fits\n"
     ]
    },
    {
     "name": "stderr",
     "output_type": "stream",
     "text": [
      "[Parallel(n_jobs=-1)]: Using backend LokyBackend with 16 concurrent workers.\n",
      "[Parallel(n_jobs=-1)]: Done  18 tasks      | elapsed:   15.8s\n",
      "[Parallel(n_jobs=-1)]: Done 180 out of 180 | elapsed:  2.5min finished\n"
     ]
    },
    {
     "name": "stdout",
     "output_type": "stream",
     "text": [
      "Fitting 5 folds for each of 36 candidates, totalling 180 fits\n"
     ]
    },
    {
     "name": "stderr",
     "output_type": "stream",
     "text": [
      "[Parallel(n_jobs=-1)]: Using backend LokyBackend with 16 concurrent workers.\n",
      "[Parallel(n_jobs=-1)]: Done  18 tasks      | elapsed:   15.8s\n",
      "[Parallel(n_jobs=-1)]: Done 180 out of 180 | elapsed:  2.5min finished\n"
     ]
    },
    {
     "name": "stdout",
     "output_type": "stream",
     "text": [
      "Fitting 5 folds for each of 36 candidates, totalling 180 fits\n"
     ]
    },
    {
     "name": "stderr",
     "output_type": "stream",
     "text": [
      "[Parallel(n_jobs=-1)]: Using backend LokyBackend with 16 concurrent workers.\n",
      "[Parallel(n_jobs=-1)]: Done  18 tasks      | elapsed:   15.8s\n",
      "[Parallel(n_jobs=-1)]: Done 180 out of 180 | elapsed:  2.5min finished\n"
     ]
    },
    {
     "name": "stdout",
     "output_type": "stream",
     "text": [
      "Fitting 5 folds for each of 36 candidates, totalling 180 fits\n"
     ]
    },
    {
     "name": "stderr",
     "output_type": "stream",
     "text": [
      "[Parallel(n_jobs=-1)]: Using backend LokyBackend with 16 concurrent workers.\n",
      "[Parallel(n_jobs=-1)]: Done  18 tasks      | elapsed:   15.8s\n",
      "[Parallel(n_jobs=-1)]: Done 180 out of 180 | elapsed:  2.5min finished\n"
     ]
    },
    {
     "name": "stdout",
     "output_type": "stream",
     "text": [
      "Fitting 5 folds for each of 36 candidates, totalling 180 fits\n"
     ]
    },
    {
     "name": "stderr",
     "output_type": "stream",
     "text": [
      "[Parallel(n_jobs=-1)]: Using backend LokyBackend with 16 concurrent workers.\n",
      "[Parallel(n_jobs=-1)]: Done  18 tasks      | elapsed:   15.9s\n",
      "[Parallel(n_jobs=-1)]: Done 180 out of 180 | elapsed:  2.5min finished\n"
     ]
    },
    {
     "name": "stdout",
     "output_type": "stream",
     "text": [
      "Fitting 5 folds for each of 36 candidates, totalling 180 fits\n"
     ]
    },
    {
     "name": "stderr",
     "output_type": "stream",
     "text": [
      "[Parallel(n_jobs=-1)]: Using backend LokyBackend with 16 concurrent workers.\n",
      "[Parallel(n_jobs=-1)]: Done  18 tasks      | elapsed:   15.9s\n",
      "[Parallel(n_jobs=-1)]: Done 180 out of 180 | elapsed:  2.5min finished\n"
     ]
    },
    {
     "name": "stdout",
     "output_type": "stream",
     "text": [
      "Fitting 5 folds for each of 36 candidates, totalling 180 fits\n"
     ]
    },
    {
     "name": "stderr",
     "output_type": "stream",
     "text": [
      "[Parallel(n_jobs=-1)]: Using backend LokyBackend with 16 concurrent workers.\n",
      "[Parallel(n_jobs=-1)]: Done  18 tasks      | elapsed:   15.8s\n",
      "[Parallel(n_jobs=-1)]: Done 180 out of 180 | elapsed:  2.5min finished\n"
     ]
    },
    {
     "name": "stdout",
     "output_type": "stream",
     "text": [
      "Fitting 5 folds for each of 36 candidates, totalling 180 fits\n"
     ]
    },
    {
     "name": "stderr",
     "output_type": "stream",
     "text": [
      "[Parallel(n_jobs=-1)]: Using backend LokyBackend with 16 concurrent workers.\n",
      "[Parallel(n_jobs=-1)]: Done  18 tasks      | elapsed:   15.7s\n",
      "[Parallel(n_jobs=-1)]: Done 180 out of 180 | elapsed:  2.5min finished\n"
     ]
    },
    {
     "name": "stdout",
     "output_type": "stream",
     "text": [
      "Fitting 5 folds for each of 36 candidates, totalling 180 fits\n"
     ]
    },
    {
     "name": "stderr",
     "output_type": "stream",
     "text": [
      "[Parallel(n_jobs=-1)]: Using backend LokyBackend with 16 concurrent workers.\n",
      "[Parallel(n_jobs=-1)]: Done  18 tasks      | elapsed:   15.8s\n",
      "[Parallel(n_jobs=-1)]: Done 180 out of 180 | elapsed:  2.5min finished\n"
     ]
    },
    {
     "name": "stdout",
     "output_type": "stream",
     "text": [
      "Fitting 5 folds for each of 36 candidates, totalling 180 fits\n"
     ]
    },
    {
     "name": "stderr",
     "output_type": "stream",
     "text": [
      "[Parallel(n_jobs=-1)]: Using backend LokyBackend with 16 concurrent workers.\n",
      "[Parallel(n_jobs=-1)]: Done  18 tasks      | elapsed:   15.8s\n",
      "[Parallel(n_jobs=-1)]: Done 180 out of 180 | elapsed:  2.5min finished\n"
     ]
    },
    {
     "name": "stdout",
     "output_type": "stream",
     "text": [
      "Fitting 5 folds for each of 36 candidates, totalling 180 fits\n"
     ]
    },
    {
     "name": "stderr",
     "output_type": "stream",
     "text": [
      "[Parallel(n_jobs=-1)]: Using backend LokyBackend with 16 concurrent workers.\n",
      "[Parallel(n_jobs=-1)]: Done  18 tasks      | elapsed:   15.7s\n",
      "[Parallel(n_jobs=-1)]: Done 180 out of 180 | elapsed:  2.5min finished\n"
     ]
    },
    {
     "name": "stdout",
     "output_type": "stream",
     "text": [
      "Fitting 5 folds for each of 36 candidates, totalling 180 fits\n"
     ]
    },
    {
     "name": "stderr",
     "output_type": "stream",
     "text": [
      "[Parallel(n_jobs=-1)]: Using backend LokyBackend with 16 concurrent workers.\n",
      "[Parallel(n_jobs=-1)]: Done  18 tasks      | elapsed:   15.8s\n",
      "[Parallel(n_jobs=-1)]: Done 180 out of 180 | elapsed:  2.5min finished\n"
     ]
    },
    {
     "name": "stdout",
     "output_type": "stream",
     "text": [
      "Fitting 5 folds for each of 36 candidates, totalling 180 fits\n"
     ]
    },
    {
     "name": "stderr",
     "output_type": "stream",
     "text": [
      "[Parallel(n_jobs=-1)]: Using backend LokyBackend with 16 concurrent workers.\n",
      "[Parallel(n_jobs=-1)]: Done  18 tasks      | elapsed:   15.8s\n",
      "[Parallel(n_jobs=-1)]: Done 180 out of 180 | elapsed:  2.5min finished\n"
     ]
    },
    {
     "name": "stdout",
     "output_type": "stream",
     "text": [
      "Fitting 5 folds for each of 36 candidates, totalling 180 fits\n"
     ]
    },
    {
     "name": "stderr",
     "output_type": "stream",
     "text": [
      "[Parallel(n_jobs=-1)]: Using backend LokyBackend with 16 concurrent workers.\n",
      "[Parallel(n_jobs=-1)]: Done  18 tasks      | elapsed:   15.8s\n",
      "[Parallel(n_jobs=-1)]: Done 180 out of 180 | elapsed:  2.5min finished\n"
     ]
    },
    {
     "name": "stdout",
     "output_type": "stream",
     "text": [
      "Test set score: 0.742 +/- 0.007\n",
      "Recall: 0.616 +/- 0.023\n",
      "AUC: 0.764 +/- 0.008\n"
     ]
    },
    {
     "data": {
      "image/png": "[encoded data removed]",
      "text/plain": [
       "<Figure size 576x684 with 1 Axes>"
      ]
     },
     "metadata": {},
     "output_type": "display_data"
    }
   ],
   "source": [
    "from sklearn.ensemble import RandomForestClassifier\n",
    "from sklearn.model_selection import cross_val_score, train_test_split\n",
    "import sklearn.metrics as metrics\n",
    "from sklearn.metrics import classification_report, recall_score, confusion_matrix, roc_curve, auc\n",
    "from statistics import mean, stdev\n",
    "import sklearn.metrics as metrics\n",
    "from sklearn.model_selection import GridSearchCV\n",
    "import shap\n",
    "\n",
    "oversample = SMOTENC(categorical_features=[20, 21, 22, 23, 24])\n",
    "testscore = []\n",
    "recall = []\n",
    "auc = []\n",
    "class_0 = np.empty((0,25), float)\n",
    "\n",
    "class_1 = np.empty((0,25), float)\n",
    "\n",
    "n_estimators = [200]\n",
    "max_features = ['sqrt']\n",
    "max_depth = [int(x) for x in np.linspace(start = 2, stop = 5, num = 4)]\n",
    "min_samples_split = [27,28,29]\n",
    "min_samples_leaf = [2,3,4]\n",
    "bootstrap = [False]\n",
    "\n",
    "param_dist = {'n_estimators': n_estimators,\n",
    "               'max_features': max_features,\n",
    "               'max_depth': max_depth,\n",
    "               'min_samples_split': min_samples_split,\n",
    "               'min_samples_leaf': min_samples_leaf,\n",
    "               'bootstrap': bootstrap}\n",
    "\n",
    "for i in range(30):\n",
    "    # Split the data into train and test (75% - 25%)\n",
    "    train_x, test_x, y_train, y_test = train_test_split(df_features,df_labels,test_size=0.25,random_state=i)\n",
    "\n",
    "    # Preprocessing\n",
    "    numerical_train_x = train_x[numerical_cols].reset_index(drop=True)\n",
    "    categorical_train_x = pd.get_dummies(train_x[[var for var in categorical_cols]], drop_first = True).reset_index(drop=True)\n",
    "    X_train = pd.concat([numerical_train_x, categorical_train_x],axis=1)\n",
    "    numerical_test_x = test_x[numerical_cols].reset_index(drop=True)\n",
    "    categorical_test_x = pd.get_dummies(test_x[[var for var in categorical_cols]], drop_first = True).reset_index(drop=True)\n",
    "    X_test = pd.concat([numerical_test_x, categorical_test_x],axis=1)\n",
    "\n",
    "    # Modelling\n",
    "    X, y = oversample.fit_resample(X_train, y_train)\n",
    "    rfc = RandomForestClassifier()\n",
    "\n",
    "    gs_rfc = GridSearchCV(rfc, param_dist, cv = 5, verbose = 1, n_jobs=-1)\n",
    "    gs_rfc.fit(X, y)\n",
    "    rfc_gs = gs_rfc.best_estimator_.fit(X, y)\n",
    "    \n",
    "    # coefficients\n",
    "    explainer = shap.TreeExplainer(rfc_gs)\n",
    "    shap_values = explainer.shap_values(X)\n",
    "    class_0 = np.concatenate((class_0, shap_values[0]), axis = 0)\n",
    "    class_1 = np.concatenate((class_1, shap_values[1]), axis = 0)\n",
    "    \n",
    "    # test_accuracy_base\n",
    "    testscore.append(rfc_gs.score(X_test,y_test))\n",
    "    y_true_base, y_pred_base = y_test , rfc_gs.predict(X_test)\n",
    "    \n",
    "    # recall_base \n",
    "    recall.append(recall_score(y_true_base, y_pred_base))\n",
    "    \n",
    "    probs_base = rfc_gs.predict_proba(X_test)\n",
    "    preds_base = probs_base[:,1]\n",
    "    fpr_base, tpr_base, threshold = metrics.roc_curve(y_true_base, preds_base)\n",
    "    \n",
    "    # roc_auc_base \n",
    "    auc.append(metrics.auc(fpr_base, tpr_base))\n",
    "\n",
    "print(\"Test set score: {0:.3f} +/- {1:.3f}\".format(mean(testscore), stdev(testscore)))\n",
    "print(\"Recall: {0:.3f} +/- {1:.3f}\".format(mean(recall), stdev(recall)))\n",
    "print(\"AUC: {0:.3f} +/- {1:.3f}\".format(mean(auc), stdev(auc)))\n",
    "\n",
    "shap.summary_plot([class_0, class_1], X, plot_type=\"bar\")"
   ]
  },
  {
   "cell_type": "code",
   "execution_count": null,
   "metadata": {},
   "outputs": [],
   "source": []
  }
 ],
 "metadata": {
  "kernelspec": {
   "display_name": "Python 3",
   "language": "python",
   "name": "python3"
  },
  "language_info": {
   "codemirror_mode": {
    "name": "ipython",
    "version": 3
   },
   "file_extension": ".py",
   "mimetype": "text/x-python",
   "name": "python",
   "nbconvert_exporter": "python",
   "pygments_lexer": "ipython3",
   "version": "3.8.5"
  }
 },
 "nbformat": 4,
 "nbformat_minor": 4
}
