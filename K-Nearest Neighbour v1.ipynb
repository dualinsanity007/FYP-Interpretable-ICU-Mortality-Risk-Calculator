{
 "cells": [
  {
   "cell_type": "code",
   "execution_count": 1,
   "metadata": {
    "scrolled": true
   },
   "outputs": [
    {
     "name": "stdout",
     "output_type": "stream",
     "text": [
      "<class 'pandas.core.frame.DataFrame'>\n",
      "RangeIndex: 36330 entries, 0 to 36329\n",
      "Data columns (total 29 columns):\n",
      " #   Column                       Non-Null Count  Dtype  \n",
      "---  ------                       --------------  -----  \n",
      " 0   icustay_id                   36330 non-null  int64  \n",
      " 1   day_28_flag                  36330 non-null  int64  \n",
      " 2   icu_exp_flag                 36330 non-null  int64  \n",
      " 3   day_28_after_discharge_flag  36330 non-null  int64  \n",
      " 4   ethnicity                    36330 non-null  object \n",
      " 5   gender                       36330 non-null  object \n",
      " 6   age                          36330 non-null  float64\n",
      " 7   length_of_stay               36330 non-null  float64\n",
      " 8   service_type                 36330 non-null  object \n",
      " 9   weight                       36330 non-null  float64\n",
      " 10  height                       36330 non-null  float64\n",
      " 11  sofa                         36330 non-null  int64  \n",
      " 12  DiasBP                       36330 non-null  float64\n",
      " 13  HeartRate                    36330 non-null  float64\n",
      " 14  MAP                          36330 non-null  float64\n",
      " 15  SpO2                         36330 non-null  float64\n",
      " 16  SysBP                        36330 non-null  float64\n",
      " 17  Temperature                  36330 non-null  float64\n",
      " 18  BUN                          36330 non-null  float64\n",
      " 19  CHLORIDE                     36330 non-null  float64\n",
      " 20  CREATININE                   36330 non-null  float64\n",
      " 21  HEMOGLOBIN                   36330 non-null  float64\n",
      " 22  PLATELET                     36330 non-null  float64\n",
      " 23  POTASSIUM                    36330 non-null  float64\n",
      " 24  SODIUM                       36330 non-null  float64\n",
      " 25  TOTALCO2                     36330 non-null  float64\n",
      " 26  WBC                          36330 non-null  float64\n",
      " 27  bmi                          36330 non-null  float64\n",
      " 28  eGFR                         36330 non-null  float64\n",
      "dtypes: float64(21), int64(5), object(3)\n",
      "memory usage: 8.0+ MB\n"
     ]
    }
   ],
   "source": [
    "import pandas as pd\n",
    "import numpy as np\n",
    "import matplotlib.pyplot as plt\n",
    "import seaborn as sns\n",
    "import scipy.stats as stats\n",
    "import math\n",
    "from imblearn.over_sampling import SMOTE, SMOTENC\n",
    "from collections import Counter\n",
    "\n",
    "df = pd.read_csv('final.csv')\n",
    "\n",
    "df.info()"
   ]
  },
  {
   "cell_type": "code",
   "execution_count": 2,
   "metadata": {},
   "outputs": [],
   "source": [
    "id_col = 'icustay_id'\n",
    "\n",
    "target_col = 'day_28_after_discharge_flag'\n",
    "\n",
    "#20 numerical columns\n",
    "numerical_cols = ['age', 'length_of_stay', 'sofa', 'DiasBP', 'HeartRate', 'MAP', 'SpO2',\n",
    "                 'SysBP', 'Temperature', 'BUN', 'CHLORIDE', 'CREATININE', 'HEMOGLOBIN', 'PLATELET', 'POTASSIUM',\n",
    "                 'SODIUM', 'TOTALCO2', 'WBC', 'bmi', 'eGFR']\n",
    "\n",
    "#2 categorical columns\n",
    "categorical_cols = ['gender', 'service_type']"
   ]
  },
  {
   "cell_type": "code",
   "execution_count": 3,
   "metadata": {},
   "outputs": [
    {
     "name": "stdout",
     "output_type": "stream",
     "text": [
      "***************Categorical_Columns****************\n",
      "There is no Null values in the categorical columns\n",
      "All categorical columns have more than 1 value.\n",
      "****************Numerical_Columns*****************\n",
      "There is no Null values in the numerical columns\n",
      "All numerical columns have more than 1 value. \n",
      "\n"
     ]
    }
   ],
   "source": [
    "# combine the functions above\n",
    "# check categorical columns\n",
    "def explore_categorical_columns(df,categorical_cols):\n",
    "    nunique_values = []\n",
    "    na_values = []\n",
    "    for col in categorical_cols:\n",
    "        nunique_values.append(df[col].nunique())\n",
    "        na_values.append(len(df.loc[df[col].isna()]))\n",
    "    df_stats_categorical = pd.DataFrame(list(zip(categorical_cols,nunique_values,na_values)),columns=['Column_Name','#Unique_Values','#Null_Value'])\n",
    "    df_null = df_stats_categorical[df_stats_categorical['#Null_Value']>0]\n",
    "    df_unique_value = df_stats_categorical[df_stats_categorical['#Unique_Values'] == 1]\n",
    "    if len(df_null) > 0:\n",
    "        print('Columns with Null value: %s'%(str(df_null['Column_Name'])))\n",
    "    else:\n",
    "        print('There is no Null values in the categorical columns')\n",
    "    if len(df_unique_value) > 0:\n",
    "        print('Columns with only 1 unique value: %s'%(str(list(df_unique_value['Column_Name']))))\n",
    "    else:\n",
    "        print('All categorical columns have more than 1 value.')\n",
    "        \n",
    "#check numerical columns\n",
    "def explore_numerical_columns(df,numerical_cols):\n",
    "    na_values = []\n",
    "    for col in numerical_cols:\n",
    "        na_values.append(len(df.loc[df[col].isna()]))\n",
    "    df_stats_numerical = pd.DataFrame(list(zip(numerical_cols,na_values)),columns=['Column_Name','#Null_Value'])\n",
    "    df_null = df_stats_numerical[df_stats_numerical['#Null_Value']>0]\n",
    "    df_stats = df[numerical_cols].describe().T\n",
    "    df_unique_value = df_stats[df_stats['std']==0]\n",
    "    \n",
    "    if len(df_null) > 0:\n",
    "        print('Columns with Null value: %s'%(str(df_null['Column_Name'])))\n",
    "    else:\n",
    "        print('There is no Null values in the numerical columns')\n",
    "    \n",
    "    if len(df_unique_value) > 0:\n",
    "        print('Columns with only 1 unique value: %s'%(str(list(df_unique_value.index))))\n",
    "    else:\n",
    "        print('All numerical columns have more than 1 value. \\n')\n",
    "\n",
    "#check categorical columns\n",
    "print('Categorical_Columns'.center(50,\"*\"))\n",
    "explore_categorical_columns(df,categorical_cols)\n",
    "print('Numerical_Columns'.center(50,\"*\"))\n",
    "#check numerical columns\n",
    "explore_numerical_columns(df,numerical_cols)"
   ]
  },
  {
   "cell_type": "code",
   "execution_count": 4,
   "metadata": {},
   "outputs": [
    {
     "data": {
      "text/plain": [
       "array([0, 1])"
      ]
     },
     "execution_count": 4,
     "metadata": {},
     "output_type": "execute_result"
    }
   ],
   "source": [
    "# Check target variable\n",
    "df[target_col].unique()"
   ]
  },
  {
   "cell_type": "code",
   "execution_count": 5,
   "metadata": {},
   "outputs": [
    {
     "data": {
      "text/plain": [
       "0    33746\n",
       "1     2584\n",
       "Name: day_28_after_discharge_flag, dtype: int64"
      ]
     },
     "execution_count": 5,
     "metadata": {},
     "output_type": "execute_result"
    }
   ],
   "source": [
    "# Check class imbalance\n",
    "df[target_col].value_counts()"
   ]
  },
  {
   "cell_type": "code",
   "execution_count": 6,
   "metadata": {},
   "outputs": [],
   "source": [
    "df_features = pd.concat([df[numerical_cols], df[categorical_cols]],axis=1)\n",
    "df_labels = df[target_col]"
   ]
  },
  {
   "cell_type": "markdown",
   "metadata": {},
   "source": [
    "# K-Nearest Neighbours with SMOTE-NC"
   ]
  },
  {
   "cell_type": "code",
   "execution_count": 7,
   "metadata": {},
   "outputs": [
    {
     "name": "stdout",
     "output_type": "stream",
     "text": [
      "Test set score: 0.747 +/- 0.003\n",
      "Recall: 0.567 +/- 0.023\n",
      "AUC: 0.717 +/- 0.009\n"
     ]
    }
   ],
   "source": [
    "# Baseline K-Nearest Neighbours Classifier\n",
    "\n",
    "from sklearn.neighbors import KNeighborsClassifier\n",
    "from sklearn.model_selection import cross_val_score, train_test_split\n",
    "from sklearn.preprocessing import MinMaxScaler, StandardScaler\n",
    "import sklearn.metrics as metrics\n",
    "from sklearn.metrics import classification_report, recall_score, confusion_matrix, roc_curve, auc\n",
    "from statistics import mean, stdev\n",
    "\n",
    "oversample = SMOTENC(categorical_features=[20, 21, 22, 23, 24])\n",
    "testscore = []\n",
    "recall = []\n",
    "auc = []\n",
    "\n",
    "for i in range(30):\n",
    "    # Split the data into train and test (75% - 25%)\n",
    "    train_x, test_x, y_train, y_test = train_test_split(df_features,df_labels,test_size=0.25,random_state=i)\n",
    "\n",
    "    # Standardisation\n",
    "    scale_numerical_cols = df_features[numerical_cols].columns\n",
    "    scaler = StandardScaler().fit(train_x[numerical_cols])\n",
    "    numerical_train_x = pd.DataFrame(scaler.transform(train_x[numerical_cols]),columns=scale_numerical_cols)\n",
    "    categorical_train_x = pd.get_dummies(train_x[[var for var in categorical_cols]], drop_first = True).reset_index(drop=True)\n",
    "    X_train = pd.concat([numerical_train_x, categorical_train_x],axis=1)\n",
    "    numerical_test_x = pd.DataFrame(scaler.transform(test_x[numerical_cols]),columns=scale_numerical_cols)\n",
    "    categorical_test_x = pd.get_dummies(test_x[[var for var in categorical_cols]], drop_first = True).reset_index(drop=True)\n",
    "    X_test = pd.concat([numerical_test_x, categorical_test_x],axis=1)\n",
    "\n",
    "    # Modelling\n",
    "    X, y = oversample.fit_resample(X_train, y_train)\n",
    "\n",
    "    knc = KNeighborsClassifier()\n",
    "    knc.fit(X, y)\n",
    "    \n",
    "    # test_accuracy_base\n",
    "    testscore.append(knc.score(X_test,y_test))\n",
    "    y_true_base, y_pred_base = y_test , knc.predict(X_test)\n",
    "    \n",
    "    # recall_base \n",
    "    recall.append(recall_score(y_true_base, y_pred_base))\n",
    "    \n",
    "    probs_base = knc.predict_proba(X_test)\n",
    "    preds_base = probs_base[:,1]\n",
    "    fpr_base, tpr_base, threshold = metrics.roc_curve(y_true_base, preds_base)\n",
    "    \n",
    "    # roc_auc_base \n",
    "    auc.append(metrics.auc(fpr_base, tpr_base))\n",
    "\n",
    "print(\"Test set score: {0:.3f} +/- {1:.3f}\".format(mean(testscore), stdev(testscore)))\n",
    "print(\"Recall: {0:.3f} +/- {1:.3f}\".format(mean(recall), stdev(recall)))\n",
    "print(\"AUC: {0:.3f} +/- {1:.3f}\".format(mean(auc), stdev(auc)))"
   ]
  },
  {
   "cell_type": "markdown",
   "metadata": {},
   "source": [
    "# Hyperparameters Tuning - SMOTE-NC"
   ]
  },
  {
   "cell_type": "code",
   "execution_count": 7,
   "metadata": {},
   "outputs": [
    {
     "name": "stdout",
     "output_type": "stream",
     "text": [
      "Time taken for training the model: 6860.577443361282\n"
     ]
    }
   ],
   "source": [
    "# Tuning number of neighbours\n",
    "\n",
    "from sklearn.neighbors import KNeighborsClassifier\n",
    "from sklearn.model_selection import cross_val_score, train_test_split\n",
    "from sklearn.preprocessing import MinMaxScaler, StandardScaler\n",
    "import sklearn.metrics as metrics\n",
    "from sklearn.metrics import classification_report, recall_score, confusion_matrix, roc_curve, auc\n",
    "from statistics import mean, stdev\n",
    "import time\n",
    "\n",
    "start_time = time.time()\n",
    "\n",
    "neighbors = [int(x) for x in np.linspace(start = 1, stop = 50, num = 5)]\n",
    "oversample = SMOTENC(categorical_features=[20, 21, 22, 23, 24])\n",
    "test_total = []\n",
    "recall_total = []\n",
    "auc_total = []\n",
    "\n",
    "for i in range(30):\n",
    "    test = []\n",
    "    recall = []\n",
    "    auc = []\n",
    "    \n",
    "    # Split the data into train and test (75% - 25%)\n",
    "    train_x, test_x, y_train, y_test = train_test_split(df_features,df_labels,test_size=0.25,random_state=i)\n",
    "\n",
    "    # Standardisation\n",
    "    scale_numerical_cols = df_features[numerical_cols].columns\n",
    "    scaler = StandardScaler().fit(train_x[numerical_cols])\n",
    "    numerical_train_x = pd.DataFrame(scaler.transform(train_x[numerical_cols]),columns=scale_numerical_cols)\n",
    "    categorical_train_x = pd.get_dummies(train_x[[var for var in categorical_cols]], drop_first = True).reset_index(drop=True)\n",
    "    X_train = pd.concat([numerical_train_x, categorical_train_x],axis=1)\n",
    "    numerical_test_x = pd.DataFrame(scaler.transform(test_x[numerical_cols]),columns=scale_numerical_cols)\n",
    "    categorical_test_x = pd.get_dummies(test_x[[var for var in categorical_cols]], drop_first = True).reset_index(drop=True)\n",
    "    X_test = pd.concat([numerical_test_x, categorical_test_x],axis=1)\n",
    "\n",
    "    # Modelling\n",
    "    X, y = oversample.fit_resample(X_train, y_train)\n",
    "    \n",
    "    for n in neighbors:\n",
    "        knc = KNeighborsClassifier(n_neighbors=n)\n",
    "        knc.fit(X, y)\n",
    "    \n",
    "        # test_accuracy_base\n",
    "        test.append(knc.score(X_test,y_test))\n",
    "        y_true_gs, y_pred_gs = y_test, knc.predict(X_test)\n",
    "    \n",
    "        # recall_base \n",
    "        recall.append(recall_score(y_true_gs, y_pred_gs))\n",
    "    \n",
    "        probs_gs = knc.predict_proba(X_test)\n",
    "        preds_gs = probs_gs[:,1]\n",
    "        fpr_gs, tpr_gs, threshold = metrics.roc_curve(y_true_gs, preds_gs)\n",
    "    \n",
    "        # roc_auc_base \n",
    "        auc.append(metrics.auc(fpr_gs, tpr_gs))\n",
    "    \n",
    "    test_total.append(test)\n",
    "    recall_total.append(recall)\n",
    "    auc_total.append(auc)\n",
    "\n",
    "test_total = list(zip(*test_total))\n",
    "recall_total = list(zip(*recall_total))\n",
    "auc_total = list(zip(*auc_total))\n",
    "\n",
    "test_mean = [mean(x) for x in test_total]\n",
    "recall_mean = [mean(x) for x in recall_total]\n",
    "auc_mean = [mean(x) for x in auc_total]\n",
    "\n",
    "print('Time taken for training the model: '+ str(time.time() - start_time))"
   ]
  },
  {
   "cell_type": "code",
   "execution_count": 8,
   "metadata": {},
   "outputs": [
    {
     "data": {
      "image/png": "[encoded data removed]",
      "text/plain": [
       "<Figure size 432x288 with 1 Axes>"
      ]
     },
     "metadata": {
      "needs_background": "light"
     },
     "output_type": "display_data"
    }
   ],
   "source": [
    "from matplotlib.legend_handler import HandlerLine2D\n",
    "import matplotlib.pyplot as plt\n",
    "\n",
    "plt.plot(neighbors, test_mean, color='b', label='Test Accuracy')\n",
    "plt.plot(neighbors, recall_mean, color='r', label='Recall')\n",
    "plt.plot(neighbors, auc_mean, color='g', label='AUC')\n",
    "plt.legend(loc = 'best')\n",
    "plt.ylabel('Metrics')\n",
    "plt.xlabel('n_neighbors')\n",
    "plt.show()"
   ]
  },
  {
   "cell_type": "code",
   "execution_count": 9,
   "metadata": {},
   "outputs": [
    {
     "name": "stdout",
     "output_type": "stream",
     "text": [
      "Fitting 5 folds for each of 10 candidates, totalling 50 fits\n"
     ]
    },
    {
     "name": "stderr",
     "output_type": "stream",
     "text": [
      "[Parallel(n_jobs=-1)]: Using backend LokyBackend with 16 concurrent workers.\n",
      "[Parallel(n_jobs=-1)]: Done  18 tasks      | elapsed:  1.7min\n",
      "[Parallel(n_jobs=-1)]: Done  50 out of  50 | elapsed:  3.0min finished\n"
     ]
    },
    {
     "name": "stdout",
     "output_type": "stream",
     "text": [
      "Fitting 5 folds for each of 10 candidates, totalling 50 fits\n"
     ]
    },
    {
     "name": "stderr",
     "output_type": "stream",
     "text": [
      "[Parallel(n_jobs=-1)]: Using backend LokyBackend with 16 concurrent workers.\n",
      "[Parallel(n_jobs=-1)]: Done  18 tasks      | elapsed:  1.7min\n",
      "[Parallel(n_jobs=-1)]: Done  50 out of  50 | elapsed:  3.0min finished\n"
     ]
    },
    {
     "name": "stdout",
     "output_type": "stream",
     "text": [
      "Fitting 5 folds for each of 10 candidates, totalling 50 fits\n"
     ]
    },
    {
     "name": "stderr",
     "output_type": "stream",
     "text": [
      "[Parallel(n_jobs=-1)]: Using backend LokyBackend with 16 concurrent workers.\n",
      "[Parallel(n_jobs=-1)]: Done  18 tasks      | elapsed:  1.7min\n",
      "[Parallel(n_jobs=-1)]: Done  50 out of  50 | elapsed:  3.0min finished\n"
     ]
    },
    {
     "name": "stdout",
     "output_type": "stream",
     "text": [
      "Fitting 5 folds for each of 10 candidates, totalling 50 fits\n"
     ]
    },
    {
     "name": "stderr",
     "output_type": "stream",
     "text": [
      "[Parallel(n_jobs=-1)]: Using backend LokyBackend with 16 concurrent workers.\n",
      "[Parallel(n_jobs=-1)]: Done  18 tasks      | elapsed:  1.7min\n",
      "[Parallel(n_jobs=-1)]: Done  50 out of  50 | elapsed:  3.0min finished\n"
     ]
    },
    {
     "name": "stdout",
     "output_type": "stream",
     "text": [
      "Fitting 5 folds for each of 10 candidates, totalling 50 fits\n"
     ]
    },
    {
     "name": "stderr",
     "output_type": "stream",
     "text": [
      "[Parallel(n_jobs=-1)]: Using backend LokyBackend with 16 concurrent workers.\n",
      "[Parallel(n_jobs=-1)]: Done  18 tasks      | elapsed:  1.7min\n",
      "[Parallel(n_jobs=-1)]: Done  50 out of  50 | elapsed:  3.0min finished\n"
     ]
    },
    {
     "name": "stdout",
     "output_type": "stream",
     "text": [
      "Fitting 5 folds for each of 10 candidates, totalling 50 fits\n"
     ]
    },
    {
     "name": "stderr",
     "output_type": "stream",
     "text": [
      "[Parallel(n_jobs=-1)]: Using backend LokyBackend with 16 concurrent workers.\n",
      "[Parallel(n_jobs=-1)]: Done  18 tasks      | elapsed:  1.7min\n",
      "[Parallel(n_jobs=-1)]: Done  50 out of  50 | elapsed:  3.0min finished\n"
     ]
    },
    {
     "name": "stdout",
     "output_type": "stream",
     "text": [
      "Fitting 5 folds for each of 10 candidates, totalling 50 fits\n"
     ]
    },
    {
     "name": "stderr",
     "output_type": "stream",
     "text": [
      "[Parallel(n_jobs=-1)]: Using backend LokyBackend with 16 concurrent workers.\n",
      "[Parallel(n_jobs=-1)]: Done  18 tasks      | elapsed:  1.7min\n",
      "[Parallel(n_jobs=-1)]: Done  50 out of  50 | elapsed:  3.0min finished\n"
     ]
    },
    {
     "name": "stdout",
     "output_type": "stream",
     "text": [
      "Fitting 5 folds for each of 10 candidates, totalling 50 fits\n"
     ]
    },
    {
     "name": "stderr",
     "output_type": "stream",
     "text": [
      "[Parallel(n_jobs=-1)]: Using backend LokyBackend with 16 concurrent workers.\n",
      "[Parallel(n_jobs=-1)]: Done  18 tasks      | elapsed:  1.7min\n",
      "[Parallel(n_jobs=-1)]: Done  50 out of  50 | elapsed:  3.0min finished\n"
     ]
    },
    {
     "name": "stdout",
     "output_type": "stream",
     "text": [
      "Fitting 5 folds for each of 10 candidates, totalling 50 fits\n"
     ]
    },
    {
     "name": "stderr",
     "output_type": "stream",
     "text": [
      "[Parallel(n_jobs=-1)]: Using backend LokyBackend with 16 concurrent workers.\n",
      "[Parallel(n_jobs=-1)]: Done  18 tasks      | elapsed:  1.7min\n",
      "[Parallel(n_jobs=-1)]: Done  50 out of  50 | elapsed:  3.0min finished\n",
      "[Parallel(n_jobs=-1)]: Done  18 tasks      | elapsed:  1.7min\n",
      "[Parallel(n_jobs=-1)]: Done  50 out of  50 | elapsed:  3.0min finished\n"
     ]
    },
    {
     "name": "stdout",
     "output_type": "stream",
     "text": [
      "Fitting 5 folds for each of 10 candidates, totalling 50 fits\n"
     ]
    },
    {
     "name": "stderr",
     "output_type": "stream",
     "text": [
      "[Parallel(n_jobs=-1)]: Using backend LokyBackend with 16 concurrent workers.\n",
      "[Parallel(n_jobs=-1)]: Done  18 tasks      | elapsed:  1.7min\n",
      "[Parallel(n_jobs=-1)]: Done  50 out of  50 | elapsed:  3.0min finished\n"
     ]
    },
    {
     "name": "stdout",
     "output_type": "stream",
     "text": [
      "Fitting 5 folds for each of 10 candidates, totalling 50 fits\n"
     ]
    },
    {
     "name": "stderr",
     "output_type": "stream",
     "text": [
      "[Parallel(n_jobs=-1)]: Using backend LokyBackend with 16 concurrent workers.\n",
      "[Parallel(n_jobs=-1)]: Done  18 tasks      | elapsed:  1.7min\n",
      "[Parallel(n_jobs=-1)]: Done  50 out of  50 | elapsed:  3.0min finished\n"
     ]
    },
    {
     "name": "stdout",
     "output_type": "stream",
     "text": [
      "Fitting 5 folds for each of 10 candidates, totalling 50 fits\n"
     ]
    },
    {
     "name": "stderr",
     "output_type": "stream",
     "text": [
      "[Parallel(n_jobs=-1)]: Using backend LokyBackend with 16 concurrent workers.\n",
      "[Parallel(n_jobs=-1)]: Done  18 tasks      | elapsed:  1.7min\n",
      "[Parallel(n_jobs=-1)]: Done  50 out of  50 | elapsed:  3.0min finished\n"
     ]
    },
    {
     "name": "stdout",
     "output_type": "stream",
     "text": [
      "Fitting 5 folds for each of 10 candidates, totalling 50 fits\n"
     ]
    },
    {
     "name": "stderr",
     "output_type": "stream",
     "text": [
      "[Parallel(n_jobs=-1)]: Using backend LokyBackend with 16 concurrent workers.\n",
      "[Parallel(n_jobs=-1)]: Done  18 tasks      | elapsed:  1.7min\n",
      "[Parallel(n_jobs=-1)]: Done  50 out of  50 | elapsed:  3.0min finished\n"
     ]
    },
    {
     "name": "stdout",
     "output_type": "stream",
     "text": [
      "Fitting 5 folds for each of 10 candidates, totalling 50 fits\n"
     ]
    },
    {
     "name": "stderr",
     "output_type": "stream",
     "text": [
      "[Parallel(n_jobs=-1)]: Using backend LokyBackend with 16 concurrent workers.\n",
      "[Parallel(n_jobs=-1)]: Done  18 tasks      | elapsed:  1.7min\n",
      "[Parallel(n_jobs=-1)]: Done  50 out of  50 | elapsed:  3.0min finished\n"
     ]
    },
    {
     "name": "stdout",
     "output_type": "stream",
     "text": [
      "Fitting 5 folds for each of 10 candidates, totalling 50 fits\n"
     ]
    },
    {
     "name": "stderr",
     "output_type": "stream",
     "text": [
      "[Parallel(n_jobs=-1)]: Using backend LokyBackend with 16 concurrent workers.\n",
      "[Parallel(n_jobs=-1)]: Done  18 tasks      | elapsed:  1.8min\n",
      "[Parallel(n_jobs=-1)]: Done  50 out of  50 | elapsed:  3.0min finished\n"
     ]
    },
    {
     "name": "stdout",
     "output_type": "stream",
     "text": [
      "Fitting 5 folds for each of 10 candidates, totalling 50 fits\n"
     ]
    },
    {
     "name": "stderr",
     "output_type": "stream",
     "text": [
      "[Parallel(n_jobs=-1)]: Using backend LokyBackend with 16 concurrent workers.\n",
      "[Parallel(n_jobs=-1)]: Done  18 tasks      | elapsed:  1.7min\n",
      "[Parallel(n_jobs=-1)]: Done  50 out of  50 | elapsed:  3.0min finished\n"
     ]
    },
    {
     "name": "stdout",
     "output_type": "stream",
     "text": [
      "Fitting 5 folds for each of 10 candidates, totalling 50 fits\n"
     ]
    },
    {
     "name": "stderr",
     "output_type": "stream",
     "text": [
      "[Parallel(n_jobs=-1)]: Using backend LokyBackend with 16 concurrent workers.\n",
      "[Parallel(n_jobs=-1)]: Done  18 tasks      | elapsed:  1.7min\n",
      "[Parallel(n_jobs=-1)]: Done  50 out of  50 | elapsed:  3.0min finished\n"
     ]
    },
    {
     "name": "stdout",
     "output_type": "stream",
     "text": [
      "Fitting 5 folds for each of 10 candidates, totalling 50 fits\n"
     ]
    },
    {
     "name": "stderr",
     "output_type": "stream",
     "text": [
      "[Parallel(n_jobs=-1)]: Using backend LokyBackend with 16 concurrent workers.\n",
      "[Parallel(n_jobs=-1)]: Done  18 tasks      | elapsed:  1.7min\n",
      "[Parallel(n_jobs=-1)]: Done  50 out of  50 | elapsed:  3.0min finished\n"
     ]
    },
    {
     "name": "stdout",
     "output_type": "stream",
     "text": [
      "Fitting 5 folds for each of 10 candidates, totalling 50 fits\n"
     ]
    },
    {
     "name": "stderr",
     "output_type": "stream",
     "text": [
      "[Parallel(n_jobs=-1)]: Using backend LokyBackend with 16 concurrent workers.\n",
      "[Parallel(n_jobs=-1)]: Done  18 tasks      | elapsed:  1.7min\n",
      "[Parallel(n_jobs=-1)]: Done  50 out of  50 | elapsed:  3.0min finished\n"
     ]
    },
    {
     "name": "stdout",
     "output_type": "stream",
     "text": [
      "Fitting 5 folds for each of 10 candidates, totalling 50 fits\n"
     ]
    },
    {
     "name": "stderr",
     "output_type": "stream",
     "text": [
      "[Parallel(n_jobs=-1)]: Using backend LokyBackend with 16 concurrent workers.\n",
      "[Parallel(n_jobs=-1)]: Done  18 tasks      | elapsed:  1.7min\n",
      "[Parallel(n_jobs=-1)]: Done  50 out of  50 | elapsed:  3.0min finished\n"
     ]
    },
    {
     "name": "stdout",
     "output_type": "stream",
     "text": [
      "Fitting 5 folds for each of 10 candidates, totalling 50 fits\n"
     ]
    },
    {
     "name": "stderr",
     "output_type": "stream",
     "text": [
      "[Parallel(n_jobs=-1)]: Using backend LokyBackend with 16 concurrent workers.\n",
      "[Parallel(n_jobs=-1)]: Done  18 tasks      | elapsed:  1.7min\n",
      "[Parallel(n_jobs=-1)]: Done  50 out of  50 | elapsed:  3.0min finished\n"
     ]
    },
    {
     "name": "stdout",
     "output_type": "stream",
     "text": [
      "Fitting 5 folds for each of 10 candidates, totalling 50 fits\n"
     ]
    },
    {
     "name": "stderr",
     "output_type": "stream",
     "text": [
      "[Parallel(n_jobs=-1)]: Using backend LokyBackend with 16 concurrent workers.\n",
      "[Parallel(n_jobs=-1)]: Done  18 tasks      | elapsed:  1.7min\n",
      "[Parallel(n_jobs=-1)]: Done  50 out of  50 | elapsed:  3.0min finished\n"
     ]
    },
    {
     "name": "stdout",
     "output_type": "stream",
     "text": [
      "Fitting 5 folds for each of 10 candidates, totalling 50 fits\n"
     ]
    },
    {
     "name": "stderr",
     "output_type": "stream",
     "text": [
      "[Parallel(n_jobs=-1)]: Using backend LokyBackend with 16 concurrent workers.\n",
      "[Parallel(n_jobs=-1)]: Done  18 tasks      | elapsed:  1.7min\n",
      "[Parallel(n_jobs=-1)]: Done  50 out of  50 | elapsed:  3.0min finished\n"
     ]
    },
    {
     "name": "stdout",
     "output_type": "stream",
     "text": [
      "Fitting 5 folds for each of 10 candidates, totalling 50 fits\n"
     ]
    },
    {
     "name": "stderr",
     "output_type": "stream",
     "text": [
      "[Parallel(n_jobs=-1)]: Using backend LokyBackend with 16 concurrent workers.\n",
      "[Parallel(n_jobs=-1)]: Done  18 tasks      | elapsed:  1.7min\n",
      "[Parallel(n_jobs=-1)]: Done  50 out of  50 | elapsed:  3.0min finished\n"
     ]
    },
    {
     "name": "stdout",
     "output_type": "stream",
     "text": [
      "Fitting 5 folds for each of 10 candidates, totalling 50 fits\n"
     ]
    },
    {
     "name": "stderr",
     "output_type": "stream",
     "text": [
      "[Parallel(n_jobs=-1)]: Using backend LokyBackend with 16 concurrent workers.\n",
      "[Parallel(n_jobs=-1)]: Done  18 tasks      | elapsed:  1.7min\n",
      "[Parallel(n_jobs=-1)]: Done  50 out of  50 | elapsed:  3.0min finished\n"
     ]
    },
    {
     "name": "stdout",
     "output_type": "stream",
     "text": [
      "Fitting 5 folds for each of 10 candidates, totalling 50 fits\n"
     ]
    },
    {
     "name": "stderr",
     "output_type": "stream",
     "text": [
      "[Parallel(n_jobs=-1)]: Using backend LokyBackend with 16 concurrent workers.\n",
      "[Parallel(n_jobs=-1)]: Done  18 tasks      | elapsed:  1.7min\n",
      "[Parallel(n_jobs=-1)]: Done  50 out of  50 | elapsed:  3.0min finished\n"
     ]
    },
    {
     "name": "stdout",
     "output_type": "stream",
     "text": [
      "Fitting 5 folds for each of 10 candidates, totalling 50 fits\n"
     ]
    },
    {
     "name": "stderr",
     "output_type": "stream",
     "text": [
      "[Parallel(n_jobs=-1)]: Using backend LokyBackend with 16 concurrent workers.\n",
      "[Parallel(n_jobs=-1)]: Done  18 tasks      | elapsed:  1.7min\n",
      "[Parallel(n_jobs=-1)]: Done  50 out of  50 | elapsed:  3.0min finished\n"
     ]
    },
    {
     "name": "stdout",
     "output_type": "stream",
     "text": [
      "Fitting 5 folds for each of 10 candidates, totalling 50 fits\n"
     ]
    },
    {
     "name": "stderr",
     "output_type": "stream",
     "text": [
      "[Parallel(n_jobs=-1)]: Using backend LokyBackend with 16 concurrent workers.\n",
      "[Parallel(n_jobs=-1)]: Done  18 tasks      | elapsed:  1.7min\n",
      "[Parallel(n_jobs=-1)]: Done  50 out of  50 | elapsed:  3.0min finished\n"
     ]
    },
    {
     "name": "stdout",
     "output_type": "stream",
     "text": [
      "Fitting 5 folds for each of 10 candidates, totalling 50 fits\n"
     ]
    },
    {
     "name": "stderr",
     "output_type": "stream",
     "text": [
      "[Parallel(n_jobs=-1)]: Using backend LokyBackend with 16 concurrent workers.\n",
      "[Parallel(n_jobs=-1)]: Done  18 tasks      | elapsed:  1.7min\n",
      "[Parallel(n_jobs=-1)]: Done  50 out of  50 | elapsed:  3.0min finished\n"
     ]
    },
    {
     "name": "stdout",
     "output_type": "stream",
     "text": [
      "Test set score: 0.713 +/- 0.005\n",
      "Recall: 0.673 +/- 0.017\n",
      "AUC: 0.761 +/- 0.008\n"
     ]
    }
   ],
   "source": [
    "from sklearn.neighbors import KNeighborsClassifier\n",
    "from sklearn.model_selection import train_test_split\n",
    "from sklearn.preprocessing import MinMaxScaler, StandardScaler\n",
    "import time\n",
    "import sklearn.metrics as metrics\n",
    "from sklearn.metrics import classification_report\n",
    "from sklearn.metrics import recall_score\n",
    "from sklearn.metrics import confusion_matrix\n",
    "from sklearn.model_selection import GridSearchCV\n",
    "from statistics import mean\n",
    "from statistics import stdev \n",
    "\n",
    "oversample = SMOTENC(categorical_features=[20, 21, 22, 23, 24])\n",
    "testscore = []\n",
    "recall = []\n",
    "auc = []\n",
    "\n",
    "for i in range(30):\n",
    "    train_x, test_x, y_train, y_test = train_test_split(df_features,df_labels,test_size=0.25,random_state=i)\n",
    "    \n",
    "    # Standardisation\n",
    "    scale_numerical_cols = df_features[numerical_cols].columns\n",
    "    scaler = StandardScaler().fit(train_x[numerical_cols])\n",
    "    numerical_train_x = pd.DataFrame(scaler.transform(train_x[numerical_cols]),columns=scale_numerical_cols)\n",
    "    categorical_train_x = pd.get_dummies(train_x[[var for var in categorical_cols]], drop_first = True).reset_index(drop=True)\n",
    "    X_train = pd.concat([numerical_train_x, categorical_train_x],axis=1)\n",
    "    numerical_test_x = pd.DataFrame(scaler.transform(test_x[numerical_cols]),columns=scale_numerical_cols)\n",
    "    categorical_test_x = pd.get_dummies(test_x[[var for var in categorical_cols]], drop_first = True).reset_index(drop=True)\n",
    "    X_test = pd.concat([numerical_test_x, categorical_test_x],axis=1)\n",
    "    \n",
    "    # Modelling\n",
    "    X, y = oversample.fit_resample(X_train, y_train)\n",
    "    \n",
    "    n = [int(x) for x in np.linspace(start = 16, stop = 25, num = 10)]\n",
    "    knc = KNeighborsClassifier()\n",
    "    param_dist = {'n_neighbors': n}\n",
    "\n",
    "    gs_knc = GridSearchCV(knc, param_dist, cv = 5, verbose = 1, n_jobs=-1)\n",
    "\n",
    "    gs_knc.fit(X, y)\n",
    "    knc_gs = gs_knc.best_estimator_.fit(X, y)\n",
    "    \n",
    "    # test_accuracy_base\n",
    "    testscore.append(knc_gs.score(X_test,y_test))\n",
    "    y_true_gs, y_pred_gs = y_test, knc_gs.predict(X_test)\n",
    "    \n",
    "    # recall_base \n",
    "    recall.append(recall_score(y_true_gs, y_pred_gs))\n",
    "    \n",
    "    probs_gs = knc_gs.predict_proba(X_test)\n",
    "    preds_gs = probs_gs[:,1]\n",
    "    fpr_gs, tpr_gs, threshold = metrics.roc_curve(y_true_gs, preds_gs)\n",
    "    \n",
    "    # roc_auc_base \n",
    "    auc.append(metrics.auc(fpr_gs, tpr_gs))\n",
    "\n",
    "print(\"Test set score: {0:.3f} +/- {1:.3f}\".format(mean(testscore), stdev(testscore)))\n",
    "print(\"Recall: {0:.3f} +/- {1:.3f}\".format(mean(recall), stdev(recall)))\n",
    "print(\"AUC: {0:.3f} +/- {1:.3f}\".format(mean(auc), stdev(auc)))"
   ]
  },
  {
   "cell_type": "code",
   "execution_count": null,
   "metadata": {},
   "outputs": [],
   "source": []
  }
 ],
 "metadata": {
  "kernelspec": {
   "display_name": "Python 3",
   "language": "python",
   "name": "python3"
  },
  "language_info": {
   "codemirror_mode": {
    "name": "ipython",
    "version": 3
   },
   "file_extension": ".py",
   "mimetype": "text/x-python",
   "name": "python",
   "nbconvert_exporter": "python",
   "pygments_lexer": "ipython3",
   "version": "3.8.5"
  }
 },
 "nbformat": 4,
 "nbformat_minor": 4
}
