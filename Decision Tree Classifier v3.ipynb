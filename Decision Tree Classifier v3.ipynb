{
 "cells": [
  {
   "cell_type": "markdown",
   "metadata": {},
   "source": [
    "# Setting up"
   ]
  },
  {
   "cell_type": "code",
   "execution_count": 1,
   "metadata": {
    "scrolled": true
   },
   "outputs": [
    {
     "name": "stdout",
     "output_type": "stream",
     "text": [
      "<class 'pandas.core.frame.DataFrame'>\n",
      "RangeIndex: 36330 entries, 0 to 36329\n",
      "Data columns (total 29 columns):\n",
      " #   Column                       Non-Null Count  Dtype  \n",
      "---  ------                       --------------  -----  \n",
      " 0   icustay_id                   36330 non-null  int64  \n",
      " 1   day_28_flag                  36330 non-null  int64  \n",
      " 2   icu_exp_flag                 36330 non-null  int64  \n",
      " 3   day_28_after_discharge_flag  36330 non-null  int64  \n",
      " 4   ethnicity                    36330 non-null  object \n",
      " 5   gender                       36330 non-null  object \n",
      " 6   age                          36330 non-null  float64\n",
      " 7   length_of_stay               36330 non-null  float64\n",
      " 8   service_type                 36330 non-null  object \n",
      " 9   weight                       36330 non-null  float64\n",
      " 10  height                       36330 non-null  float64\n",
      " 11  sofa                         36330 non-null  int64  \n",
      " 12  DiasBP                       36330 non-null  float64\n",
      " 13  HeartRate                    36330 non-null  float64\n",
      " 14  MAP                          36330 non-null  float64\n",
      " 15  SpO2                         36330 non-null  float64\n",
      " 16  SysBP                        36330 non-null  float64\n",
      " 17  Temperature                  36330 non-null  float64\n",
      " 18  BUN                          36330 non-null  float64\n",
      " 19  CHLORIDE                     36330 non-null  float64\n",
      " 20  CREATININE                   36330 non-null  float64\n",
      " 21  HEMOGLOBIN                   36330 non-null  float64\n",
      " 22  PLATELET                     36330 non-null  float64\n",
      " 23  POTASSIUM                    36330 non-null  float64\n",
      " 24  SODIUM                       36330 non-null  float64\n",
      " 25  TOTALCO2                     36330 non-null  float64\n",
      " 26  WBC                          36330 non-null  float64\n",
      " 27  bmi                          36330 non-null  float64\n",
      " 28  eGFR                         36330 non-null  float64\n",
      "dtypes: float64(21), int64(5), object(3)\n",
      "memory usage: 8.0+ MB\n"
     ]
    }
   ],
   "source": [
    "import pandas as pd\n",
    "import numpy as np\n",
    "import matplotlib.pyplot as plt\n",
    "import seaborn as sns\n",
    "import scipy.stats as stats\n",
    "import math\n",
    "from imblearn.over_sampling import SMOTE, SMOTENC\n",
    "from collections import Counter\n",
    "\n",
    "df = pd.read_csv('final.csv')\n",
    "\n",
    "df.info()"
   ]
  },
  {
   "cell_type": "code",
   "execution_count": 2,
   "metadata": {},
   "outputs": [],
   "source": [
    "id_col = 'icustay_id'\n",
    "\n",
    "target_col = 'day_28_after_discharge_flag'\n",
    "\n",
    "#20 numerical columns\n",
    "numerical_cols = ['age', 'length_of_stay', 'sofa', 'DiasBP', 'HeartRate', 'MAP', 'SpO2',\n",
    "                 'SysBP', 'Temperature', 'BUN', 'CHLORIDE', 'CREATININE', 'HEMOGLOBIN', 'PLATELET', 'POTASSIUM',\n",
    "                 'SODIUM', 'TOTALCO2', 'WBC', 'bmi', 'eGFR']\n",
    "\n",
    "#2 categorical columns\n",
    "categorical_cols = ['gender', 'service_type']"
   ]
  },
  {
   "cell_type": "code",
   "execution_count": 3,
   "metadata": {},
   "outputs": [
    {
     "name": "stdout",
     "output_type": "stream",
     "text": [
      "***************Categorical_Columns****************\n",
      "There is no Null values in the categorical columns\n",
      "All categorical columns have more than 1 value.\n",
      "****************Numerical_Columns*****************\n",
      "There is no Null values in the numerical columns\n",
      "All numerical columns have more than 1 value. \n",
      "\n"
     ]
    }
   ],
   "source": [
    "# combine the functions above\n",
    "# check categorical columns\n",
    "def explore_categorical_columns(df,categorical_cols):\n",
    "    nunique_values = []\n",
    "    na_values = []\n",
    "    for col in categorical_cols:\n",
    "        nunique_values.append(df[col].nunique())\n",
    "        na_values.append(len(df.loc[df[col].isna()]))\n",
    "    df_stats_categorical = pd.DataFrame(list(zip(categorical_cols,nunique_values,na_values)),columns=['Column_Name','#Unique_Values','#Null_Value'])\n",
    "    df_null = df_stats_categorical[df_stats_categorical['#Null_Value']>0]\n",
    "    df_unique_value = df_stats_categorical[df_stats_categorical['#Unique_Values'] == 1]\n",
    "    if len(df_null) > 0:\n",
    "        print('Columns with Null value: %s'%(str(df_null['Column_Name'])))\n",
    "    else:\n",
    "        print('There is no Null values in the categorical columns')\n",
    "    if len(df_unique_value) > 0:\n",
    "        print('Columns with only 1 unique value: %s'%(str(list(df_unique_value['Column_Name']))))\n",
    "    else:\n",
    "        print('All categorical columns have more than 1 value.')\n",
    "        \n",
    "#check numerical columns\n",
    "def explore_numerical_columns(df,numerical_cols):\n",
    "    na_values = []\n",
    "    for col in numerical_cols:\n",
    "        na_values.append(len(df.loc[df[col].isna()]))\n",
    "    df_stats_numerical = pd.DataFrame(list(zip(numerical_cols,na_values)),columns=['Column_Name','#Null_Value'])\n",
    "    df_null = df_stats_numerical[df_stats_numerical['#Null_Value']>0]\n",
    "    df_stats = df[numerical_cols].describe().T\n",
    "    df_unique_value = df_stats[df_stats['std']==0]\n",
    "    \n",
    "    if len(df_null) > 0:\n",
    "        print('Columns with Null value: %s'%(str(df_null['Column_Name'])))\n",
    "    else:\n",
    "        print('There is no Null values in the numerical columns')\n",
    "    \n",
    "    if len(df_unique_value) > 0:\n",
    "        print('Columns with only 1 unique value: %s'%(str(list(df_unique_value.index))))\n",
    "    else:\n",
    "        print('All numerical columns have more than 1 value. \\n')\n",
    "\n",
    "#check categorical columns\n",
    "print('Categorical_Columns'.center(50,\"*\"))\n",
    "explore_categorical_columns(df,categorical_cols)\n",
    "print('Numerical_Columns'.center(50,\"*\"))\n",
    "#check numerical columns\n",
    "explore_numerical_columns(df,numerical_cols)"
   ]
  },
  {
   "cell_type": "code",
   "execution_count": 4,
   "metadata": {},
   "outputs": [
    {
     "data": {
      "text/plain": [
       "array([0, 1])"
      ]
     },
     "execution_count": 4,
     "metadata": {},
     "output_type": "execute_result"
    }
   ],
   "source": [
    "# Check target variable\n",
    "df[target_col].unique()"
   ]
  },
  {
   "cell_type": "code",
   "execution_count": 5,
   "metadata": {},
   "outputs": [
    {
     "data": {
      "text/plain": [
       "0    33746\n",
       "1     2584\n",
       "Name: day_28_after_discharge_flag, dtype: int64"
      ]
     },
     "execution_count": 5,
     "metadata": {},
     "output_type": "execute_result"
    }
   ],
   "source": [
    "# Check class imbalance\n",
    "df[target_col].value_counts()"
   ]
  },
  {
   "cell_type": "code",
   "execution_count": 6,
   "metadata": {},
   "outputs": [],
   "source": [
    "df_features = pd.concat([df[numerical_cols], df[categorical_cols]],axis=1)\n",
    "df_labels = df[target_col]"
   ]
  },
  {
   "cell_type": "markdown",
   "metadata": {},
   "source": [
    "# Decision Tree Classifier with SMOTE-NC"
   ]
  },
  {
   "cell_type": "code",
   "execution_count": 7,
   "metadata": {},
   "outputs": [
    {
     "name": "stdout",
     "output_type": "stream",
     "text": [
      "Test set score: 0.860 +/- 0.003\n",
      "Recall: 0.263 +/- 0.018\n",
      "AUC: 0.584 +/- 0.009\n"
     ]
    }
   ],
   "source": [
    "# Baseline Decision Tree Classifier\n",
    "\n",
    "from sklearn.tree import DecisionTreeClassifier, plot_tree\n",
    "from sklearn.model_selection import cross_val_score, train_test_split\n",
    "import sklearn.metrics as metrics\n",
    "from sklearn.metrics import classification_report, recall_score, confusion_matrix, roc_curve, auc\n",
    "from statistics import mean, stdev\n",
    "\n",
    "oversample = SMOTENC(categorical_features=[20, 21, 22, 23, 24, 25, 26])\n",
    "testscore = []\n",
    "recall = []\n",
    "auc = []\n",
    "\n",
    "for i in range(30):\n",
    "    # Split the data into train and test (75% - 25%)\n",
    "    train_x, test_x, y_train, y_test = train_test_split(df_features,df_labels,test_size=0.25,random_state=i)\n",
    "\n",
    "    # Preprocessing\n",
    "    numerical_train_x = train_x[numerical_cols].reset_index(drop=True)\n",
    "    categorical_train_x = pd.get_dummies(train_x[[var for var in categorical_cols]]).reset_index(drop=True)\n",
    "    X_train = pd.concat([numerical_train_x, categorical_train_x],axis=1)\n",
    "    numerical_test_x = test_x[numerical_cols].reset_index(drop=True)\n",
    "    categorical_test_x = pd.get_dummies(test_x[[var for var in categorical_cols]]).reset_index(drop=True)\n",
    "    X_test = pd.concat([numerical_test_x, categorical_test_x],axis=1)\n",
    "\n",
    "    # Modelling\n",
    "    X, y = oversample.fit_resample(X_train, y_train)\n",
    "\n",
    "    dtc = DecisionTreeClassifier()\n",
    "    dtc.fit(X, y)\n",
    "    \n",
    "    # test_accuracy_base\n",
    "    testscore.append(dtc.score(X_test,y_test))\n",
    "    y_true_base, y_pred_base = y_test , dtc.predict(X_test)\n",
    "    \n",
    "    # recall_base \n",
    "    recall.append(recall_score(y_true_base, y_pred_base))\n",
    "    \n",
    "    probs_base = dtc.predict_proba(X_test)\n",
    "    preds_base = probs_base[:,1]\n",
    "    fpr_base, tpr_base, threshold = metrics.roc_curve(y_true_base, preds_base)\n",
    "    \n",
    "    # roc_auc_base \n",
    "    auc.append(metrics.auc(fpr_base, tpr_base))\n",
    "\n",
    "print(\"Test set score: {0:.3f} +/- {1:.3f}\".format(mean(testscore), stdev(testscore)))\n",
    "print(\"Recall: {0:.3f} +/- {1:.3f}\".format(mean(recall), stdev(recall)))\n",
    "print(\"AUC: {0:.3f} +/- {1:.3f}\".format(mean(auc), stdev(auc)))"
   ]
  },
  {
   "cell_type": "markdown",
   "metadata": {},
   "source": [
    "# Hyperparameter Tuning - SMOTE-NC"
   ]
  },
  {
   "cell_type": "code",
   "execution_count": 8,
   "metadata": {
    "scrolled": true
   },
   "outputs": [
    {
     "name": "stdout",
     "output_type": "stream",
     "text": [
      "Fitting 5 folds for each of 100 candidates, totalling 500 fits\n"
     ]
    },
    {
     "name": "stderr",
     "output_type": "stream",
     "text": [
      "[Parallel(n_jobs=-1)]: Using backend LokyBackend with 16 concurrent workers.\n",
      "[Parallel(n_jobs=-1)]: Done  18 tasks      | elapsed:    1.5s\n",
      "[Parallel(n_jobs=-1)]: Done 168 tasks      | elapsed:    3.6s\n",
      "[Parallel(n_jobs=-1)]: Done 418 tasks      | elapsed:    7.6s\n",
      "[Parallel(n_jobs=-1)]: Done 500 out of 500 | elapsed:    8.8s finished\n"
     ]
    }
   ],
   "source": [
    "# DTC - Randomised Tuning\n",
    "\n",
    "from sklearn.tree import DecisionTreeClassifier, plot_tree\n",
    "from sklearn.model_selection import cross_val_score, train_test_split, RandomizedSearchCV\n",
    "from sklearn.metrics import classification_report, recall_score, confusion_matrix, roc_curve, auc, make_scorer, accuracy_score\n",
    "from statistics import mean, stdev\n",
    "import seaborn as sns\n",
    "\n",
    "oversample = SMOTENC(categorical_features=[20, 21, 22, 23, 24])\n",
    "\n",
    "max_features = ['log2', 'sqrt']\n",
    "min_samples_split = [int(x) for x in np.linspace(start = 2, stop = 50, num = 10)]\n",
    "min_samples_leaf = [int(x) for x in np.linspace(start = 2, stop = 50, num = 10)]\n",
    "\n",
    "# Split the data into train and test (75% - 25%)\n",
    "train_x, test_x, y_train, y_test = train_test_split(df_features,df_labels,test_size=0.25)\n",
    "\n",
    "# Preprocessing\n",
    "numerical_train_x = train_x[numerical_cols].reset_index(drop=True)\n",
    "categorical_train_x = pd.get_dummies(train_x[[var for var in categorical_cols]], drop_first = True).reset_index(drop=True)\n",
    "X_train = pd.concat([numerical_train_x, categorical_train_x],axis=1)\n",
    "numerical_test_x = test_x[numerical_cols].reset_index(drop=True)\n",
    "categorical_test_x = pd.get_dummies(test_x[[var for var in categorical_cols]], drop_first = True).reset_index(drop=True)\n",
    "X_test = pd.concat([numerical_test_x, categorical_test_x],axis=1)\n",
    "\n",
    "# Modelling\n",
    "X, y = oversample.fit_resample(X_train, y_train)\n",
    "\n",
    "dtc = DecisionTreeClassifier()\n",
    "param_dist = {'max_features': max_features,\n",
    "              'min_samples_split': min_samples_split,\n",
    "              'min_samples_leaf': min_samples_leaf}\n",
    "\n",
    "scorers = {\n",
    "    'recall_score': make_scorer(recall_score),\n",
    "    'accuracy_score': make_scorer(accuracy_score)\n",
    "}\n",
    "\n",
    "dtc_rdm = RandomizedSearchCV(dtc, param_dist, scoring = scorers, refit = 'recall_score', n_iter = 100, cv = 5, verbose = 1, n_jobs=-1)\n",
    "\n",
    "dtc_rdm.fit(X, y)\n",
    "\n",
    "dtc_df = pd.DataFrame(dtc_rdm.cv_results_).sort_values(by=['rank_test_recall_score', 'rank_test_accuracy_score']).reset_index(drop=True)\n",
    "dtc_df = dtc_df[['param_min_samples_split', 'param_min_samples_leaf', 'param_max_features', \n",
    "                 'mean_test_recall_score', 'std_test_recall_score', 'mean_test_accuracy_score', 'std_test_accuracy_score']]"
   ]
  },
  {
   "cell_type": "code",
   "execution_count": 10,
   "metadata": {},
   "outputs": [
    {
     "data": {
      "image/png": "[encoded data removed]",
      "text/plain": [
       "<Figure size 1224x432 with 3 Axes>"
      ]
     },
     "metadata": {},
     "output_type": "display_data"
    }
   ],
   "source": [
    "fig, axs = plt.subplots(ncols=3, nrows=1)\n",
    "sns.set(style=\"whitegrid\", color_codes=True)\n",
    "fig.set_size_inches(17,6)\n",
    "sns.barplot(x='param_min_samples_split', y='mean_test_accuracy_score', data=dtc_df, ax=axs[0], color='coral')\n",
    "axs[0].set_ylim([0.81,0.85]),axs[0].set_title(label = 'min_samples_split', weight='bold')\n",
    "sns.barplot(x='param_min_samples_leaf', y='mean_test_accuracy_score', data=dtc_df, ax=axs[1], color='lightgreen')\n",
    "axs[1].set_ylim([0.8,0.86]),axs[1].set_title(label = 'min_samples_leaf', weight='bold')\n",
    "sns.barplot(x='param_max_features', y='mean_test_accuracy_score', data=dtc_df, ax=axs[2], color='wheat')\n",
    "axs[2].set_ylim([0.81,0.84]),axs[2].set_title(label = 'max_features', weight='bold')\n",
    "plt.show()"
   ]
  },
  {
   "cell_type": "code",
   "execution_count": 12,
   "metadata": {},
   "outputs": [
    {
     "data": {
      "image/png": "[encoded data removed]",
      "text/plain": [
       "<Figure size 1224x432 with 3 Axes>"
      ]
     },
     "metadata": {},
     "output_type": "display_data"
    }
   ],
   "source": [
    "fig, axs = plt.subplots(ncols=3, nrows=1)\n",
    "sns.set(style=\"whitegrid\", color_codes=True)\n",
    "fig.set_size_inches(17,6)\n",
    "sns.barplot(x='param_min_samples_split', y='mean_test_recall_score', data=dtc_df, ax=axs[0], color='coral')\n",
    "axs[0].set_ylim([0.81,0.85]),axs[0].set_title(label = 'min_samples_split', weight='bold')\n",
    "sns.barplot(x='param_min_samples_leaf', y='mean_test_recall_score', data=dtc_df, ax=axs[1], color='lightgreen')\n",
    "axs[1].set_ylim([0.81,0.85]),axs[1].set_title(label = 'min_samples_leaf', weight='bold')\n",
    "sns.barplot(x='param_max_features', y='mean_test_recall_score', data=dtc_df, ax=axs[2], color='wheat')\n",
    "axs[2].set_ylim([0.82,0.84]),axs[2].set_title(label = 'max_features', weight='bold')\n",
    "plt.show()"
   ]
  },
  {
   "cell_type": "code",
   "execution_count": 13,
   "metadata": {},
   "outputs": [
    {
     "data": {
      "image/png": "[encoded data removed]",
      "text/plain": [
       "<Figure size 432x288 with 1 Axes>"
      ]
     },
     "metadata": {},
     "output_type": "display_data"
    }
   ],
   "source": [
    "# Hyperparameter Tuning - Minimal Cost Complexity Pruning\n",
    "\n",
    "from sklearn.tree import DecisionTreeClassifier, plot_tree\n",
    "from sklearn.model_selection import cross_val_score, train_test_split\n",
    "from sklearn.metrics import classification_report, recall_score, confusion_matrix, roc_curve, auc\n",
    "from statistics import mean, stdev\n",
    "\n",
    "oversample = SMOTENC(categorical_features=[20, 21, 22, 23, 24])\n",
    "\n",
    "# Split the data into train and test (75% - 25%)\n",
    "train_x, test_x, y_train, y_test = train_test_split(df_features,df_labels,test_size=0.25)\n",
    "\n",
    "# Preprocessing\n",
    "numerical_train_x = train_x[numerical_cols].reset_index(drop=True)\n",
    "categorical_train_x = pd.get_dummies(train_x[[var for var in categorical_cols]], drop_first = True).reset_index(drop=True)\n",
    "X_train = pd.concat([numerical_train_x, categorical_train_x],axis=1)\n",
    "numerical_test_x = test_x[numerical_cols].reset_index(drop=True)\n",
    "categorical_test_x = pd.get_dummies(test_x[[var for var in categorical_cols]], drop_first = True).reset_index(drop=True)\n",
    "X_test = pd.concat([numerical_test_x, categorical_test_x],axis=1)\n",
    "\n",
    "# Modelling\n",
    "X, y = oversample.fit_resample(X_train, y_train)\n",
    "\n",
    "dtc = DecisionTreeClassifier()\n",
    "dtc.fit(X, y)\n",
    "    \n",
    "path = dtc.cost_complexity_pruning_path(X, y)\n",
    "ccp_alphas, impurities = path.ccp_alphas, path.impurities\n",
    "    \n",
    "clfs = []\n",
    "for alpha in ccp_alphas:\n",
    "    clf = DecisionTreeClassifier(random_state=0, ccp_alpha = alpha)\n",
    "    clf.fit(X_train, y_train)\n",
    "    clfs.append(clf)\n",
    "        \n",
    "clfs = clfs[:-1]\n",
    "ccp_alphas = ccp_alphas[:-1]\n",
    "\n",
    "testscore = []\n",
    "recall = []\n",
    "auc = []\n",
    "for clf in clfs:\n",
    "    testscore.append(clf.score(X_test, y_test))\n",
    "    y_true_base, y_pred_base = y_test , clf.predict(X_test)\n",
    "    recall.append(recall_score(y_true_base, y_pred_base))\n",
    "    probs_base = clf.predict_proba(X_test)\n",
    "    preds_base = probs_base[:,1]\n",
    "    fpr_base, tpr_base, threshold = metrics.roc_curve(y_true_base, preds_base)\n",
    "    auc.append(metrics.auc(fpr_base, tpr_base))\n",
    "\n",
    "fig, ax = plt.subplots()\n",
    "ax.set_xlabel(\"alpha\")\n",
    "ax.set_ylabel(\"metric\")\n",
    "ax.set_title(\"Metric vs Alpha for testing sets\")\n",
    "ax.plot(ccp_alphas, testscore, marker='o', label=\"test\",\n",
    "        drawstyle=\"steps-post\")\n",
    "ax.plot(ccp_alphas, recall, marker='o', label=\"recall\",\n",
    "        drawstyle=\"steps-post\")\n",
    "ax.plot(ccp_alphas, auc, marker='o', label=\"auc\",\n",
    "        drawstyle=\"steps-post\")\n",
    "ax.legend()\n",
    "plt.xlim(0,0.0001)\n",
    "plt.show()"
   ]
  },
  {
   "cell_type": "code",
   "execution_count": 14,
   "metadata": {},
   "outputs": [
    {
     "name": "stdout",
     "output_type": "stream",
     "text": [
      "Time taken for training the model: 298.8773989677429\n"
     ]
    }
   ],
   "source": [
    "from sklearn.tree import DecisionTreeClassifier, plot_tree\n",
    "from sklearn.model_selection import cross_val_score, train_test_split\n",
    "import sklearn.metrics as metrics\n",
    "from sklearn.metrics import classification_report, recall_score, confusion_matrix, roc_curve, auc\n",
    "from statistics import mean, stdev\n",
    "import sklearn.metrics as metrics\n",
    "from sklearn.model_selection import GridSearchCV\n",
    "import time\n",
    "\n",
    "start_time = time.time()\n",
    "\n",
    "max_depth = [int(x) for x in np.linspace(start = 2, stop = 50, num = 10)]\n",
    "oversample = SMOTENC(categorical_features=[20, 21, 22, 23, 24])\n",
    "\n",
    "test_total = []\n",
    "recall_total = []\n",
    "auc_total = []\n",
    "\n",
    "for i in range(30):\n",
    "    test = []\n",
    "    recall = []\n",
    "    auc = []\n",
    "    \n",
    "    # Split the data into train and test (75% - 25%)\n",
    "    train_x, test_x, y_train, y_test = train_test_split(df_features,df_labels,test_size=0.25,random_state=i)\n",
    "\n",
    "    # Preprocessing\n",
    "    numerical_train_x = train_x[numerical_cols].reset_index(drop=True)\n",
    "    categorical_train_x = pd.get_dummies(train_x[[var for var in categorical_cols]], drop_first = True).reset_index(drop=True)\n",
    "    X_train = pd.concat([numerical_train_x, categorical_train_x],axis=1)\n",
    "    numerical_test_x = test_x[numerical_cols].reset_index(drop=True)\n",
    "    categorical_test_x = pd.get_dummies(test_x[[var for var in categorical_cols]], drop_first = True).reset_index(drop=True)\n",
    "    X_test = pd.concat([numerical_test_x, categorical_test_x],axis=1)\n",
    "\n",
    "    # Modelling\n",
    "    X, y = oversample.fit_resample(X_train, y_train)\n",
    "\n",
    "    for d in max_depth:\n",
    "        dtc = DecisionTreeClassifier(max_depth = d)\n",
    "        dtc.fit(X, y)\n",
    "    \n",
    "        # test_accuracy\n",
    "        test.append(dtc.score(X_test,y_test))\n",
    "        y_true_base, y_pred_base = y_test , dtc.predict(X_test)\n",
    "    \n",
    "        # recall\n",
    "        recall.append(recall_score(y_true_base, y_pred_base))\n",
    "    \n",
    "        probs_base = dtc.predict_proba(X_test)\n",
    "        preds_base = probs_base[:,1]\n",
    "        fpr_base, tpr_base, threshold = metrics.roc_curve(y_true_base, preds_base)\n",
    "    \n",
    "        # roc_auc\n",
    "        auc.append(metrics.auc(fpr_base, tpr_base))\n",
    "    \n",
    "    test_total.append(test)\n",
    "    recall_total.append(recall)\n",
    "    auc_total.append(auc)\n",
    "\n",
    "test_total = list(zip(*test_total))\n",
    "recall_total = list(zip(*recall_total))\n",
    "auc_total = list(zip(*auc_total))\n",
    "\n",
    "test_mean = [mean(x) for x in test_total]\n",
    "recall_mean = [mean(x) for x in recall_total]\n",
    "auc_mean = [mean(x) for x in auc_total]\n",
    "\n",
    "print('Time taken for training the model: '+ str(time.time() - start_time))"
   ]
  },
  {
   "cell_type": "code",
   "execution_count": 15,
   "metadata": {},
   "outputs": [
    {
     "data": {
      "image/png": "[encoded data removed]",
      "text/plain": [
       "<Figure size 432x288 with 1 Axes>"
      ]
     },
     "metadata": {},
     "output_type": "display_data"
    }
   ],
   "source": [
    "from matplotlib.legend_handler import HandlerLine2D\n",
    "import matplotlib.pyplot as plt\n",
    "\n",
    "plt.plot(max_depth, test_mean, color='b', label='Test Accuracy')\n",
    "plt.plot(max_depth, recall_mean, color='r', label='Recall')\n",
    "plt.plot(max_depth, auc_mean, color='g', label='AUC')\n",
    "plt.legend(loc = 'lower right')\n",
    "plt.ylabel('Metrics')\n",
    "plt.xlabel('max_depth')\n",
    "plt.show()"
   ]
  },
  {
   "cell_type": "code",
   "execution_count": 8,
   "metadata": {
    "scrolled": true
   },
   "outputs": [
    {
     "name": "stdout",
     "output_type": "stream",
     "text": [
      "Fitting 5 folds for each of 900 candidates, totalling 4500 fits\n"
     ]
    },
    {
     "name": "stderr",
     "output_type": "stream",
     "text": [
      "[Parallel(n_jobs=-1)]: Using backend LokyBackend with 16 concurrent workers.\n",
      "[Parallel(n_jobs=-1)]: Done  18 tasks      | elapsed:    1.1s\n",
      "[Parallel(n_jobs=-1)]: Done 240 tasks      | elapsed:    2.4s\n",
      "[Parallel(n_jobs=-1)]: Done 740 tasks      | elapsed:    5.4s\n",
      "[Parallel(n_jobs=-1)]: Done 1440 tasks      | elapsed:    9.6s\n",
      "[Parallel(n_jobs=-1)]: Done 2340 tasks      | elapsed:   15.0s\n",
      "[Parallel(n_jobs=-1)]: Done 3440 tasks      | elapsed:   21.4s\n",
      "[Parallel(n_jobs=-1)]: Done 4469 out of 4500 | elapsed:   27.6s remaining:    0.2s\n",
      "[Parallel(n_jobs=-1)]: Done 4500 out of 4500 | elapsed:   27.8s finished\n"
     ]
    },
    {
     "name": "stdout",
     "output_type": "stream",
     "text": [
      "Fitting 5 folds for each of 900 candidates, totalling 4500 fits\n"
     ]
    },
    {
     "name": "stderr",
     "output_type": "stream",
     "text": [
      "[Parallel(n_jobs=-1)]: Using backend LokyBackend with 16 concurrent workers.\n",
      "[Parallel(n_jobs=-1)]: Done  18 tasks      | elapsed:    0.2s\n",
      "[Parallel(n_jobs=-1)]: Done 304 tasks      | elapsed:    2.0s\n",
      "[Parallel(n_jobs=-1)]: Done 804 tasks      | elapsed:    4.9s\n",
      "[Parallel(n_jobs=-1)]: Done 1504 tasks      | elapsed:    9.0s\n",
      "[Parallel(n_jobs=-1)]: Done 2404 tasks      | elapsed:   14.3s\n",
      "[Parallel(n_jobs=-1)]: Done 3504 tasks      | elapsed:   20.8s\n",
      "[Parallel(n_jobs=-1)]: Done 4469 out of 4500 | elapsed:   26.6s remaining:    0.2s\n",
      "[Parallel(n_jobs=-1)]: Done 4500 out of 4500 | elapsed:   26.8s finished\n"
     ]
    },
    {
     "name": "stdout",
     "output_type": "stream",
     "text": [
      "Fitting 5 folds for each of 900 candidates, totalling 4500 fits\n"
     ]
    },
    {
     "name": "stderr",
     "output_type": "stream",
     "text": [
      "[Parallel(n_jobs=-1)]: Using backend LokyBackend with 16 concurrent workers.\n",
      "[Parallel(n_jobs=-1)]: Done  18 tasks      | elapsed:    0.2s\n",
      "[Parallel(n_jobs=-1)]: Done 304 tasks      | elapsed:    2.0s\n",
      "[Parallel(n_jobs=-1)]: Done 804 tasks      | elapsed:    4.9s\n",
      "[Parallel(n_jobs=-1)]: Done 1504 tasks      | elapsed:    9.1s\n",
      "[Parallel(n_jobs=-1)]: Done 2404 tasks      | elapsed:   14.4s\n",
      "[Parallel(n_jobs=-1)]: Done 3504 tasks      | elapsed:   20.9s\n",
      "[Parallel(n_jobs=-1)]: Done 4500 out of 4500 | elapsed:   26.8s finished\n"
     ]
    },
    {
     "name": "stdout",
     "output_type": "stream",
     "text": [
      "Fitting 5 folds for each of 900 candidates, totalling 4500 fits\n"
     ]
    },
    {
     "name": "stderr",
     "output_type": "stream",
     "text": [
      "[Parallel(n_jobs=-1)]: Using backend LokyBackend with 16 concurrent workers.\n",
      "[Parallel(n_jobs=-1)]: Done  18 tasks      | elapsed:    0.2s\n",
      "[Parallel(n_jobs=-1)]: Done 304 tasks      | elapsed:    2.0s\n",
      "[Parallel(n_jobs=-1)]: Done 804 tasks      | elapsed:    4.9s\n",
      "[Parallel(n_jobs=-1)]: Done 1504 tasks      | elapsed:    9.1s\n",
      "[Parallel(n_jobs=-1)]: Done 2404 tasks      | elapsed:   14.4s\n",
      "[Parallel(n_jobs=-1)]: Done 3504 tasks      | elapsed:   20.9s\n",
      "[Parallel(n_jobs=-1)]: Done 4469 out of 4500 | elapsed:   26.6s remaining:    0.2s\n",
      "[Parallel(n_jobs=-1)]: Done 4500 out of 4500 | elapsed:   26.8s finished\n"
     ]
    },
    {
     "name": "stdout",
     "output_type": "stream",
     "text": [
      "Fitting 5 folds for each of 900 candidates, totalling 4500 fits\n"
     ]
    },
    {
     "name": "stderr",
     "output_type": "stream",
     "text": [
      "[Parallel(n_jobs=-1)]: Using backend LokyBackend with 16 concurrent workers.\n",
      "[Parallel(n_jobs=-1)]: Done  18 tasks      | elapsed:    0.2s\n",
      "[Parallel(n_jobs=-1)]: Done 304 tasks      | elapsed:    2.0s\n",
      "[Parallel(n_jobs=-1)]: Done 804 tasks      | elapsed:    5.0s\n",
      "[Parallel(n_jobs=-1)]: Done 1504 tasks      | elapsed:    9.2s\n",
      "[Parallel(n_jobs=-1)]: Done 2404 tasks      | elapsed:   14.5s\n",
      "[Parallel(n_jobs=-1)]: Done 3504 tasks      | elapsed:   21.0s\n",
      "[Parallel(n_jobs=-1)]: Done 4469 out of 4500 | elapsed:   26.8s remaining:    0.2s\n",
      "[Parallel(n_jobs=-1)]: Done 4500 out of 4500 | elapsed:   27.0s finished\n"
     ]
    },
    {
     "name": "stdout",
     "output_type": "stream",
     "text": [
      "Fitting 5 folds for each of 900 candidates, totalling 4500 fits\n"
     ]
    },
    {
     "name": "stderr",
     "output_type": "stream",
     "text": [
      "[Parallel(n_jobs=-1)]: Using backend LokyBackend with 16 concurrent workers.\n",
      "[Parallel(n_jobs=-1)]: Done  18 tasks      | elapsed:    0.2s\n",
      "[Parallel(n_jobs=-1)]: Done 304 tasks      | elapsed:    2.0s\n",
      "[Parallel(n_jobs=-1)]: Done 804 tasks      | elapsed:    4.9s\n",
      "[Parallel(n_jobs=-1)]: Done 1504 tasks      | elapsed:    9.0s\n",
      "[Parallel(n_jobs=-1)]: Done 2404 tasks      | elapsed:   14.4s\n",
      "[Parallel(n_jobs=-1)]: Done 3504 tasks      | elapsed:   20.9s\n",
      "[Parallel(n_jobs=-1)]: Done 4469 out of 4500 | elapsed:   26.7s remaining:    0.2s\n",
      "[Parallel(n_jobs=-1)]: Done 4500 out of 4500 | elapsed:   26.9s finished\n"
     ]
    },
    {
     "name": "stdout",
     "output_type": "stream",
     "text": [
      "Fitting 5 folds for each of 900 candidates, totalling 4500 fits\n"
     ]
    },
    {
     "name": "stderr",
     "output_type": "stream",
     "text": [
      "[Parallel(n_jobs=-1)]: Using backend LokyBackend with 16 concurrent workers.\n",
      "[Parallel(n_jobs=-1)]: Done  18 tasks      | elapsed:    0.2s\n",
      "[Parallel(n_jobs=-1)]: Done 304 tasks      | elapsed:    2.0s\n",
      "[Parallel(n_jobs=-1)]: Done 804 tasks      | elapsed:    4.9s\n",
      "[Parallel(n_jobs=-1)]: Done 1504 tasks      | elapsed:    9.1s\n",
      "[Parallel(n_jobs=-1)]: Done 2404 tasks      | elapsed:   14.4s\n",
      "[Parallel(n_jobs=-1)]: Done 3504 tasks      | elapsed:   20.9s\n",
      "[Parallel(n_jobs=-1)]: Done 4500 out of 4500 | elapsed:   26.8s finished\n"
     ]
    },
    {
     "name": "stdout",
     "output_type": "stream",
     "text": [
      "Fitting 5 folds for each of 900 candidates, totalling 4500 fits\n"
     ]
    },
    {
     "name": "stderr",
     "output_type": "stream",
     "text": [
      "[Parallel(n_jobs=-1)]: Using backend LokyBackend with 16 concurrent workers.\n",
      "[Parallel(n_jobs=-1)]: Done  18 tasks      | elapsed:    0.2s\n",
      "[Parallel(n_jobs=-1)]: Done 304 tasks      | elapsed:    2.0s\n",
      "[Parallel(n_jobs=-1)]: Done 804 tasks      | elapsed:    4.9s\n",
      "[Parallel(n_jobs=-1)]: Done 1504 tasks      | elapsed:    9.1s\n",
      "[Parallel(n_jobs=-1)]: Done 2404 tasks      | elapsed:   14.4s\n",
      "[Parallel(n_jobs=-1)]: Done 3504 tasks      | elapsed:   20.9s\n",
      "[Parallel(n_jobs=-1)]: Done 4469 out of 4500 | elapsed:   26.7s remaining:    0.2s\n",
      "[Parallel(n_jobs=-1)]: Done 4500 out of 4500 | elapsed:   26.9s finished\n"
     ]
    },
    {
     "name": "stdout",
     "output_type": "stream",
     "text": [
      "Fitting 5 folds for each of 900 candidates, totalling 4500 fits\n"
     ]
    },
    {
     "name": "stderr",
     "output_type": "stream",
     "text": [
      "[Parallel(n_jobs=-1)]: Using backend LokyBackend with 16 concurrent workers.\n",
      "[Parallel(n_jobs=-1)]: Done  18 tasks      | elapsed:    0.2s\n",
      "[Parallel(n_jobs=-1)]: Done 512 tasks      | elapsed:    3.3s\n",
      "[Parallel(n_jobs=-1)]: Done 1512 tasks      | elapsed:    8.9s\n",
      "[Parallel(n_jobs=-1)]: Done 2912 tasks      | elapsed:   16.8s\n",
      "[Parallel(n_jobs=-1)]: Done 4500 out of 4500 | elapsed:   25.8s finished\n"
     ]
    },
    {
     "name": "stdout",
     "output_type": "stream",
     "text": [
      "Fitting 5 folds for each of 900 candidates, totalling 4500 fits\n"
     ]
    },
    {
     "name": "stderr",
     "output_type": "stream",
     "text": [
      "[Parallel(n_jobs=-1)]: Using backend LokyBackend with 16 concurrent workers.\n",
      "[Parallel(n_jobs=-1)]: Done  18 tasks      | elapsed:    0.2s\n",
      "[Parallel(n_jobs=-1)]: Done 304 tasks      | elapsed:    2.0s\n",
      "[Parallel(n_jobs=-1)]: Done 804 tasks      | elapsed:    4.9s\n",
      "[Parallel(n_jobs=-1)]: Done 1504 tasks      | elapsed:    9.1s\n",
      "[Parallel(n_jobs=-1)]: Done 2404 tasks      | elapsed:   14.4s\n",
      "[Parallel(n_jobs=-1)]: Done 3504 tasks      | elapsed:   20.9s\n",
      "[Parallel(n_jobs=-1)]: Done 4469 out of 4500 | elapsed:   26.6s remaining:    0.2s\n",
      "[Parallel(n_jobs=-1)]: Done 4500 out of 4500 | elapsed:   26.8s finished\n"
     ]
    },
    {
     "name": "stdout",
     "output_type": "stream",
     "text": [
      "Fitting 5 folds for each of 900 candidates, totalling 4500 fits\n"
     ]
    },
    {
     "name": "stderr",
     "output_type": "stream",
     "text": [
      "[Parallel(n_jobs=-1)]: Using backend LokyBackend with 16 concurrent workers.\n",
      "[Parallel(n_jobs=-1)]: Done  18 tasks      | elapsed:    0.2s\n",
      "[Parallel(n_jobs=-1)]: Done 512 tasks      | elapsed:    3.3s\n",
      "[Parallel(n_jobs=-1)]: Done 1512 tasks      | elapsed:    8.9s\n",
      "[Parallel(n_jobs=-1)]: Done 2912 tasks      | elapsed:   16.9s\n",
      "[Parallel(n_jobs=-1)]: Done 4500 out of 4500 | elapsed:   25.8s finished\n"
     ]
    },
    {
     "name": "stdout",
     "output_type": "stream",
     "text": [
      "Fitting 5 folds for each of 900 candidates, totalling 4500 fits\n"
     ]
    },
    {
     "name": "stderr",
     "output_type": "stream",
     "text": [
      "[Parallel(n_jobs=-1)]: Using backend LokyBackend with 16 concurrent workers.\n",
      "[Parallel(n_jobs=-1)]: Done  18 tasks      | elapsed:    0.2s\n",
      "[Parallel(n_jobs=-1)]: Done 304 tasks      | elapsed:    2.0s\n",
      "[Parallel(n_jobs=-1)]: Done 804 tasks      | elapsed:    4.9s\n",
      "[Parallel(n_jobs=-1)]: Done 1504 tasks      | elapsed:    9.0s\n",
      "[Parallel(n_jobs=-1)]: Done 2404 tasks      | elapsed:   14.3s\n",
      "[Parallel(n_jobs=-1)]: Done 3504 tasks      | elapsed:   20.9s\n",
      "[Parallel(n_jobs=-1)]: Done 4469 out of 4500 | elapsed:   26.6s remaining:    0.2s\n",
      "[Parallel(n_jobs=-1)]: Done 4500 out of 4500 | elapsed:   26.8s finished\n"
     ]
    },
    {
     "name": "stdout",
     "output_type": "stream",
     "text": [
      "Fitting 5 folds for each of 900 candidates, totalling 4500 fits\n"
     ]
    },
    {
     "name": "stderr",
     "output_type": "stream",
     "text": [
      "[Parallel(n_jobs=-1)]: Using backend LokyBackend with 16 concurrent workers.\n",
      "[Parallel(n_jobs=-1)]: Done  18 tasks      | elapsed:    0.2s\n",
      "[Parallel(n_jobs=-1)]: Done 304 tasks      | elapsed:    2.0s\n",
      "[Parallel(n_jobs=-1)]: Done 804 tasks      | elapsed:    4.9s\n",
      "[Parallel(n_jobs=-1)]: Done 1504 tasks      | elapsed:    9.1s\n",
      "[Parallel(n_jobs=-1)]: Done 2404 tasks      | elapsed:   14.5s\n",
      "[Parallel(n_jobs=-1)]: Done 3504 tasks      | elapsed:   21.0s\n",
      "[Parallel(n_jobs=-1)]: Done 4500 out of 4500 | elapsed:   26.9s finished\n"
     ]
    },
    {
     "name": "stdout",
     "output_type": "stream",
     "text": [
      "Fitting 5 folds for each of 900 candidates, totalling 4500 fits\n"
     ]
    },
    {
     "name": "stderr",
     "output_type": "stream",
     "text": [
      "[Parallel(n_jobs=-1)]: Using backend LokyBackend with 16 concurrent workers.\n",
      "[Parallel(n_jobs=-1)]: Done  18 tasks      | elapsed:    0.2s\n",
      "[Parallel(n_jobs=-1)]: Done 304 tasks      | elapsed:    2.0s\n",
      "[Parallel(n_jobs=-1)]: Done 804 tasks      | elapsed:    5.0s\n",
      "[Parallel(n_jobs=-1)]: Done 1504 tasks      | elapsed:    9.1s\n",
      "[Parallel(n_jobs=-1)]: Done 2404 tasks      | elapsed:   14.5s\n",
      "[Parallel(n_jobs=-1)]: Done 3504 tasks      | elapsed:   21.0s\n",
      "[Parallel(n_jobs=-1)]: Done 4469 out of 4500 | elapsed:   26.7s remaining:    0.2s\n",
      "[Parallel(n_jobs=-1)]: Done 4500 out of 4500 | elapsed:   26.9s finished\n"
     ]
    },
    {
     "name": "stdout",
     "output_type": "stream",
     "text": [
      "Fitting 5 folds for each of 900 candidates, totalling 4500 fits\n"
     ]
    },
    {
     "name": "stderr",
     "output_type": "stream",
     "text": [
      "[Parallel(n_jobs=-1)]: Using backend LokyBackend with 16 concurrent workers.\n",
      "[Parallel(n_jobs=-1)]: Done  18 tasks      | elapsed:    0.2s\n",
      "[Parallel(n_jobs=-1)]: Done 304 tasks      | elapsed:    2.0s\n",
      "[Parallel(n_jobs=-1)]: Done 804 tasks      | elapsed:    4.9s\n",
      "[Parallel(n_jobs=-1)]: Done 1504 tasks      | elapsed:    9.1s\n",
      "[Parallel(n_jobs=-1)]: Done 2404 tasks      | elapsed:   14.4s\n",
      "[Parallel(n_jobs=-1)]: Done 3504 tasks      | elapsed:   20.9s\n",
      "[Parallel(n_jobs=-1)]: Done 4500 out of 4500 | elapsed:   26.9s finished\n"
     ]
    },
    {
     "name": "stdout",
     "output_type": "stream",
     "text": [
      "Fitting 5 folds for each of 900 candidates, totalling 4500 fits\n"
     ]
    },
    {
     "name": "stderr",
     "output_type": "stream",
     "text": [
      "[Parallel(n_jobs=-1)]: Using backend LokyBackend with 16 concurrent workers.\n",
      "[Parallel(n_jobs=-1)]: Done  18 tasks      | elapsed:    0.2s\n",
      "[Parallel(n_jobs=-1)]: Done 304 tasks      | elapsed:    2.0s\n",
      "[Parallel(n_jobs=-1)]: Done 804 tasks      | elapsed:    4.9s\n",
      "[Parallel(n_jobs=-1)]: Done 1504 tasks      | elapsed:    9.0s\n",
      "[Parallel(n_jobs=-1)]: Done 2404 tasks      | elapsed:   14.4s\n",
      "[Parallel(n_jobs=-1)]: Done 3504 tasks      | elapsed:   20.9s\n",
      "[Parallel(n_jobs=-1)]: Done 4500 out of 4500 | elapsed:   26.7s finished\n"
     ]
    },
    {
     "name": "stdout",
     "output_type": "stream",
     "text": [
      "Fitting 5 folds for each of 900 candidates, totalling 4500 fits\n"
     ]
    },
    {
     "name": "stderr",
     "output_type": "stream",
     "text": [
      "[Parallel(n_jobs=-1)]: Using backend LokyBackend with 16 concurrent workers.\n",
      "[Parallel(n_jobs=-1)]: Done  18 tasks      | elapsed:    0.2s\n",
      "[Parallel(n_jobs=-1)]: Done 304 tasks      | elapsed:    2.0s\n",
      "[Parallel(n_jobs=-1)]: Done 804 tasks      | elapsed:    4.9s\n",
      "[Parallel(n_jobs=-1)]: Done 1504 tasks      | elapsed:    9.1s\n",
      "[Parallel(n_jobs=-1)]: Done 2404 tasks      | elapsed:   14.4s\n",
      "[Parallel(n_jobs=-1)]: Done 3504 tasks      | elapsed:   20.9s\n",
      "[Parallel(n_jobs=-1)]: Done 4500 out of 4500 | elapsed:   26.9s finished\n"
     ]
    },
    {
     "name": "stdout",
     "output_type": "stream",
     "text": [
      "Fitting 5 folds for each of 900 candidates, totalling 4500 fits\n"
     ]
    },
    {
     "name": "stderr",
     "output_type": "stream",
     "text": [
      "[Parallel(n_jobs=-1)]: Using backend LokyBackend with 16 concurrent workers.\n",
      "[Parallel(n_jobs=-1)]: Done  18 tasks      | elapsed:    0.2s\n",
      "[Parallel(n_jobs=-1)]: Done 304 tasks      | elapsed:    2.0s\n",
      "[Parallel(n_jobs=-1)]: Done 804 tasks      | elapsed:    4.9s\n",
      "[Parallel(n_jobs=-1)]: Done 1504 tasks      | elapsed:    9.0s\n",
      "[Parallel(n_jobs=-1)]: Done 2404 tasks      | elapsed:   14.4s\n",
      "[Parallel(n_jobs=-1)]: Done 3504 tasks      | elapsed:   20.9s\n",
      "[Parallel(n_jobs=-1)]: Done 4469 out of 4500 | elapsed:   26.6s remaining:    0.2s\n",
      "[Parallel(n_jobs=-1)]: Done 4500 out of 4500 | elapsed:   26.8s finished\n"
     ]
    },
    {
     "name": "stdout",
     "output_type": "stream",
     "text": [
      "Fitting 5 folds for each of 900 candidates, totalling 4500 fits\n"
     ]
    },
    {
     "name": "stderr",
     "output_type": "stream",
     "text": [
      "[Parallel(n_jobs=-1)]: Using backend LokyBackend with 16 concurrent workers.\n",
      "[Parallel(n_jobs=-1)]: Done  18 tasks      | elapsed:    0.2s\n",
      "[Parallel(n_jobs=-1)]: Done 304 tasks      | elapsed:    2.0s\n",
      "[Parallel(n_jobs=-1)]: Done 804 tasks      | elapsed:    4.9s\n",
      "[Parallel(n_jobs=-1)]: Done 1504 tasks      | elapsed:    9.0s\n",
      "[Parallel(n_jobs=-1)]: Done 2404 tasks      | elapsed:   14.4s\n",
      "[Parallel(n_jobs=-1)]: Done 3504 tasks      | elapsed:   20.9s\n",
      "[Parallel(n_jobs=-1)]: Done 4469 out of 4500 | elapsed:   26.7s remaining:    0.2s\n",
      "[Parallel(n_jobs=-1)]: Done 4500 out of 4500 | elapsed:   26.9s finished\n"
     ]
    },
    {
     "name": "stdout",
     "output_type": "stream",
     "text": [
      "Fitting 5 folds for each of 900 candidates, totalling 4500 fits\n"
     ]
    },
    {
     "name": "stderr",
     "output_type": "stream",
     "text": [
      "[Parallel(n_jobs=-1)]: Using backend LokyBackend with 16 concurrent workers.\n",
      "[Parallel(n_jobs=-1)]: Done  18 tasks      | elapsed:    0.2s\n",
      "[Parallel(n_jobs=-1)]: Done 304 tasks      | elapsed:    2.0s\n",
      "[Parallel(n_jobs=-1)]: Done 804 tasks      | elapsed:    4.9s\n",
      "[Parallel(n_jobs=-1)]: Done 1504 tasks      | elapsed:    9.1s\n",
      "[Parallel(n_jobs=-1)]: Done 2404 tasks      | elapsed:   14.3s\n",
      "[Parallel(n_jobs=-1)]: Done 3504 tasks      | elapsed:   20.8s\n",
      "[Parallel(n_jobs=-1)]: Done 4500 out of 4500 | elapsed:   26.8s finished\n"
     ]
    },
    {
     "name": "stdout",
     "output_type": "stream",
     "text": [
      "Fitting 5 folds for each of 900 candidates, totalling 4500 fits\n"
     ]
    },
    {
     "name": "stderr",
     "output_type": "stream",
     "text": [
      "[Parallel(n_jobs=-1)]: Using backend LokyBackend with 16 concurrent workers.\n",
      "[Parallel(n_jobs=-1)]: Done  18 tasks      | elapsed:    0.2s\n",
      "[Parallel(n_jobs=-1)]: Done 304 tasks      | elapsed:    2.0s\n",
      "[Parallel(n_jobs=-1)]: Done 804 tasks      | elapsed:    4.9s\n",
      "[Parallel(n_jobs=-1)]: Done 1504 tasks      | elapsed:    9.0s\n",
      "[Parallel(n_jobs=-1)]: Done 2404 tasks      | elapsed:   14.4s\n",
      "[Parallel(n_jobs=-1)]: Done 3504 tasks      | elapsed:   21.0s\n",
      "[Parallel(n_jobs=-1)]: Done 4469 out of 4500 | elapsed:   26.8s remaining:    0.2s\n",
      "[Parallel(n_jobs=-1)]: Done 4500 out of 4500 | elapsed:   26.9s finished\n"
     ]
    },
    {
     "name": "stdout",
     "output_type": "stream",
     "text": [
      "Fitting 5 folds for each of 900 candidates, totalling 4500 fits\n"
     ]
    },
    {
     "name": "stderr",
     "output_type": "stream",
     "text": [
      "[Parallel(n_jobs=-1)]: Using backend LokyBackend with 16 concurrent workers.\n",
      "[Parallel(n_jobs=-1)]: Done  18 tasks      | elapsed:    0.2s\n",
      "[Parallel(n_jobs=-1)]: Done 304 tasks      | elapsed:    2.0s\n",
      "[Parallel(n_jobs=-1)]: Done 804 tasks      | elapsed:    4.9s\n",
      "[Parallel(n_jobs=-1)]: Done 1504 tasks      | elapsed:    9.0s\n",
      "[Parallel(n_jobs=-1)]: Done 2404 tasks      | elapsed:   14.4s\n",
      "[Parallel(n_jobs=-1)]: Done 3504 tasks      | elapsed:   20.9s\n",
      "[Parallel(n_jobs=-1)]: Done 4469 out of 4500 | elapsed:   26.6s remaining:    0.2s\n",
      "[Parallel(n_jobs=-1)]: Done 4500 out of 4500 | elapsed:   26.8s finished\n"
     ]
    },
    {
     "name": "stdout",
     "output_type": "stream",
     "text": [
      "Fitting 5 folds for each of 900 candidates, totalling 4500 fits\n"
     ]
    },
    {
     "name": "stderr",
     "output_type": "stream",
     "text": [
      "[Parallel(n_jobs=-1)]: Using backend LokyBackend with 16 concurrent workers.\n",
      "[Parallel(n_jobs=-1)]: Done  18 tasks      | elapsed:    0.2s\n",
      "[Parallel(n_jobs=-1)]: Done 304 tasks      | elapsed:    2.0s\n",
      "[Parallel(n_jobs=-1)]: Done 804 tasks      | elapsed:    4.9s\n",
      "[Parallel(n_jobs=-1)]: Done 1504 tasks      | elapsed:    9.1s\n",
      "[Parallel(n_jobs=-1)]: Done 2404 tasks      | elapsed:   14.5s\n",
      "[Parallel(n_jobs=-1)]: Done 3504 tasks      | elapsed:   21.0s\n",
      "[Parallel(n_jobs=-1)]: Done 4469 out of 4500 | elapsed:   26.8s remaining:    0.2s\n",
      "[Parallel(n_jobs=-1)]: Done 4500 out of 4500 | elapsed:   26.9s finished\n"
     ]
    },
    {
     "name": "stdout",
     "output_type": "stream",
     "text": [
      "Fitting 5 folds for each of 900 candidates, totalling 4500 fits\n"
     ]
    },
    {
     "name": "stderr",
     "output_type": "stream",
     "text": [
      "[Parallel(n_jobs=-1)]: Using backend LokyBackend with 16 concurrent workers.\n",
      "[Parallel(n_jobs=-1)]: Done  18 tasks      | elapsed:    0.2s\n",
      "[Parallel(n_jobs=-1)]: Done 304 tasks      | elapsed:    2.0s\n",
      "[Parallel(n_jobs=-1)]: Done 804 tasks      | elapsed:    4.9s\n",
      "[Parallel(n_jobs=-1)]: Done 1504 tasks      | elapsed:    9.1s\n",
      "[Parallel(n_jobs=-1)]: Done 2404 tasks      | elapsed:   14.4s\n",
      "[Parallel(n_jobs=-1)]: Done 3504 tasks      | elapsed:   20.9s\n",
      "[Parallel(n_jobs=-1)]: Done 4500 out of 4500 | elapsed:   26.8s finished\n"
     ]
    },
    {
     "name": "stdout",
     "output_type": "stream",
     "text": [
      "Fitting 5 folds for each of 900 candidates, totalling 4500 fits\n"
     ]
    },
    {
     "name": "stderr",
     "output_type": "stream",
     "text": [
      "[Parallel(n_jobs=-1)]: Using backend LokyBackend with 16 concurrent workers.\n",
      "[Parallel(n_jobs=-1)]: Done  18 tasks      | elapsed:    0.2s\n",
      "[Parallel(n_jobs=-1)]: Done 304 tasks      | elapsed:    2.0s\n",
      "[Parallel(n_jobs=-1)]: Done 804 tasks      | elapsed:    4.9s\n",
      "[Parallel(n_jobs=-1)]: Done 1504 tasks      | elapsed:    9.0s\n",
      "[Parallel(n_jobs=-1)]: Done 2404 tasks      | elapsed:   14.4s\n",
      "[Parallel(n_jobs=-1)]: Done 3504 tasks      | elapsed:   20.9s\n",
      "[Parallel(n_jobs=-1)]: Done 4500 out of 4500 | elapsed:   26.9s finished\n"
     ]
    },
    {
     "name": "stdout",
     "output_type": "stream",
     "text": [
      "Fitting 5 folds for each of 900 candidates, totalling 4500 fits\n"
     ]
    },
    {
     "name": "stderr",
     "output_type": "stream",
     "text": [
      "[Parallel(n_jobs=-1)]: Using backend LokyBackend with 16 concurrent workers.\n",
      "[Parallel(n_jobs=-1)]: Done  18 tasks      | elapsed:    0.2s\n",
      "[Parallel(n_jobs=-1)]: Done 304 tasks      | elapsed:    2.0s\n",
      "[Parallel(n_jobs=-1)]: Done 804 tasks      | elapsed:    4.9s\n",
      "[Parallel(n_jobs=-1)]: Done 1504 tasks      | elapsed:    9.1s\n",
      "[Parallel(n_jobs=-1)]: Done 2404 tasks      | elapsed:   14.4s\n",
      "[Parallel(n_jobs=-1)]: Done 3504 tasks      | elapsed:   20.8s\n",
      "[Parallel(n_jobs=-1)]: Done 4469 out of 4500 | elapsed:   26.6s remaining:    0.2s\n",
      "[Parallel(n_jobs=-1)]: Done 4500 out of 4500 | elapsed:   26.7s finished\n"
     ]
    },
    {
     "name": "stdout",
     "output_type": "stream",
     "text": [
      "Fitting 5 folds for each of 900 candidates, totalling 4500 fits\n"
     ]
    },
    {
     "name": "stderr",
     "output_type": "stream",
     "text": [
      "[Parallel(n_jobs=-1)]: Using backend LokyBackend with 16 concurrent workers.\n",
      "[Parallel(n_jobs=-1)]: Done  18 tasks      | elapsed:    0.2s\n",
      "[Parallel(n_jobs=-1)]: Done 304 tasks      | elapsed:    2.0s\n",
      "[Parallel(n_jobs=-1)]: Done 804 tasks      | elapsed:    4.9s\n",
      "[Parallel(n_jobs=-1)]: Done 1504 tasks      | elapsed:    9.1s\n",
      "[Parallel(n_jobs=-1)]: Done 2404 tasks      | elapsed:   14.4s\n",
      "[Parallel(n_jobs=-1)]: Done 3504 tasks      | elapsed:   20.9s\n",
      "[Parallel(n_jobs=-1)]: Done 4469 out of 4500 | elapsed:   26.7s remaining:    0.2s\n",
      "[Parallel(n_jobs=-1)]: Done 4500 out of 4500 | elapsed:   26.9s finished\n"
     ]
    },
    {
     "name": "stdout",
     "output_type": "stream",
     "text": [
      "Fitting 5 folds for each of 900 candidates, totalling 4500 fits\n"
     ]
    },
    {
     "name": "stderr",
     "output_type": "stream",
     "text": [
      "[Parallel(n_jobs=-1)]: Using backend LokyBackend with 16 concurrent workers.\n",
      "[Parallel(n_jobs=-1)]: Done  18 tasks      | elapsed:    0.2s\n",
      "[Parallel(n_jobs=-1)]: Done 304 tasks      | elapsed:    2.0s\n",
      "[Parallel(n_jobs=-1)]: Done 804 tasks      | elapsed:    4.9s\n",
      "[Parallel(n_jobs=-1)]: Done 1504 tasks      | elapsed:    9.0s\n",
      "[Parallel(n_jobs=-1)]: Done 2404 tasks      | elapsed:   14.3s\n",
      "[Parallel(n_jobs=-1)]: Done 3504 tasks      | elapsed:   20.8s\n",
      "[Parallel(n_jobs=-1)]: Done 4500 out of 4500 | elapsed:   26.8s finished\n"
     ]
    },
    {
     "name": "stdout",
     "output_type": "stream",
     "text": [
      "Fitting 5 folds for each of 900 candidates, totalling 4500 fits\n"
     ]
    },
    {
     "name": "stderr",
     "output_type": "stream",
     "text": [
      "[Parallel(n_jobs=-1)]: Using backend LokyBackend with 16 concurrent workers.\n",
      "[Parallel(n_jobs=-1)]: Done  18 tasks      | elapsed:    0.2s\n",
      "[Parallel(n_jobs=-1)]: Done 304 tasks      | elapsed:    2.0s\n",
      "[Parallel(n_jobs=-1)]: Done 804 tasks      | elapsed:    4.9s\n",
      "[Parallel(n_jobs=-1)]: Done 1504 tasks      | elapsed:    9.1s\n",
      "[Parallel(n_jobs=-1)]: Done 2404 tasks      | elapsed:   14.4s\n",
      "[Parallel(n_jobs=-1)]: Done 3504 tasks      | elapsed:   20.9s\n",
      "[Parallel(n_jobs=-1)]: Done 4500 out of 4500 | elapsed:   26.9s finished\n"
     ]
    },
    {
     "name": "stdout",
     "output_type": "stream",
     "text": [
      "Fitting 5 folds for each of 900 candidates, totalling 4500 fits\n"
     ]
    },
    {
     "name": "stderr",
     "output_type": "stream",
     "text": [
      "[Parallel(n_jobs=-1)]: Using backend LokyBackend with 16 concurrent workers.\n",
      "[Parallel(n_jobs=-1)]: Done  18 tasks      | elapsed:    0.2s\n",
      "[Parallel(n_jobs=-1)]: Done 304 tasks      | elapsed:    1.9s\n",
      "[Parallel(n_jobs=-1)]: Done 804 tasks      | elapsed:    4.9s\n",
      "[Parallel(n_jobs=-1)]: Done 1504 tasks      | elapsed:    9.0s\n",
      "[Parallel(n_jobs=-1)]: Done 2404 tasks      | elapsed:   14.4s\n",
      "[Parallel(n_jobs=-1)]: Done 3504 tasks      | elapsed:   20.9s\n",
      "[Parallel(n_jobs=-1)]: Done 4469 out of 4500 | elapsed:   26.7s remaining:    0.2s\n",
      "[Parallel(n_jobs=-1)]: Done 4500 out of 4500 | elapsed:   26.9s finished\n"
     ]
    },
    {
     "name": "stdout",
     "output_type": "stream",
     "text": [
      "Test set score: 0.675 +/- 0.065\n",
      "Recall: 0.608 +/- 0.076\n",
      "AUC: 0.696 +/- 0.020\n"
     ]
    }
   ],
   "source": [
    "# Tuned Model\n",
    "\n",
    "from sklearn.tree import DecisionTreeClassifier, plot_tree\n",
    "from sklearn.model_selection import cross_val_score, train_test_split\n",
    "import sklearn.metrics as metrics\n",
    "from sklearn.metrics import classification_report, recall_score, confusion_matrix, roc_curve, auc\n",
    "from statistics import mean, stdev\n",
    "import sklearn.metrics as metrics\n",
    "from sklearn.model_selection import GridSearchCV\n",
    "\n",
    "feats = {}\n",
    "ds = []\n",
    "d = {}\n",
    "testscore = []\n",
    "recall = []\n",
    "auc = []\n",
    "\n",
    "oversample = SMOTENC(categorical_features=[20, 21, 22, 23, 24])\n",
    "max_features = ['sqrt']\n",
    "max_depth = [int(x) for x in np.linspace(start = 2, stop = 5, num = 4)]\n",
    "min_samples_split = [22,23,24]\n",
    "min_samples_leaf = [6,7,8]\n",
    "ccp_alpha = [float(x) for x in np.linspace(start = 0.00006, stop = 0.00007, num = 25)]\n",
    "\n",
    "param_dist = {'max_features': max_features,\n",
    "              'max_depth': max_depth,\n",
    "              'min_samples_split': min_samples_split,\n",
    "              'min_samples_leaf': min_samples_leaf,\n",
    "              'ccp_alpha': ccp_alpha}\n",
    "\n",
    "for i in range(30):\n",
    "    # Split the data into train and test (75% - 25%)\n",
    "    train_x, test_x, y_train, y_test = train_test_split(df_features,df_labels,test_size=0.25,random_state=i)\n",
    "\n",
    "    # Preprocessing\n",
    "    numerical_train_x = train_x[numerical_cols].reset_index(drop=True)\n",
    "    categorical_train_x = pd.get_dummies(train_x[[var for var in categorical_cols]], drop_first = True).reset_index(drop=True)\n",
    "    X_train = pd.concat([numerical_train_x, categorical_train_x],axis=1)\n",
    "    numerical_test_x = test_x[numerical_cols].reset_index(drop=True)\n",
    "    categorical_test_x = pd.get_dummies(test_x[[var for var in categorical_cols]], drop_first = True).reset_index(drop=True)\n",
    "    X_test = pd.concat([numerical_test_x, categorical_test_x],axis=1)\n",
    "\n",
    "    # Modelling\n",
    "    X, y = oversample.fit_resample(X_train, y_train)\n",
    "    dtc = DecisionTreeClassifier()\n",
    "\n",
    "    gs_dtc = GridSearchCV(dtc, param_dist, cv = 5, verbose = 1, n_jobs=-1)\n",
    "    gs_dtc.fit(X, y)\n",
    "    dtc_gs = gs_dtc.best_estimator_.fit(X, y)\n",
    "    \n",
    "    # coefficients\n",
    "    ds.append(dict(zip(X_train.columns.tolist(), gs_dtc.best_estimator_.feature_importances_)))\n",
    "    \n",
    "    # test_accuracy_base\n",
    "    testscore.append(dtc_gs.score(X_test,y_test))\n",
    "    y_true_base, y_pred_base = y_test , dtc_gs.predict(X_test)\n",
    "    \n",
    "    # recall_base \n",
    "    recall.append(recall_score(y_true_base, y_pred_base))\n",
    "    \n",
    "    probs_base = dtc_gs.predict_proba(X_test)\n",
    "    preds_base = probs_base[:,1]\n",
    "    fpr_base, tpr_base, threshold = metrics.roc_curve(y_true_base, preds_base)\n",
    "    \n",
    "    # roc_auc_base \n",
    "    auc.append(metrics.auc(fpr_base, tpr_base))\n",
    "\n",
    "d1 = ds[0]\n",
    "for k in d1.keys():\n",
    "    d[k] = tuple(d[k] for d in ds)\n",
    "\n",
    "for feature, importance in d.items():\n",
    "    feats[feature] = mean(importance)\n",
    "    \n",
    "print(\"Test set score: {0:.3f} +/- {1:.3f}\".format(mean(testscore), stdev(testscore)))\n",
    "print(\"Recall: {0:.3f} +/- {1:.3f}\".format(mean(recall), stdev(recall)))\n",
    "print(\"AUC: {0:.3f} +/- {1:.3f}\".format(mean(auc), stdev(auc)))"
   ]
  },
  {
   "cell_type": "code",
   "execution_count": 9,
   "metadata": {},
   "outputs": [
    {
     "name": "stdout",
     "output_type": "stream",
     "text": [
      "{'age': 0.05245726296611537, 'length_of_stay': 0.22477301272505643, 'sofa': 0.01025904953866143, 'DiasBP': 0.004673359058931444, 'HeartRate': 0.008377062152809272, 'MAP': 0.008341749856760504, 'SpO2': 0.03157039976743116, 'SysBP': 0.016514810625057087, 'Temperature': 0.007067751444388447, 'BUN': 0.17461423763684558, 'CHLORIDE': 0.0017572399148005342, 'CREATININE': 0.04713552606628381, 'HEMOGLOBIN': 0.005267638202699092, 'PLATELET': 0.013043413998949956, 'POTASSIUM': 0.000992047939914804, 'SODIUM': 0.002287492205955036, 'TOTALCO2': 0.0028726520395691156, 'WBC': 0.00415420707782112, 'bmi': 0.01089418588311381, 'eGFR': 0.04714751734154054, 'gender_M': 0.0007606977864156225, 'service_type_CSRU': 0.214002677807167, 'service_type_MICU': 0.040070218470255, 'service_type_SICU': 0.037145691388533145, 'service_type_TSICU': 0.03382009810492467}\n"
     ]
    }
   ],
   "source": [
    "print(feats)"
   ]
  },
  {
   "cell_type": "code",
   "execution_count": 10,
   "metadata": {},
   "outputs": [
    {
     "data": {
      "image/png": "[encoded data removed]",
      "text/plain": [
       "<Figure size 2160x1080 with 1 Axes>"
      ]
     },
     "metadata": {},
     "output_type": "display_data"
    },
    {
     "data": {
      "text/plain": [
       "None"
      ]
     },
     "metadata": {},
     "output_type": "display_data"
    },
    {
     "data": {
      "text/html": [
       "<div>\n",
       "<style scoped>\n",
       "    .dataframe tbody tr th:only-of-type {\n",
       "        vertical-align: middle;\n",
       "    }\n",
       "\n",
       "    .dataframe tbody tr th {\n",
       "        vertical-align: top;\n",
       "    }\n",
       "\n",
       "    .dataframe thead th {\n",
       "        text-align: right;\n",
       "    }\n",
       "</style>\n",
       "<table border=\"1\" class=\"dataframe\">\n",
       "  <thead>\n",
       "    <tr style=\"text-align: right;\">\n",
       "      <th></th>\n",
       "      <th>Features</th>\n",
       "      <th>Gini-Importance</th>\n",
       "    </tr>\n",
       "  </thead>\n",
       "  <tbody>\n",
       "    <tr>\n",
       "      <th>0</th>\n",
       "      <td>length_of_stay</td>\n",
       "      <td>0.224773</td>\n",
       "    </tr>\n",
       "    <tr>\n",
       "      <th>1</th>\n",
       "      <td>service_type_CSRU</td>\n",
       "      <td>0.214003</td>\n",
       "    </tr>\n",
       "    <tr>\n",
       "      <th>2</th>\n",
       "      <td>BUN</td>\n",
       "      <td>0.174614</td>\n",
       "    </tr>\n",
       "    <tr>\n",
       "      <th>3</th>\n",
       "      <td>age</td>\n",
       "      <td>0.052457</td>\n",
       "    </tr>\n",
       "    <tr>\n",
       "      <th>4</th>\n",
       "      <td>eGFR</td>\n",
       "      <td>0.047148</td>\n",
       "    </tr>\n",
       "    <tr>\n",
       "      <th>5</th>\n",
       "      <td>CREATININE</td>\n",
       "      <td>0.047136</td>\n",
       "    </tr>\n",
       "    <tr>\n",
       "      <th>6</th>\n",
       "      <td>service_type_MICU</td>\n",
       "      <td>0.040070</td>\n",
       "    </tr>\n",
       "    <tr>\n",
       "      <th>7</th>\n",
       "      <td>service_type_SICU</td>\n",
       "      <td>0.037146</td>\n",
       "    </tr>\n",
       "    <tr>\n",
       "      <th>8</th>\n",
       "      <td>service_type_TSICU</td>\n",
       "      <td>0.033820</td>\n",
       "    </tr>\n",
       "    <tr>\n",
       "      <th>9</th>\n",
       "      <td>SpO2</td>\n",
       "      <td>0.031570</td>\n",
       "    </tr>\n",
       "    <tr>\n",
       "      <th>10</th>\n",
       "      <td>SysBP</td>\n",
       "      <td>0.016515</td>\n",
       "    </tr>\n",
       "    <tr>\n",
       "      <th>11</th>\n",
       "      <td>PLATELET</td>\n",
       "      <td>0.013043</td>\n",
       "    </tr>\n",
       "    <tr>\n",
       "      <th>12</th>\n",
       "      <td>bmi</td>\n",
       "      <td>0.010894</td>\n",
       "    </tr>\n",
       "    <tr>\n",
       "      <th>13</th>\n",
       "      <td>sofa</td>\n",
       "      <td>0.010259</td>\n",
       "    </tr>\n",
       "    <tr>\n",
       "      <th>14</th>\n",
       "      <td>HeartRate</td>\n",
       "      <td>0.008377</td>\n",
       "    </tr>\n",
       "    <tr>\n",
       "      <th>15</th>\n",
       "      <td>MAP</td>\n",
       "      <td>0.008342</td>\n",
       "    </tr>\n",
       "    <tr>\n",
       "      <th>16</th>\n",
       "      <td>Temperature</td>\n",
       "      <td>0.007068</td>\n",
       "    </tr>\n",
       "    <tr>\n",
       "      <th>17</th>\n",
       "      <td>HEMOGLOBIN</td>\n",
       "      <td>0.005268</td>\n",
       "    </tr>\n",
       "    <tr>\n",
       "      <th>18</th>\n",
       "      <td>DiasBP</td>\n",
       "      <td>0.004673</td>\n",
       "    </tr>\n",
       "    <tr>\n",
       "      <th>19</th>\n",
       "      <td>WBC</td>\n",
       "      <td>0.004154</td>\n",
       "    </tr>\n",
       "    <tr>\n",
       "      <th>20</th>\n",
       "      <td>TOTALCO2</td>\n",
       "      <td>0.002873</td>\n",
       "    </tr>\n",
       "    <tr>\n",
       "      <th>21</th>\n",
       "      <td>SODIUM</td>\n",
       "      <td>0.002287</td>\n",
       "    </tr>\n",
       "    <tr>\n",
       "      <th>22</th>\n",
       "      <td>CHLORIDE</td>\n",
       "      <td>0.001757</td>\n",
       "    </tr>\n",
       "    <tr>\n",
       "      <th>23</th>\n",
       "      <td>POTASSIUM</td>\n",
       "      <td>0.000992</td>\n",
       "    </tr>\n",
       "    <tr>\n",
       "      <th>24</th>\n",
       "      <td>gender_M</td>\n",
       "      <td>0.000761</td>\n",
       "    </tr>\n",
       "  </tbody>\n",
       "</table>\n",
       "</div>"
      ],
      "text/plain": [
       "              Features  Gini-Importance\n",
       "0       length_of_stay         0.224773\n",
       "1    service_type_CSRU         0.214003\n",
       "2                  BUN         0.174614\n",
       "3                  age         0.052457\n",
       "4                 eGFR         0.047148\n",
       "5           CREATININE         0.047136\n",
       "6    service_type_MICU         0.040070\n",
       "7    service_type_SICU         0.037146\n",
       "8   service_type_TSICU         0.033820\n",
       "9                 SpO2         0.031570\n",
       "10               SysBP         0.016515\n",
       "11            PLATELET         0.013043\n",
       "12                 bmi         0.010894\n",
       "13                sofa         0.010259\n",
       "14           HeartRate         0.008377\n",
       "15                 MAP         0.008342\n",
       "16         Temperature         0.007068\n",
       "17          HEMOGLOBIN         0.005268\n",
       "18              DiasBP         0.004673\n",
       "19                 WBC         0.004154\n",
       "20            TOTALCO2         0.002873\n",
       "21              SODIUM         0.002287\n",
       "22            CHLORIDE         0.001757\n",
       "23           POTASSIUM         0.000992\n",
       "24            gender_M         0.000761"
      ]
     },
     "metadata": {},
     "output_type": "display_data"
    }
   ],
   "source": [
    "importances = pd.DataFrame.from_dict(feats, orient='index').rename(columns={0: 'Gini-Importance'})\n",
    "importances = importances.sort_values(by='Gini-Importance', ascending=False)\n",
    "importances = importances.reset_index()\n",
    "importances = importances.rename(columns={'index': 'Features'})\n",
    "sns.set(font_scale = 5)\n",
    "sns.set(style=\"whitegrid\", color_codes=True, font_scale = 1.7)\n",
    "fig, ax = plt.subplots()\n",
    "fig.set_size_inches(30,15)\n",
    "sns.barplot(x=importances['Gini-Importance'], y=importances['Features'], data=importances, color='skyblue')\n",
    "plt.xlabel('Importance', fontsize=25, weight = 'bold')\n",
    "plt.ylabel('Features', fontsize=25, weight = 'bold')\n",
    "plt.title('Feature Importance', fontsize=25, weight = 'bold')\n",
    "display(plt.show())\n",
    "display(importances)"
   ]
  },
  {
   "cell_type": "code",
   "execution_count": null,
   "metadata": {},
   "outputs": [],
   "source": []
  }
 ],
 "metadata": {
  "kernelspec": {
   "display_name": "Python 3",
   "language": "python",
   "name": "python3"
  },
  "language_info": {
   "codemirror_mode": {
    "name": "ipython",
    "version": 3
   },
   "file_extension": ".py",
   "mimetype": "text/x-python",
   "name": "python",
   "nbconvert_exporter": "python",
   "pygments_lexer": "ipython3",
   "version": "3.8.5"
  }
 },
 "nbformat": 4,
 "nbformat_minor": 4
}
