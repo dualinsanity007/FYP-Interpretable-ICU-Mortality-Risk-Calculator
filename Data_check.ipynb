{
 "cells": [
  {
   "cell_type": "code",
   "execution_count": 1,
   "metadata": {},
   "outputs": [
    {
     "name": "stdout",
     "output_type": "stream",
     "text": [
      "<class 'pandas.core.frame.DataFrame'>\n",
      "RangeIndex: 2522 entries, 0 to 2521\n",
      "Data columns (total 45 columns):\n",
      " #   Column                Non-Null Count  Dtype  \n",
      "---  ------                --------------  -----  \n",
      " 0   subject_id            2522 non-null   int64  \n",
      " 1   hadm_id               2522 non-null   int64  \n",
      " 2   icustay_id            2522 non-null   int64  \n",
      " 3   age                   2522 non-null   float64\n",
      " 4   gender                2522 non-null   object \n",
      " 5   day_icu_intime        2522 non-null   object \n",
      " 6   hour_icu_intime       2522 non-null   int64  \n",
      " 7   OUTCOME_icu_exp_flag  2522 non-null   int64  \n",
      " 8   OUTCOME_day_28_flag   2522 non-null   int64  \n",
      " 9   aline_flag            2522 non-null   int64  \n",
      " 10  aline_time_day        2522 non-null   float64\n",
      " 11  weight_first          2445 non-null   float64\n",
      " 12  height_first          897 non-null    float64\n",
      " 13  bmi                   897 non-null    float64\n",
      " 14  service_unit          2521 non-null   object \n",
      " 15  sofa_first            2522 non-null   int64  \n",
      " 16  map_first             2522 non-null   float64\n",
      " 17  hr_first              2522 non-null   int64  \n",
      " 18  temp_first            2512 non-null   float64\n",
      " 19  spo2_first            2519 non-null   float64\n",
      " 20  bun_first             2473 non-null   float64\n",
      " 21  creatinine_first      2473 non-null   float64\n",
      " 22  chloride_first        2480 non-null   float64\n",
      " 23  hgb_first             2478 non-null   float64\n",
      " 24  platelet_first        2470 non-null   float64\n",
      " 25  potassium_first       2484 non-null   float64\n",
      " 26  sodium_first          2480 non-null   float64\n",
      " 27  tco2_first            2496 non-null   float64\n",
      " 28  wbc_first             2469 non-null   float64\n",
      " 29  chf_flag              2522 non-null   int64  \n",
      " 30  afib_flag             2522 non-null   int64  \n",
      " 31  renal_flag            2522 non-null   int64  \n",
      " 32  liver_flag            2522 non-null   int64  \n",
      " 33  copd_flag             2522 non-null   int64  \n",
      " 34  cad_flag              2522 non-null   int64  \n",
      " 35  stroke_flag           2522 non-null   int64  \n",
      " 36  malignancy_flag       2522 non-null   int64  \n",
      " 37  respfail_flag         2522 non-null   int64  \n",
      " 38  endocarditis_flag     2522 non-null   int64  \n",
      " 39  ards_flag             2522 non-null   int64  \n",
      " 40  pneumonia_flag        2522 non-null   int64  \n",
      " 41  sedative_flag         2522 non-null   int64  \n",
      " 42  midazolam_flag        2522 non-null   int64  \n",
      " 43  fentanyl_flag         2522 non-null   int64  \n",
      " 44  propofol_flag         2522 non-null   int64  \n",
      "dtypes: float64(17), int64(25), object(3)\n",
      "memory usage: 886.8+ KB\n"
     ]
    }
   ],
   "source": [
    "import pandas as pd\n",
    "import numpy as np\n",
    "df_train = pd.read_csv('alinefinal.csv')\n",
    "\n",
    "#check if there is any missing value\n",
    "df_train.info()"
   ]
  },
  {
   "cell_type": "code",
   "execution_count": 3,
   "metadata": {},
   "outputs": [
    {
     "data": {
      "image/png": "[encoded data removed]",
      "text/plain": [
       "<Figure size 432x288 with 1 Axes>"
      ]
     },
     "metadata": {
      "needs_background": "light"
     },
     "output_type": "display_data"
    }
   ],
   "source": [
    "# For linear regression to estimate height\n",
    "\n",
    "import pandas as pd\n",
    "import matplotlib.pyplot as plt\n",
    "\n",
    "df_data = pd.read_csv('alinefinal_ht.csv')\n",
    "\n",
    "# Check linearity between variables -> note the anomaly\n",
    "plt.scatter(df_data['age'], df_data['height_first'], color='red')\n",
    "plt.title('Age Vs Ht', fontsize=14)\n",
    "plt.xlabel('Age', fontsize=14)\n",
    "plt.ylabel('Ht', fontsize=14)\n",
    "plt.grid(True)\n",
    "plt.show()"
   ]
  },
  {
   "cell_type": "code",
   "execution_count": 9,
   "metadata": {},
   "outputs": [
    {
     "name": "stdout",
     "output_type": "stream",
     "text": [
      "                            OLS Regression Results                            \n",
      "==============================================================================\n",
      "Dep. Variable:                    bmi   R-squared:                       0.007\n",
      "Model:                            OLS   Adj. R-squared:                  0.003\n",
      "Method:                 Least Squares   F-statistic:                     1.982\n",
      "Date:                Fri, 26 Jun 2020   Prob (F-statistic):              0.115\n",
      "Time:                        22:13:38   Log-Likelihood:                 2527.9\n",
      "No. Observations:                 897   AIC:                            -5048.\n",
      "Df Residuals:                     893   BIC:                            -5029.\n",
      "Df Model:                           3                                         \n",
      "Covariance Type:            nonrobust                                         \n",
      "================================================================================\n",
      "                   coef    std err          t      P>|t|      [0.025      0.975]\n",
      "--------------------------------------------------------------------------------\n",
      "const        -9.777e-05      0.002     -0.050      0.960      -0.004       0.004\n",
      "age          -3.887e-06   1.08e-05     -0.360      0.719   -2.51e-05    1.73e-05\n",
      "M                0.0003      0.001      0.257      0.797      -0.002       0.002\n",
      "weight_first   4.36e-05   2.02e-05      2.155      0.031    3.89e-06    8.33e-05\n",
      "==============================================================================\n",
      "Omnibus:                     2398.187   Durbin-Watson:                   1.938\n",
      "Prob(Omnibus):                  0.000   Jarque-Bera (JB):         28512570.429\n",
      "Skew:                          29.395   Prob(JB):                         0.00\n",
      "Kurtosis:                     874.448   Cond. No.                         437.\n",
      "==============================================================================\n",
      "\n",
      "Warnings:\n",
      "[1] Standard Errors assume that the covariance matrix of the errors is correctly specified.\n"
     ]
    }
   ],
   "source": [
    "# OLS Linear Regression\n",
    "\n",
    "import pandas as pd\n",
    "from sklearn import linear_model\n",
    "import statsmodels.api as sm\n",
    "\n",
    "df_data = pd.read_csv('alinefinal_ht.csv')\n",
    "\n",
    "# convert gender to binary (M - 1, F - 0)\n",
    "df_data2 = df_data.join(pd.get_dummies(df_data.pop('gender')))\n",
    "\n",
    "X = df_data2[['age','M','weight_first']] \n",
    "Y = df_data2['bmi']\n",
    " \n",
    "# with statsmodels\n",
    "X = sm.add_constant(X) # adding a constant\n",
    " \n",
    "model = sm.OLS(Y, X).fit()\n",
    "predictions = model.predict(X) \n",
    " \n",
    "print_model = model.summary()\n",
    "print(print_model)"
   ]
  },
  {
   "cell_type": "code",
   "execution_count": 17,
   "metadata": {},
   "outputs": [
    {
     "data": {
      "text/plain": [
       "count    897.000000\n",
       "mean       0.003433\n",
       "std        0.014505\n",
       "min        0.000815\n",
       "25%        0.002325\n",
       "50%        0.002683\n",
       "75%        0.003152\n",
       "max        0.434431\n",
       "Name: bmi, dtype: float64"
      ]
     },
     "execution_count": 17,
     "metadata": {},
     "output_type": "execute_result"
    }
   ],
   "source": [
    "df_data2['bmi'].describe()"
   ]
  },
  {
   "cell_type": "code",
   "execution_count": 16,
   "metadata": {},
   "outputs": [
    {
     "data": {
      "text/plain": [
       "count    897.000000\n",
       "mean     169.868517\n",
       "std       17.076515\n",
       "min       15.240000\n",
       "25%      162.560000\n",
       "50%      170.180000\n",
       "75%      177.800000\n",
       "max      444.500000\n",
       "Name: height_first, dtype: float64"
      ]
     },
     "execution_count": 16,
     "metadata": {},
     "output_type": "execute_result"
    }
   ],
   "source": [
    "df_data2['height_first'].describe()"
   ]
  },
  {
   "cell_type": "markdown",
   "metadata": {},
   "source": [
    "# Data Statistics for height, weight and bmi"
   ]
  },
  {
   "cell_type": "code",
   "execution_count": 5,
   "metadata": {},
   "outputs": [
    {
     "data": {
      "text/plain": [
       "False"
      ]
     },
     "execution_count": 5,
     "metadata": {},
     "output_type": "execute_result"
    }
   ],
   "source": [
    "import pandas as pd\n",
    "\n",
    "df = pd.read_csv('Aline ht_wt_bmi.csv')\n",
    "df.isnull().values.any()"
   ]
  },
  {
   "cell_type": "code",
   "execution_count": 6,
   "metadata": {},
   "outputs": [
    {
     "data": {
      "text/plain": [
       "(897, 3)"
      ]
     },
     "execution_count": 6,
     "metadata": {},
     "output_type": "execute_result"
    }
   ],
   "source": [
    "df.shape"
   ]
  },
  {
   "cell_type": "code",
   "execution_count": 7,
   "metadata": {},
   "outputs": [
    {
     "data": {
      "image/png": "[encoded data removed]",
      "text/plain": [
       "<Figure size 432x288 with 1 Axes>"
      ]
     },
     "metadata": {
      "needs_background": "light"
     },
     "output_type": "display_data"
    }
   ],
   "source": [
    "ax1 = df.plot.scatter(x='weight_first',\n",
    "                      y='height_first',\n",
    "                      c='DarkBlue')"
   ]
  },
  {
   "cell_type": "code",
   "execution_count": 8,
   "metadata": {},
   "outputs": [
    {
     "data": {
      "image/png": "[encoded data removed]",
      "text/plain": [
       "<Figure size 432x288 with 1 Axes>"
      ]
     },
     "metadata": {
      "needs_background": "light"
     },
     "output_type": "display_data"
    }
   ],
   "source": [
    "ax2 = df.plot.scatter(x='weight_first',\n",
    "                      y='bmi',\n",
    "                      c='DarkBlue')"
   ]
  },
  {
   "cell_type": "code",
   "execution_count": 9,
   "metadata": {},
   "outputs": [
    {
     "data": {
      "image/png": "[encoded data removed]",
      "text/plain": [
       "<Figure size 432x288 with 1 Axes>"
      ]
     },
     "metadata": {
      "needs_background": "light"
     },
     "output_type": "display_data"
    }
   ],
   "source": [
    "ax3 = df.plot.scatter(x='height_first',\n",
    "                      y='bmi',\n",
    "                      c='DarkBlue')"
   ]
  },
  {
   "cell_type": "code",
   "execution_count": 14,
   "metadata": {},
   "outputs": [
    {
     "data": {
      "text/plain": [
       "count    897.000000\n",
       "mean     169.868517\n",
       "std       17.076515\n",
       "min       15.240000\n",
       "25%      162.560000\n",
       "50%      170.180000\n",
       "75%      177.800000\n",
       "max      444.500000\n",
       "Name: height_first, dtype: float64"
      ]
     },
     "execution_count": 14,
     "metadata": {},
     "output_type": "execute_result"
    }
   ],
   "source": [
    "df[\"height_first\"].describe()"
   ]
  },
  {
   "cell_type": "code",
   "execution_count": 19,
   "metadata": {},
   "outputs": [
    {
     "data": {
      "text/plain": [
       "count    889.000000\n",
       "mean      82.726659\n",
       "std       24.965063\n",
       "min       26.600000\n",
       "25%       66.700000\n",
       "50%       79.000000\n",
       "75%       94.000000\n",
       "max      225.000000\n",
       "Name: weight_first, dtype: float64"
      ]
     },
     "execution_count": 19,
     "metadata": {},
     "output_type": "execute_result"
    }
   ],
   "source": [
    "df[\"weight_first\"].describe()"
   ]
  },
  {
   "cell_type": "code",
   "execution_count": 20,
   "metadata": {},
   "outputs": [],
   "source": [
    "# Removed height, weight anomalies\n",
    "\n",
    "df = pd.read_csv('Aline ht_wt_bmi.csv')"
   ]
  },
  {
   "cell_type": "code",
   "execution_count": 21,
   "metadata": {},
   "outputs": [
    {
     "data": {
      "image/png": "[encoded data removed]",
      "text/plain": [
       "<Figure size 432x288 with 1 Axes>"
      ]
     },
     "metadata": {
      "needs_background": "light"
     },
     "output_type": "display_data"
    }
   ],
   "source": [
    "ax4 = df.plot.scatter(x='weight_first',\n",
    "                      y='height_first',\n",
    "                      c='DarkBlue')"
   ]
  },
  {
   "cell_type": "code",
   "execution_count": 27,
   "metadata": {},
   "outputs": [
    {
     "data": {
      "image/png": "[encoded data removed]",
      "text/plain": [
       "<Figure size 432x288 with 1 Axes>"
      ]
     },
     "metadata": {
      "needs_background": "light"
     },
     "output_type": "display_data"
    }
   ],
   "source": [
    "ax6 = df.plot(ylim = (0,0.01),\n",
    "              kind ='scatter', \n",
    "              x='height_first',\n",
    "              y='bmi',\n",
    "              c='DarkBlue')"
   ]
  },
  {
   "cell_type": "code",
   "execution_count": 25,
   "metadata": {},
   "outputs": [
    {
     "data": {
      "image/png": "[encoded data removed]",
      "text/plain": [
       "<Figure size 432x288 with 1 Axes>"
      ]
     },
     "metadata": {
      "needs_background": "light"
     },
     "output_type": "display_data"
    }
   ],
   "source": [
    "# bmi = weight/height^2\n",
    "\n",
    "ax5 = df.plot(ylim = (0,0.01),\n",
    "              kind ='scatter', \n",
    "              x='weight_first',\n",
    "              y='bmi',\n",
    "              c='DarkBlue')"
   ]
  },
  {
   "cell_type": "code",
   "execution_count": 28,
   "metadata": {},
   "outputs": [
    {
     "name": "stdout",
     "output_type": "stream",
     "text": [
      "                            OLS Regression Results                            \n",
      "==============================================================================\n",
      "Dep. Variable:                    bmi   R-squared:                       0.805\n",
      "Model:                            OLS   Adj. R-squared:                  0.805\n",
      "Method:                 Least Squares   F-statistic:                     3663.\n",
      "Date:                Sat, 18 Jul 2020   Prob (F-statistic):          5.46e-317\n",
      "Time:                        21:41:07   Log-Likelihood:                 5783.1\n",
      "No. Observations:                 888   AIC:                        -1.156e+04\n",
      "Df Residuals:                     886   BIC:                        -1.155e+04\n",
      "Df Model:                           1                                         \n",
      "Covariance Type:            nonrobust                                         \n",
      "================================================================================\n",
      "                   coef    std err          t      P>|t|      [0.025      0.975]\n",
      "--------------------------------------------------------------------------------\n",
      "const            0.0004   4.19e-05      9.859      0.000       0.000       0.000\n",
      "weight_first  2.935e-05   4.85e-07     60.522      0.000    2.84e-05    3.03e-05\n",
      "==============================================================================\n",
      "Omnibus:                      212.720   Durbin-Watson:                   1.601\n",
      "Prob(Omnibus):                  0.000   Jarque-Bera (JB):              682.797\n",
      "Skew:                           1.151   Prob(JB):                    5.40e-149\n",
      "Kurtosis:                       6.627   Cond. No.                         300.\n",
      "==============================================================================\n",
      "\n",
      "Warnings:\n",
      "[1] Standard Errors assume that the covariance matrix of the errors is correctly specified.\n"
     ]
    }
   ],
   "source": [
    "from sklearn import linear_model\n",
    "import statsmodels.api as sm\n",
    "\n",
    "X = df['weight_first'] \n",
    "Y = df['bmi']\n",
    " \n",
    "# with statsmodels\n",
    "X = sm.add_constant(X) # adding a constant\n",
    " \n",
    "model = sm.OLS(Y, X).fit()\n",
    "predictions = model.predict(X) \n",
    " \n",
    "print_model = model.summary()\n",
    "print(print_model)\n",
    "\n",
    "# R^2 = 0.805, but we are missing weight and bmi. \n",
    "# There shouldn't be much correlation between weight/bmi vs height according to the scatter plot."
   ]
  },
  {
   "cell_type": "code",
   "execution_count": null,
   "metadata": {},
   "outputs": [],
   "source": []
  }
 ],
 "metadata": {
  "kernelspec": {
   "display_name": "Python 3",
   "language": "python",
   "name": "python3"
  },
  "language_info": {
   "codemirror_mode": {
    "name": "ipython",
    "version": 3
   },
   "file_extension": ".py",
   "mimetype": "text/x-python",
   "name": "python",
   "nbconvert_exporter": "python",
   "pygments_lexer": "ipython3",
   "version": "3.7.6"
  }
 },
 "nbformat": 4,
 "nbformat_minor": 4
}
